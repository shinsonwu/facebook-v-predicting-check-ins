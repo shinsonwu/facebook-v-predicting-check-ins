{
 "cells": [
  {
   "cell_type": "code",
   "execution_count": 1,
   "metadata": {
    "collapsed": false
   },
   "outputs": [
    {
     "name": "stdout",
     "output_type": "stream",
     "text": [
      "/home/ubuntu/facebook/scripts\n"
     ]
    }
   ],
   "source": [
    "cd scripts/"
   ]
  },
  {
   "cell_type": "code",
   "execution_count": 2,
   "metadata": {
    "collapsed": true
   },
   "outputs": [],
   "source": [
    "import numpy as np\n",
    "#Import libraries:\n",
    "import pandas as pd\n",
    "import numpy as np\n",
    "from sklearn.ensemble import GradientBoostingClassifier  #GBM algorithm\n",
    "from sklearn import cross_validation, metrics   #Additional scklearn functions\n",
    "from sklearn.grid_search import GridSearchCV   #Perforing grid search\n",
    "\n",
    "import matplotlib.pylab as plt\n",
    "%matplotlib inline\n",
    "from matplotlib.pylab import rcParams\n",
    "rcParams['figure.figsize'] = 12, 4\n",
    "\n",
    "from sklearn.cross_validation import train_test_split\n",
    "import pickle\n",
    "\n",
    "from sklearn.preprocessing import LabelEncoder\n",
    "\n",
    "import xgboost as xgb"
   ]
  },
  {
   "cell_type": "code",
   "execution_count": 3,
   "metadata": {
    "collapsed": true
   },
   "outputs": [],
   "source": [
    "def transform_x(X, x_transformer = None):\n",
    "    \"\"\"\n",
    "    X = [[x, y, a, t]]\n",
    "    \"\"\"\n",
    "    fw = [500., 1000., 4., 3., 2., 10., 10.]\n",
    "    minute_v = X[:, 3]%60\n",
    "    hour_v = X[:, 3]//60\n",
    "    weekday_v = hour_v//24\n",
    "    month_v = weekday_v//30\n",
    "    year_v = (weekday_v//365 + 1)*fw[5]\n",
    "    hour_v = ((hour_v%24 + 1) + minute_v/60.0)*fw[2]\n",
    "    hour_v_2 = (X[:, 3]%(60*60*24))//(60*60*2)\n",
    "    hour_v_3 = (X[:, 3]%(60*60*24))//(60*60*3)\n",
    "    hour_v_4 = (X[:, 3]%(60*60*24))//(60*60*4)\n",
    "    hour_v_6 = (X[:, 3]%(60*60*24))//(60*60*6)\n",
    "    hour_v_8 = (X[:, 3]%(60*60*24))//(60*60*8)\n",
    "    weekday_v = (weekday_v%7 + 1)*fw[3]\n",
    "    month_v = (month_v%12 +1)*fw[4]\n",
    "    accuracy_v = np.log10(X[:, 2])*fw[6]\n",
    "    x_v = X[:, 0]*fw[0]\n",
    "    y_v = X[:, 1]*fw[1]\n",
    "    return np.hstack((x_v.reshape(-1, 1),\n",
    "                     y_v.reshape(-1, 1),\n",
    "                     accuracy_v.reshape(-1, 1),\n",
    "                     hour_v.reshape(-1, 1),\n",
    "                     hour_v_2.reshape(-1, 1),\n",
    "                     hour_v_3.reshape(-1, 1),\n",
    "                     hour_v_4.reshape(-1, 1),\n",
    "                     hour_v_6.reshape(-1, 1),\n",
    "                     hour_v_8.reshape(-1, 1),\n",
    "                     weekday_v.reshape(-1, 1),\n",
    "                     month_v.reshape(-1, 1),\n",
    "                     year_v.reshape(-1, 1)))\n",
    "\n",
    "def transform_y(y, y_transformer = None):\n",
    "    \"\"\"\n",
    "    place_ids to encoded array\n",
    "    \"\"\"\n",
    "    y = y.astype(int)\n",
    "    if y_transformer == None:\n",
    "        label_encoder = LabelEncoder()\n",
    "        label_encoder.fit(y)\n",
    "        y_transformer = {'encoder': label_encoder}\n",
    "    new_y = y_transformer['encoder'].transform(y).reshape(-1, 1)\n",
    "    return (new_y, y_transformer)\n",
    "\n",
    "def map3eval(preds, dtrain):\n",
    "    actual = dtrain.get_label()\n",
    "    predicted = preds.argsort(axis=1)[:,-np.arange(1,4)]\n",
    "    metric = 0.\n",
    "    for i in range(3):\n",
    "        metric += np.sum(actual==predicted[:,i])/(i+1)\n",
    "    metric /= actual.shape[0]\n",
    "    return 'MAP@3', metric\n",
    "\n",
    "def load_data(m, n):\n",
    "    return np.loadtxt('../grid1_400_100_50_10/grid_data_' + str(m)  + '_' + str(n) + '.csv', delimiter = ',')\n",
    "\n",
    "def get_preds(probs, encoder):\n",
    "    return encoder.inverse_transform(np.argsort(probs, axis = 1)[:, ::-1][:, :3])\n",
    "\n",
    "m, n = 12, 40\n",
    "data = load_data(m, n)\n",
    "\n",
    "M = pickle.load(open('../grid1_400_100_50_10/cardinality_pickle.pkl', 'rb'))\n",
    "\n",
    "train, test = train_test_split(data, test_size = 0.02)\n",
    "\n",
    "mask = np.array(map(lambda x: M[m][n][x] > 20, train[:, 5]))\n",
    "card_train = train[mask, :]\n",
    "print card_train.shape, \"card_train_shape\"\n",
    "print train.shape, \"train_shape\"\n",
    "print test.shape, \"test_shape\"\n",
    "\n",
    "\n",
    "X = transform_x(card_train[:, (1, 2, 3, 4)])\n",
    "y_orig, enc = transform_y(data[:, 5])\n",
    "y, enc = transform_y(card_train[:, 5], enc)\n",
    "test_X = transform_x(test[:, (1, 2, 3, 4)])\n",
    "test_y, enc = transform_y(test[:, 5], enc)\n",
    "print X.shape, \"X shape\"\n",
    "print y.shape, \"y shape\"\n",
    "print test_X.shape, \"test_X shape\"\n",
    "print test_y.shape, \"test_y shape\"\n",
    "print len(enc['encoder'].classes_)\n",
    "\n",
    "dtrain = xgb.DMatrix(X, label=np.ravel(y))\n",
    "dtest = xgb.DMatrix(test_X, label=np.ravel(test_y))"
   ]
  },
  {
   "cell_type": "code",
   "execution_count": 8,
   "metadata": {
    "collapsed": false
   },
   "outputs": [
    {
     "name": "stdout",
     "output_type": "stream",
     "text": [
      "gamma is 0.0\n",
      "map of current iteration is 0.762731\n",
      "Best combination found and it is (gamma: 0.0) with map@3: 0.762731\n",
      "gamma is 0.1\n",
      "map of current iteration is 0.762730666667\n",
      "gamma is 0.2\n",
      "map of current iteration is 0.763497\n",
      "Best combination found and it is (gamma: 0.2) with map@3: 0.763497\n",
      "gamma is 0.3\n",
      "map of current iteration is 0.763566666667\n",
      "Best combination found and it is (gamma: 0.3) with map@3: 0.763566666667\n",
      "gamma is 0.4\n",
      "map of current iteration is 0.762452333333\n",
      "~~~~~~~~~results~~~~~~~~~~~~~~~~\n",
      "best gamma is: 0.3\n",
      "best_map 0.763566666667\n"
     ]
    }
   ],
   "source": [
    "best_map = 0\n",
    "best_gamma = 0\n",
    "results4 = []\n",
    "for gamma in [i/10.0 for i in range(5)]:\n",
    "    #for min_child_weight in range(5, 16, 2):\n",
    "        print \"gamma is %s\" %(gamma)\n",
    "        #print \"min_child_weight is %s\" %(min_child_weight)\n",
    "        temp_cv = xgb.cv({'num_class': len(enc['encoder'].classes_),\n",
    "                 'silent': 0,\n",
    "                 'nthread': 8,\n",
    "                 'eta': 0.1,\n",
    "                 'objective': 'multi:softprob',\n",
    "                 'max_depth': 9,\n",
    "                 'min_child_weight': 5,\n",
    "                 'gamma': gamma,\n",
    "                 'subsample': 0.8,\n",
    "                 'colsample_bytree': 0.8,\n",
    "                 'scale_pos_weight': 1\n",
    "              },\n",
    "                dtrain, num_boost_round = 100, early_stopping_rounds = 20, \n",
    "                feval = map3eval, maximize = True\n",
    "            )\n",
    "        temp_map = temp_cv['test-MAP@3-mean'][temp_cv.shape[0]-1]\n",
    "        results4.append([gamma, temp_map])\n",
    "        print \"map of current iteration is %s\" %(temp_map)\n",
    "        if temp_map > best_map:\n",
    "            print \"Best combination found and it is (gamma: %s) with map@3: %s\" %(gamma, temp_map)\n",
    "            best_map = temp_map\n",
    "            best_gamma = gamma\n",
    "            \n",
    "\n",
    "print \"~~~~~~~~~results~~~~~~~~~~~~~~~~\"\n",
    "print \"best gamma is: %s\" %(best_gamma)\n",
    "#print \"best min child weight is: %s\" %(best_min_child_weight)\n",
    "print \"best_map\", str(best_map)"
   ]
  },
  {
   "cell_type": "code",
   "execution_count": 9,
   "metadata": {
    "collapsed": false
   },
   "outputs": [
    {
     "name": "stdout",
     "output_type": "stream",
     "text": [
      "gamma is 0.2\n",
      "map of current iteration is 0.763497\n",
      "Best combination found and it is (gamma: 0.2) with map@3: 0.763497\n",
      "gamma is 0.23\n",
      "map of current iteration is 0.762522\n",
      "gamma is 0.26\n",
      "map of current iteration is 0.762104\n",
      "gamma is 0.29\n",
      "map of current iteration is 0.763497\n",
      "gamma is 0.32\n",
      "map of current iteration is 0.762243333333\n",
      "gamma is 0.35\n",
      "map of current iteration is 0.762730666667\n",
      "gamma is 0.38\n",
      "map of current iteration is 0.763148666667\n",
      "~~~~~~~~~results~~~~~~~~~~~~~~~~\n",
      "best gamma is: 0.2\n",
      "best_map 0.763497\n"
     ]
    }
   ],
   "source": [
    "best_map = 0\n",
    "best_gamma = 0\n",
    "results5 = []\n",
    "for gamma in [i/100.0 for i in range(20, 40, 3)]:\n",
    "    #for min_child_weight in range(5, 16, 2):\n",
    "        print \"gamma is %s\" %(gamma)\n",
    "        #print \"min_child_weight is %s\" %(min_child_weight)\n",
    "        temp_cv = xgb.cv({'num_class': len(enc['encoder'].classes_),\n",
    "                 'silent': 0,\n",
    "                 'nthread': 8,\n",
    "                 'eta': 0.1,\n",
    "                 'objective': 'multi:softprob',\n",
    "                 'max_depth': 9,\n",
    "                 'min_child_weight': 5,\n",
    "                 'gamma': gamma,\n",
    "                 'subsample': 0.8,\n",
    "                 'colsample_bytree': 0.8,\n",
    "                 'scale_pos_weight': 1\n",
    "              },\n",
    "                dtrain, num_boost_round = 100, early_stopping_rounds = 20, \n",
    "                feval = map3eval, maximize = True\n",
    "            )\n",
    "        temp_map = temp_cv['test-MAP@3-mean'][temp_cv.shape[0]-1]\n",
    "        results5.append([gamma, temp_map])\n",
    "        print \"map of current iteration is %s\" %(temp_map)\n",
    "        if temp_map > best_map:\n",
    "            print \"Best combination found and it is (gamma: %s) with map@3: %s\" %(gamma, temp_map)\n",
    "            best_map = temp_map\n",
    "            best_gamma = gamma\n",
    "            \n",
    "\n",
    "print \"~~~~~~~~~results~~~~~~~~~~~~~~~~\"\n",
    "print \"best gamma is: %s\" %(best_gamma)\n",
    "#print \"best min child weight is: %s\" %(best_min_child_weight)\n",
    "print \"best_map\", str(best_map)"
   ]
  },
  {
   "cell_type": "code",
   "execution_count": null,
   "metadata": {
    "collapsed": true
   },
   "outputs": [],
   "source": []
  }
 ],
 "metadata": {
  "kernelspec": {
   "display_name": "Python 2",
   "language": "python",
   "name": "python2"
  },
  "language_info": {
   "codemirror_mode": {
    "name": "ipython",
    "version": 2
   },
   "file_extension": ".py",
   "mimetype": "text/x-python",
   "name": "python",
   "nbconvert_exporter": "python",
   "pygments_lexer": "ipython2",
   "version": "2.7.6"
  }
 },
 "nbformat": 4,
 "nbformat_minor": 0
}
