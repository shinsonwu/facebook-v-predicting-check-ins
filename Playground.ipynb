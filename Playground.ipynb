{
 "cells": [
  {
   "cell_type": "code",
   "execution_count": null,
   "metadata": {
    "collapsed": false
   },
   "outputs": [],
   "source": [
    "import scripts\n",
    "import numpy as np\n",
    "import random\n",
    "import time\n",
    "import csv\n",
    "import pickle\n",
    "from sklearn.preprocessing import LabelEncoder, OneHotEncoder\n",
    "import matplotlib.pyplot as plt\n",
    "from scripts import helpers\n",
    "\n",
    "import base_scikit_learn_model as sk\n",
    "import grid_generation as grid"
   ]
  },
  {
   "cell_type": "code",
   "execution_count": null,
   "metadata": {
    "collapsed": true
   },
   "outputs": [],
   "source": [
    "data = np.loadtxt('grid_800_400_0_0/grid_data_0_0.csv', dtype = float, delimiter = ',')\n",
    "M = pickle.load(open('grid_800_400_0_0/cardinality_pickle.pkl', 'rb'))\n",
    "m00 = M[0][0]\n",
    "sorted_m00 = sorted(m00.items(), cmp = lambda x, y: cmp(x[1], y[1]), reverse = True)\n",
    "mask = np.array(map(lambda x: m00[x] > 20, data[:, 5]))\n",
    "masked_data = data[mask, :]"
   ]
  },
  {
   "cell_type": "code",
   "execution_count": null,
   "metadata": {
    "collapsed": false
   },
   "outputs": [],
   "source": [
    "y = masked_data[:, 5].astype(int)\n",
    "\n",
    "label_encoder = LabelEncoder()\n",
    "label_encoder.fit(y)\n",
    "\n",
    "le_y = label_encoder.transform(y)\n",
    "le_y = le_y.reshape(-1, 1)\n",
    "\n",
    "oh_encoder = OneHotEncoder()\n",
    "oh_encoder.fit(le_y)\n",
    "oh_y = oh_encoder.transform(le_y)\n",
    "\n",
    "Y = le_y\n",
    "X = masked_data[:, (1,2,3,4)]\n",
    "\n",
    "days = lambda t: (int(t) % (86400*7))/ 86400\n",
    "hours = lambda t: (int(t) % 86400) / 3600\n",
    "\n",
    "days_v = np.array(map(days, X[:, 3])).reshape(-1, 1)\n",
    "hours_v = np.array(map(hours, X[:, 3])).reshape(-1, 1)\n",
    "\n",
    "main_x = np.hstack((X[:, (0, 1, 2)], days_v, hours_v))"
   ]
  },
  {
   "cell_type": "code",
   "execution_count": null,
   "metadata": {
    "collapsed": false
   },
   "outputs": [],
   "source": [
    "from sklearn.neighbors import KNeighborsClassifier\n",
    "\n",
    "clf = KNeighborsClassifier(n_neighbors=29, weights='distance', metric='manhattan')\n",
    "clf.fit(main_x, Y)\n",
    "\n",
    "pred_Y_prob = clf.predict_proba(main_x)\n",
    "pred_labels = label_encoder.inverse_transform(np.argsort(pred_Y_prob, axis=1)[:,::-1][:,:3]) \n",
    "apk_arr = np.hstack((masked_data[:, -1].reshape(-1, 1), pred_labels))\n",
    "apk_arr = apk_arr.astype(int)\n",
    "\n",
    "apk_row = lambda r: helpers.apk(r[:1], r[1:])\n",
    "t_apk = map(apk_row, apk_arr)\n",
    "print np.mean(t_apk)"
   ]
  },
  {
   "cell_type": "code",
   "execution_count": null,
   "metadata": {
    "collapsed": false
   },
   "outputs": [],
   "source": [
    "reload(grid)\n",
    "reload(sk)\n",
    "g = grid.Grid(files_flag=True, pref = 'test')\n",
    "sk_model = sk.SklearnModel(cross_validation_file='../main_cv_0.02_5.csv', test_file='../test.csv', grid = g, threshold=0)\n",
    "sk_model.train()\n",
    "sk_model.generate_submission_file('KNNearest_neigh_testing_submission_file.csv')"
   ]
  },
  {
   "cell_type": "code",
   "execution_count": null,
   "metadata": {
    "collapsed": false
   },
   "outputs": [],
   "source": [
    "grid_wise_data = [[[] for n in range(26)] for m in range(13)]\n",
    "for i in range(len(test_data)):\n",
    "    m, n = sk.get_grids_of_a_point((test_data[i][1], test_data[i][2]), sk_model.grid)[0]\n",
    "    grid_wise_data[m][n].append(test_data[i])\n",
    "\n",
    "predictions = []\n",
    "for m in range(13):\n",
    "    for n in range(26):\n",
    "        if len(grid_wise_data[m][n]) == 0:\n",
    "            continue\n",
    "        else:\n",
    "            predictions.append(sk_model.predict_grid(np.array(grid_wise_data[m][n]), m, n))"
   ]
  },
  {
   "cell_type": "code",
   "execution_count": 2,
   "metadata": {
    "collapsed": false
   },
   "outputs": [],
   "source": [
    "import grid_generation as grid\n",
    "reload(grid)\n",
    "import base_scikit_learn_model as sk\n",
    "reload(sk)\n",
    "g = grid.Grid(files_flag=True, pref = 'grid')\n",
    "sk_model = sk.SklearnModel(cross_validation_file='../main_cv_0.02_5.csv', test_file='../code_test.csv', grid = g, threshold=20)\n",
    "import sk_learn_models as knn\n",
    "sk_model1 = knn.KNN(grid = g, threshold = 20)"
   ]
  },
  {
   "cell_type": "code",
   "execution_count": 3,
   "metadata": {
    "collapsed": false
   },
   "outputs": [
    {
     "name": "stdout",
     "output_type": "stream",
     "text": [
      "Predicting the probablity of train set\n",
      "[[1242364360 9988088517 4120068991 1242364360]\n",
      " [5082530812 9988088517 4067911129 5082530812]\n",
      " [3007552366 9988088517 4120068991 3007552366]\n",
      " [5002696932 9988088517 3916091580 5002696932]\n",
      " [1006316884 9988088517 4067911129 1006316884]]\n",
      "0.0 training data prediction precision\n",
      "Predicting the probability of test set\n",
      "[[1254758593 7920940815 3421175639 1254758593]\n",
      " [5747062935 1511873045 5473477945 2685424598]\n",
      " [2776568148 3125174296 1557927427 7131826933]\n",
      " [7104264675 7965058889 5348440074 5527864210]\n",
      " [7859245214 7121847139 2797440100 7131826933]]\n",
      "0.0378943367541 test data prediction precision\n"
     ]
    }
   ],
   "source": [
    "sk_model.train_first_grid_and_predict()"
   ]
  },
  {
   "cell_type": "code",
   "execution_count": 4,
   "metadata": {
    "collapsed": false
   },
   "outputs": [
    {
     "name": "stdout",
     "output_type": "stream",
     "text": [
      "Predicting the probablity of train set\n",
      "[[1890025047 9988088517 4253203687 1890025047]\n",
      " [9682965513 9988088517 4251632872 9682965513]\n",
      " [7937617850 9988088517 4120068991 7937617850]\n",
      " [1231501903 4067911129 4237910912 1231501903]\n",
      " [5717403401 9988088517 4048573921 5717403401]]\n",
      "0.0 training data prediction precision\n",
      "Predicting the probability of test set\n",
      "[[2154052852 4336423518 7382144836 2154052852]\n",
      " [7065354365 5083140375 2784881316 5083140375]\n",
      " [6803385643 1342336464 5674316040 1342336464]\n",
      " [1711675729 2970538710 9988088517 2970538710]\n",
      " [1890025047 4690524967 6198196797 1890025047]]\n",
      "0.161079437476 test data prediction precision\n"
     ]
    }
   ],
   "source": [
    "sk_model1.train_first_grid_and_predict()"
   ]
  },
  {
   "cell_type": "code",
   "execution_count": null,
   "metadata": {
    "collapsed": false
   },
   "outputs": [],
   "source": [
    "import helpers\n",
    "reload(helpers)\n",
    "reload(grid)\n",
    "reload(sk)\n",
    "g = grid.Grid(files_flag=True, pref = 'grid')\n",
    "sk_model = sk.SklearnModel(cross_validation_file='../main_cv_0.02_5.csv', test_file='../code_test.csv', grid = g, threshold=7)\n",
    "sk_model.train_first_grid_and_predict()"
   ]
  },
  {
   "cell_type": "code",
   "execution_count": null,
   "metadata": {
    "collapsed": false
   },
   "outputs": [],
   "source": [
    "import sk_learn_models as sk\n",
    "from grid_generation import Grid\n",
    "reload(sk)\n",
    "\n",
    "g  = Grid(X = 800, Y = 400, xd = 200, yd = 100, pref = 'grid')\n",
    "\n",
    "knn = sk.KNN(grid = g, threshold = 7)"
   ]
  },
  {
   "cell_type": "code",
   "execution_count": null,
   "metadata": {
    "collapsed": false
   },
   "outputs": [],
   "source": [
    "knn.train_first_grid_and_predict(m = 3, n = 1)"
   ]
  },
  {
   "cell_type": "code",
   "execution_count": null,
   "metadata": {
    "collapsed": false
   },
   "outputs": [],
   "source": [
    "import numpy as np\n",
    "import xgboost as xgb\n",
    "from xgboost.sklearn import XGBClassifier\n",
    "from sklearn import preprocessing"
   ]
  },
  {
   "cell_type": "code",
   "execution_count": null,
   "metadata": {
    "collapsed": false
   },
   "outputs": [],
   "source": [
    "data = np.loadtxt('grid_800_400_200_100/grid_data_0_0.csv', delimiter=',')\n",
    "X = data[:, (1, 2, 3, 4)]\n",
    "Y = data[:, -1]"
   ]
  },
  {
   "cell_type": "code",
   "execution_count": null,
   "metadata": {
    "collapsed": true
   },
   "outputs": [],
   "source": [
    "y_enc = preprocessing.LabelEncoder()\n",
    "y_enc.fit(Y)\n",
    "Y_encoded = y_enc.transform(Y)"
   ]
  },
  {
   "cell_type": "code",
   "execution_count": null,
   "metadata": {
    "collapsed": true
   },
   "outputs": [],
   "source": [
    "xgb1 = XGBClassifier(\n",
    " learning_rate =0.1,\n",
    " n_estimators=1000,\n",
    " max_depth=5,\n",
    " min_child_weight=1,\n",
    " gamma=0,\n",
    " subsample=0.8,\n",
    " colsample_bytree=0.8,\n",
    " objective= 'binary:logistic',\n",
    " nthread=4,\n",
    " scale_pos_weight=1,\n",
    " seed=27)"
   ]
  },
  {
   "cell_type": "code",
   "execution_count": null,
   "metadata": {
    "collapsed": false
   },
   "outputs": [],
   "source": [
    "from grid_generation import Grid\n",
    "g = Grid(X = 800, Y = 400, xd = 200, yd = 100, pref = 'grid')\n",
    "g.generateCardinalityMatrix()"
   ]
  },
  {
   "cell_type": "code",
   "execution_count": null,
   "metadata": {
    "collapsed": false
   },
   "outputs": [],
   "source": [
    "xgb1.fit(m_X, Y_encoded)"
   ]
  },
  {
   "cell_type": "code",
   "execution_count": null,
   "metadata": {
    "collapsed": true
   },
   "outputs": [],
   "source": [
    "mask = np.array(map(lambda x: g.M[0][0][x] > 20, data[:, 5]))\n",
    "m_data = data[mask, :]\n",
    "m_X = m_data[:, (1, 2, 3, 4)]\n",
    "m_Y = m_data[:, -1]\n",
    "y_enc = preprocessing.LabelEncoder()\n",
    "y_enc.fit(m_Y)\n",
    "Y_encoded = y_enc.transform(m_Y)"
   ]
  },
  {
   "cell_type": "code",
   "execution_count": null,
   "metadata": {
    "collapsed": false
   },
   "outputs": [],
   "source": [
    "len(y_enc.classes_)"
   ]
  },
  {
   "cell_type": "code",
   "execution_count": 1,
   "metadata": {
    "collapsed": false
   },
   "outputs": [
    {
     "name": "stdout",
     "output_type": "stream",
     "text": [
      "/Users/anil/Code/facebook/scripts\n"
     ]
    }
   ],
   "source": [
    "cd scripts/"
   ]
  },
  {
   "cell_type": "code",
   "execution_count": 5,
   "metadata": {
    "collapsed": false
   },
   "outputs": [
    {
     "data": {
      "text/plain": [
       "u'/Users/anil/Code/facebook/scripts'"
      ]
     },
     "execution_count": 5,
     "metadata": {},
     "output_type": "execute_result"
    }
   ],
   "source": [
    "pwd"
   ]
  },
  {
   "cell_type": "code",
   "execution_count": 6,
   "metadata": {
    "collapsed": true
   },
   "outputs": [],
   "source": [
    "import numpy as np"
   ]
  },
  {
   "cell_type": "code",
   "execution_count": 7,
   "metadata": {
    "collapsed": true
   },
   "outputs": [],
   "source": [
    "data = np.loadtxt('../split_train/1_place', delimiter = ',', dtype = float, skiprows = 1)"
   ]
  },
  {
   "cell_type": "code",
   "execution_count": 8,
   "metadata": {
    "collapsed": false
   },
   "outputs": [
    {
     "data": {
      "text/plain": [
       "array([  1.00001580e+09,   7.80000000e+01,   2.67164359e+00,\n",
       "         5.54916026e+00,   8.03076923e+01,   2.69150000e+00,\n",
       "         5.54925000e+00,   3.10000000e+01,   2.07015868e-01,\n",
       "         1.58800983e-02,   1.16165919e+02,   4.28555696e-02,\n",
       "         2.52177500e-04,   1.34945207e+04])"
      ]
     },
     "execution_count": 8,
     "metadata": {},
     "output_type": "execute_result"
    }
   ],
   "source": [
    "data[0]"
   ]
  },
  {
   "cell_type": "code",
   "execution_count": 9,
   "metadata": {
    "collapsed": true
   },
   "outputs": [],
   "source": [
    "counts = data[:, (0, 1)]"
   ]
  },
  {
   "cell_type": "code",
   "execution_count": 10,
   "metadata": {
    "collapsed": true
   },
   "outputs": [],
   "source": [
    "counts = counts.astype(int)"
   ]
  },
  {
   "cell_type": "code",
   "execution_count": 11,
   "metadata": {
    "collapsed": false
   },
   "outputs": [
    {
     "data": {
      "text/plain": [
       "array([1000015801,         78])"
      ]
     },
     "execution_count": 11,
     "metadata": {},
     "output_type": "execute_result"
    }
   ],
   "source": [
    "counts[0]"
   ]
  },
  {
   "cell_type": "code",
   "execution_count": 12,
   "metadata": {
    "collapsed": true
   },
   "outputs": [],
   "source": [
    "d = dict(counts)"
   ]
  },
  {
   "cell_type": "code",
   "execution_count": 13,
   "metadata": {
    "collapsed": false
   },
   "outputs": [
    {
     "data": {
      "text/plain": [
       "78"
      ]
     },
     "execution_count": 13,
     "metadata": {},
     "output_type": "execute_result"
    }
   ],
   "source": [
    "d[1000015801]"
   ]
  },
  {
   "cell_type": "code",
   "execution_count": null,
   "metadata": {
    "collapsed": true
   },
   "outputs": [],
   "source": []
  }
 ],
 "metadata": {
  "kernelspec": {
   "display_name": "Python 2",
   "language": "python",
   "name": "python2"
  },
  "language_info": {
   "codemirror_mode": {
    "name": "ipython",
    "version": 2
   },
   "file_extension": ".py",
   "mimetype": "text/x-python",
   "name": "python",
   "nbconvert_exporter": "python",
   "pygments_lexer": "ipython2",
   "version": "2.7.11"
  }
 },
 "nbformat": 4,
 "nbformat_minor": 0
}
