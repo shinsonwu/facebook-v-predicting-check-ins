{
 "cells": [
  {
   "cell_type": "code",
   "execution_count": null,
   "metadata": {
    "collapsed": false
   },
   "outputs": [],
   "source": [
    "cd scripts/"
   ]
  },
  {
   "cell_type": "code",
   "execution_count": null,
   "metadata": {
    "collapsed": false
   },
   "outputs": [],
   "source": [
    "import grid_search as gs\n",
    "import traceback"
   ]
  },
  {
   "cell_type": "code",
   "execution_count": null,
   "metadata": {
    "collapsed": false
   },
   "outputs": [],
   "source": [
    "param_range1 = {\n",
    "    'max_depth': range(8, 15),\n",
    "    'min_child_weight': range(4, 8)\n",
    "}\n",
    "\n",
    "param_range2 = {\n",
    "    'gamma': [i/100 for i in range(20, 40, 3)]\n",
    "}\n",
    "\n",
    "param_range3 = {\n",
    "    'scale_pos_weight': range(1, 10)\n",
    "}\n",
    "\n",
    "param_range4 = {\n",
    "    'subsample': [i/100 for i in range(50, 100, 5)],\n",
    "    'colsample_bytree': [i/100 for i in range(55, 100, 5)]\n",
    "}\n",
    "\n",
    "param_range5 = {\n",
    " 'alpha':[0, 1e-5, 0.001, 0.005, 0.01, 0.05, 0.1, 1, 100]\n",
    "}"
   ]
  },
  {
   "cell_type": "code",
   "execution_count": null,
   "metadata": {
    "collapsed": false
   },
   "outputs": [],
   "source": [
    "try:\n",
    "    result1 = gs.grid_search_xgb(param_range1)\n",
    "except Exception, e:\n",
    "    print e\n",
    "    print traceback.format_exc()\n",
    "try:\n",
    "    result2 = gs.grid_search_xgb(param_range2)\n",
    "except Exception, e:\n",
    "    print e\n",
    "    print traceback.format_exc()\n",
    "try:\n",
    "    result3 = gs.grid_search_xgb(param_range3)\n",
    "except Exception, e:\n",
    "    print e\n",
    "    print traceback.format_exc()\n",
    "try:\n",
    "    result4 = gs.grid_search_xgb(param_range4)\n",
    "except Exception, e:\n",
    "    print e\n",
    "    print traceback.format_exc()\n",
    "try:\n",
    "    result5 = gs.grid_search_xgb(param_range5)\n",
    "except Exception, e:\n",
    "    print e\n",
    "    print traceback.format_exc()"
   ]
  }
 ],
 "metadata": {
  "kernelspec": {
   "display_name": "Python 2",
   "language": "python",
   "name": "python2"
  },
  "language_info": {
   "codemirror_mode": {
    "name": "ipython",
    "version": 2
   },
   "file_extension": ".py",
   "mimetype": "text/x-python",
   "name": "python",
   "nbconvert_exporter": "python",
   "pygments_lexer": "ipython2",
   "version": "2.7.6"
  }
 },
 "nbformat": 4,
 "nbformat_minor": 0
}
