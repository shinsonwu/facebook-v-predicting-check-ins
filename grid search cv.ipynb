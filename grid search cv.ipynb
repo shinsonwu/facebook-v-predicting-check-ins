{
 "cells": [
  {
   "cell_type": "code",
   "execution_count": 1,
   "metadata": {
    "collapsed": false
   },
   "outputs": [
    {
     "name": "stdout",
     "output_type": "stream",
     "text": [
      "/home/ubuntu/facebook/scripts\n"
     ]
    }
   ],
   "source": [
    "cd scripts/"
   ]
  },
  {
   "cell_type": "code",
   "execution_count": 2,
   "metadata": {
    "collapsed": false
   },
   "outputs": [
    {
     "name": "stdout",
     "output_type": "stream",
     "text": [
      "(3617, 6) card_train_shape\n",
      "(4249, 6) train_shape\n",
      "(87, 6) test_shape\n",
      "(3617, 12) X shape\n",
      "(3617, 1) y shape\n",
      "(87, 12) test_X shape\n",
      "(87, 1) test_y shape\n",
      "292\n"
     ]
    }
   ],
   "source": [
    "import grid_search as gs\n",
    "import traceback"
   ]
  },
  {
   "cell_type": "code",
   "execution_count": 5,
   "metadata": {
    "collapsed": false
   },
   "outputs": [],
   "source": [
    "param_range1 = {\n",
    "    'max_depth': range(8, 15),\n",
    "    'min_child_weight': range(4, 8)\n",
    "}\n",
    "\n",
    "param_range2 = {\n",
    "    'gamma': [i/100.0 for i in range(20, 40, 3)]\n",
    "}\n",
    "\n",
    "param_range3 = {\n",
    "    'max_delta_step': range(0, 20)\n",
    "}\n",
    "\n",
    "param_range4 = {\n",
    "    'subsample': [i/100.0 for i in range(50, 100, 5)],\n",
    "    'colsample_bytree': [i/100.0 for i in range(55, 100, 5)]\n",
    "}\n",
    "\n",
    "param_range5 = {\n",
    " 'alpha':[0, 1e-5, 0.001, 0.005, 0.01, 0.05, 0.1, 1, 100]\n",
    "}"
   ]
  },
  {
   "cell_type": "code",
   "execution_count": 6,
   "metadata": {
    "collapsed": false
   },
   "outputs": [
    {
     "name": "stdout",
     "output_type": "stream",
     "text": [
      "cv results {'map': 0.74467466666666671, 'max_delta_step': 4}\n",
      "cv results {'map': 0.74384533333333336, 'max_delta_step': 0}\n",
      "cv results {'map': 0.7463346666666667, 'max_delta_step': 2}\n",
      "cv results {'map': 0.74495166666666668, 'max_delta_step': 6}\n",
      "cv results {'map': 0.74688800000000011, 'max_delta_step': 5}\n",
      "cv results {'map': 0.74329166666666657, 'max_delta_step': 1}\n",
      "cv results {'map': 0.74633500000000008, 'max_delta_step': 3}\n",
      "cv results {'map': 0.74495166666666668, 'max_delta_step': 7}\n",
      "cv results {'map': 0.74633500000000008, 'max_delta_step': 10}\n",
      "cv results {'map': 0.74744133333333329, 'max_delta_step': 8}\n",
      "cv results {'map': 0.74467499999999998, 'max_delta_step': 12}\n",
      "cv results {'map': 0.74578133333333341, 'max_delta_step': 14}\n",
      "cv results {'map': 0.746058, 'max_delta_step': 11}\n",
      "cv results {'map': 0.74688833333333327, 'max_delta_step': 9}\n",
      "cv results {'map': 0.74578133333333341, 'max_delta_step': 13}\n",
      "cv results {'map': 0.74439833333333338, 'max_delta_step': 15}\n",
      "cv results {'map': 0.746058, 'max_delta_step': 16}\n",
      "cv results {'map': 0.74688766666666651, 'max_delta_step': 18}\n",
      "cv results {'map': 0.7463346666666667, 'max_delta_step': 17}\n",
      "cv results {'map': 0.74329199999999995, 'max_delta_step': 19}\n",
      "top map results [{'map': 0.74744133333333329, 'max_delta_step': 8}, {'map': 0.74688833333333327, 'max_delta_step': 9}, {'map': 0.74688800000000011, 'max_delta_step': 5}]\n"
     ]
    }
   ],
   "source": [
    "try:\n",
    "    result1 = gs.grid_search_xgb(param_range3)\n",
    "except Exception, e:\n",
    "    print e\n",
    "    print traceback.format_exc()\n"
   ]
  },
  {
   "cell_type": "code",
   "execution_count": null,
   "metadata": {
    "collapsed": false
   },
   "outputs": [
    {
     "name": "stdout",
     "output_type": "stream",
     "text": [
      "cv results {'map': 0.76262099999999988, 'gamma': 0.2}\n",
      "cv results {'map': 0.76303866666666664, 'gamma': 0.23}\n",
      "cv results {'map': 0.76317800000000002, 'gamma': 0.29}\n",
      "cv results {'map': 0.76303900000000002, 'gamma': 0.26}\n",
      "cv results {'map': 0.76303900000000002, 'gamma': 0.35}\n",
      "cv results {'map': 0.76283000000000001, 'gamma': 0.38}\n",
      "cv results {'map': 0.76324766666666666, 'gamma': 0.32}\n",
      "top map results [{'map': 0.76324766666666666, 'gamma': 0.32}, {'map': 0.76317800000000002, 'gamma': 0.29}, {'map': 0.76303900000000002, 'gamma': 0.26}]\n"
     ]
    }
   ],
   "source": [
    "try:\n",
    "    result2 = gs.grid_search_xgb(param_range2)\n",
    "except Exception, e:\n",
    "    print e\n",
    "    print traceback.format_exc()\n"
   ]
  },
  {
   "cell_type": "code",
   "execution_count": null,
   "metadata": {
    "collapsed": false
   },
   "outputs": [
    {
     "name": "stdout",
     "output_type": "stream",
     "text": [
      "cv results {'scale_pos_weight': 1, 'map': 0.76226300000000002}\n",
      "cv results {'scale_pos_weight': 4, 'map': 0.76226300000000002}\n",
      "cv results {'scale_pos_weight': 2, 'map': 0.76226300000000002}\n",
      "cv results {'scale_pos_weight': 3, 'map': 0.76226300000000002}\n",
      "cv results {'scale_pos_weight': 5, 'map': 0.76226300000000002}\n",
      "cv results {'scale_pos_weight': 8, 'map': 0.76226300000000002}\n",
      "cv results {'scale_pos_weight': 6, 'map': 0.76226300000000002}\n",
      "cv results {'scale_pos_weight': 7, 'map': 0.76226300000000002}\n",
      "cv results {'scale_pos_weight': 9, 'map': 0.76226300000000002}\n",
      "top map results [{'scale_pos_weight': 1, 'map': 0.76226300000000002}, {'scale_pos_weight': 2, 'map': 0.76226300000000002}, {'scale_pos_weight': 3, 'map': 0.76226300000000002}]\n",
      "cv results {'subsample': 0.55, 'colsample_bytree': 0.7, 'map': 0.75592266666666674}\n",
      "cv results {'subsample': 0.5, 'colsample_bytree': 0.55, 'map': 0.75438966666666685}\n",
      "cv results {'subsample': 0.6, 'colsample_bytree': 0.55, 'map': 0.75968499999999983}\n",
      "cv results {'subsample': 0.5, 'colsample_bytree': 0.85, 'map': 0.75264766666666671}\n",
      "cv results {'subsample': 0.5, 'colsample_bytree': 0.6, 'map': 0.75383200000000006}\n",
      "cv results {'subsample': 0.55, 'colsample_bytree': 0.75, 'map': 0.75571366666666673}\n",
      "cv results {'subsample': 0.6, 'colsample_bytree': 0.6, 'map': 0.75745533333333326}\n",
      "cv results {'subsample': 0.5, 'colsample_bytree': 0.9, 'map': 0.75264766666666671}\n",
      "cv results {'subsample': 0.5, 'colsample_bytree': 0.65, 'map': 0.75383200000000006}\n",
      "cv results {'subsample': 0.6, 'colsample_bytree': 0.65, 'map': 0.75745533333333326}\n",
      "cv results {'subsample': 0.55, 'colsample_bytree': 0.8, 'map': 0.75571366666666673}\n",
      "cv results {'subsample': 0.5, 'colsample_bytree': 0.95, 'map': 0.75306600000000001}\n",
      "cv results {'subsample': 0.5, 'colsample_bytree': 0.7, 'map': 0.75404133333333334}\n",
      "cv results {'subsample': 0.6, 'colsample_bytree': 0.7, 'map': 0.75801300000000005}\n",
      "cv results {'subsample': 0.55, 'colsample_bytree': 0.85, 'map': 0.75620133333333328}\n",
      "cv results {'subsample': 0.55, 'colsample_bytree': 0.55, 'map': 0.75634066666666655}\n",
      "cv results {'subsample': 0.5, 'colsample_bytree': 0.75, 'map': 0.75445966666666653}\n",
      "cv results {'subsample': 0.6, 'colsample_bytree': 0.75, 'map': 0.75843066666666681}\n",
      "cv results {'subsample': 0.55, 'colsample_bytree': 0.6, 'map': 0.7564103333333333}\n",
      "cv results {'subsample': 0.55, 'colsample_bytree': 0.9, 'map': 0.75620133333333328}\n",
      "cv results {'subsample': 0.5, 'colsample_bytree': 0.8, 'map': 0.75445966666666653}\n",
      "cv results {'subsample': 0.6, 'colsample_bytree': 0.8, 'map': 0.75843066666666681}\n",
      "cv results {'subsample': 0.55, 'colsample_bytree': 0.65, 'map': 0.7564103333333333}\n",
      "cv results {'subsample': 0.55, 'colsample_bytree': 0.95, 'map': 0.75703766666666661}\n",
      "cv results {'subsample': 0.65, 'colsample_bytree': 0.7, 'map': 0.75940633333333329}\n",
      "cv results {'subsample': 0.6, 'colsample_bytree': 0.85, 'map': 0.7580823333333333}\n",
      "cv results {'subsample': 0.7, 'colsample_bytree': 0.55, 'map': 0.76080000000000003}\n",
      "cv results {'subsample': 0.7, 'colsample_bytree': 0.85, 'map': 0.75898833333333338}\n",
      "cv results {'subsample': 0.65, 'colsample_bytree': 0.75, 'map': 0.75982433333333332}\n",
      "cv results {'subsample': 0.7, 'colsample_bytree': 0.6, 'map': 0.75982433333333343}\n",
      "cv results {'subsample': 0.6, 'colsample_bytree': 0.9, 'map': 0.7580823333333333}\n",
      "cv results {'subsample': 0.7, 'colsample_bytree': 0.9, 'map': 0.75898833333333338}\n",
      "cv results {'subsample': 0.7, 'colsample_bytree': 0.65, 'map': 0.75982433333333343}\n",
      "cv results {'subsample': 0.65, 'colsample_bytree': 0.8, 'map': 0.75982433333333332}\n",
      "cv results {'subsample': 0.6, 'colsample_bytree': 0.95, 'map': 0.75738566666666662}\n",
      "cv results {'subsample': 0.7, 'colsample_bytree': 0.95, 'map': 0.75766466666666654}\n",
      "cv results {'subsample': 0.7, 'colsample_bytree': 0.7, 'map': 0.76073000000000002}\n",
      "cv results {'subsample': 0.65, 'colsample_bytree': 0.55, 'map': 0.76079966666666676}\n",
      "cv results {'subsample': 0.65, 'colsample_bytree': 0.85, 'map': 0.7577343333333334}\n",
      "cv results {'subsample': 0.75, 'colsample_bytree': 0.55, 'map': 0.76114800000000005}\n",
      "cv results {'subsample': 0.7, 'colsample_bytree': 0.75, 'map': 0.75982433333333332}\n",
      "cv results {'subsample': 0.65, 'colsample_bytree': 0.6, 'map': 0.75968500000000005}\n",
      "cv results {'subsample': 0.65, 'colsample_bytree': 0.9, 'map': 0.7577343333333334}\n",
      "cv results {'subsample': 0.75, 'colsample_bytree': 0.6, 'map': 0.76093900000000003}\n",
      "cv results {'subsample': 0.7, 'colsample_bytree': 0.8, 'map': 0.75982433333333332}\n",
      "cv results {'subsample': 0.65, 'colsample_bytree': 0.65, 'map': 0.75968500000000005}\n",
      "cv results {'subsample': 0.75, 'colsample_bytree': 0.65, 'map': 0.76093900000000003}\n",
      "cv results {'subsample': 0.65, 'colsample_bytree': 0.95, 'map': 0.75745533333333326}\n",
      "cv results {'subsample': 0.75, 'colsample_bytree': 0.7, 'map': 0.7612876666666667}\n",
      "cv results {'subsample': 0.8, 'colsample_bytree': 0.55, 'map': 0.76135699999999995}\n",
      "cv results {'subsample': 0.8, 'colsample_bytree': 0.85, 'map': 0.76184499999999999}\n",
      "cv results {'subsample': 0.85, 'colsample_bytree': 0.7, 'map': 0.76400500000000005}\n",
      "cv results {'subsample': 0.75, 'colsample_bytree': 0.75, 'map': 0.76156600000000008}\n",
      "cv results {'subsample': 0.8, 'colsample_bytree': 0.6, 'map': 0.76254199999999994}\n",
      "cv results {'subsample': 0.8, 'colsample_bytree': 0.9, 'map': 0.76184499999999999}\n",
      "cv results {'subsample': 0.85, 'colsample_bytree': 0.75, 'map': 0.76400500000000005}\n",
      "cv results {'subsample': 0.75, 'colsample_bytree': 0.8, 'map': 0.76156600000000008}\n",
      "cv results {'subsample': 0.8, 'colsample_bytree': 0.65, 'map': 0.76254199999999994}\n",
      "cv results {'subsample': 0.8, 'colsample_bytree': 0.95, 'map': 0.75989399999999996}\n",
      "cv results {'subsample': 0.85, 'colsample_bytree': 0.8, 'map': 0.76400500000000005}\n",
      "cv results {'subsample': 0.75, 'colsample_bytree': 0.85, 'map': 0.76093900000000003}\n",
      "cv results {'subsample': 0.8, 'colsample_bytree': 0.7, 'map': 0.76149633333333322}\n",
      "cv results {'subsample': 0.85, 'colsample_bytree': 0.55, 'map': 0.76240233333333329}\n",
      "cv results {'subsample': 0.85, 'colsample_bytree': 0.85, 'map': 0.76358733333333328}\n",
      "cv results {'subsample': 0.8, 'colsample_bytree': 0.75, 'map': 0.76323866666666673}\n",
      "cv results {'subsample': 0.75, 'colsample_bytree': 0.9, 'map': 0.76093900000000003}\n",
      "cv results {'subsample': 0.85, 'colsample_bytree': 0.6, 'map': 0.76296000000000008}\n",
      "cv results {'subsample': 0.85, 'colsample_bytree': 0.9, 'map': 0.76358733333333328}\n",
      "cv results {'subsample': 0.8, 'colsample_bytree': 0.8, 'map': 0.76323866666666673}\n",
      "cv results {'subsample': 0.75, 'colsample_bytree': 0.95, 'map': 0.76024233333333324}\n",
      "cv results {'subsample': 0.85, 'colsample_bytree': 0.65, 'map': 0.76296000000000008}\n",
      "cv results {'subsample': 0.85, 'colsample_bytree': 0.95, 'map': 0.76184533333333337}\n",
      "cv results {'subsample': 0.9, 'colsample_bytree': 0.55, 'map': 0.7626113333333332}\n",
      "cv results {'subsample': 0.9, 'colsample_bytree': 0.85, 'map': 0.76295999999999997}\n",
      "cv results {'subsample': 0.95, 'colsample_bytree': 0.7, 'map': 0.76226333333333329}\n",
      "cv results {'subsample': 0.9, 'colsample_bytree': 0.6, 'map': 0.76240233333333329}\n",
      "cv results {'subsample': 0.9, 'colsample_bytree': 0.9, 'map': 0.76295999999999997}\n",
      "cv results {'subsample': 0.95, 'colsample_bytree': 0.75, 'map': 0.76184466666666673}\n",
      "cv results {'subsample': 0.9, 'colsample_bytree': 0.65, 'map': 0.76240233333333329}\n",
      "cv results {'subsample': 0.9, 'colsample_bytree': 0.95, 'map': 0.76135733333333333}\n",
      "cv results {'subsample': 0.95, 'colsample_bytree': 0.8, 'map': 0.76184466666666673}\n",
      "cv results {'subsample': 0.9, 'colsample_bytree': 0.7, 'map': 0.76226300000000002}\n",
      "cv results {'subsample': 0.95, 'colsample_bytree': 0.55, 'map': 0.76191466666666674}\n",
      "cv results {'subsample': 0.95, 'colsample_bytree': 0.85, 'map': 0.76156600000000008}\n",
      "cv results {'subsample': 0.9, 'colsample_bytree': 0.75, 'map': 0.76400500000000005}\n",
      "cv results {'subsample': 0.95, 'colsample_bytree': 0.6, 'map': 0.76226299999999991}\n",
      "cv results {'subsample': 0.95, 'colsample_bytree': 0.9, 'map': 0.76156600000000008}\n",
      "cv results {'subsample': 0.9, 'colsample_bytree': 0.8, 'map': 0.76400500000000005}\n",
      "cv results {'subsample': 0.95, 'colsample_bytree': 0.65, 'map': 0.76226299999999991}\n",
      "cv results {'subsample': 0.95, 'colsample_bytree': 0.95, 'map': 0.76226300000000002}\n",
      "top map results [{'subsample': 0.85, 'colsample_bytree': 0.7, 'map': 0.76400500000000005}, {'subsample': 0.85, 'colsample_bytree': 0.75, 'map': 0.76400500000000005}, {'subsample': 0.85, 'colsample_bytree': 0.8, 'map': 0.76400500000000005}]\n"
     ]
    }
   ],
   "source": [
    "try:\n",
    "    result3 = gs.grid_search_xgb(param_range3)\n",
    "except Exception, e:\n",
    "    print e\n",
    "    print traceback.format_exc()\n",
    "try:\n",
    "    result4 = gs.grid_search_xgb(param_range4)\n",
    "except Exception, e:\n",
    "    print e\n",
    "    print traceback.format_exc()\n",
    "try:\n",
    "    result5 = gs.grid_search_xgb(param_range5)\n",
    "except Exception, e:\n",
    "    print e\n",
    "    print traceback.format_exc()"
   ]
  },
  {
   "cell_type": "code",
   "execution_count": null,
   "metadata": {
    "collapsed": true
   },
   "outputs": [],
   "source": []
  }
 ],
 "metadata": {
  "kernelspec": {
   "display_name": "Python 2",
   "language": "python",
   "name": "python2"
  },
  "language_info": {
   "codemirror_mode": {
    "name": "ipython",
    "version": 2
   },
   "file_extension": ".py",
   "mimetype": "text/x-python",
   "name": "python",
   "nbconvert_exporter": "python",
   "pygments_lexer": "ipython2",
   "version": "2.7.6"
  }
 },
 "nbformat": 4,
 "nbformat_minor": 0
}
