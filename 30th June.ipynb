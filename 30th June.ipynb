{
 "cells": [
  {
   "cell_type": "code",
   "execution_count": 1,
   "metadata": {
    "collapsed": false
   },
   "outputs": [
    {
     "name": "stdout",
     "output_type": "stream",
     "text": [
      "/home/ubuntu/facebook/scripts\n"
     ]
    }
   ],
   "source": [
    "cd scripts/"
   ]
  },
  {
   "cell_type": "code",
   "execution_count": 2,
   "metadata": {
    "collapsed": true
   },
   "outputs": [],
   "source": [
    "import numpy as np\n",
    "#Import libraries:\n",
    "import pandas as pd\n",
    "import numpy as np\n",
    "from sklearn.ensemble import GradientBoostingClassifier  #GBM algorithm\n",
    "from sklearn import cross_validation, metrics   #Additional scklearn functions\n",
    "from sklearn.grid_search import GridSearchCV   #Perforing grid search\n",
    "\n",
    "import matplotlib.pylab as plt\n",
    "%matplotlib inline\n",
    "from matplotlib.pylab import rcParams\n",
    "rcParams['figure.figsize'] = 12, 4\n",
    "\n",
    "from sklearn.cross_validation import train_test_split\n",
    "import pickle\n",
    "\n",
    "from sklearn.preprocessing import LabelEncoder\n",
    "\n",
    "import xgboost as xgb"
   ]
  },
  {
   "cell_type": "code",
   "execution_count": 3,
   "metadata": {
    "collapsed": false
   },
   "outputs": [],
   "source": [
    "def transform_x(X, x_transformer = None):\n",
    "    \"\"\"\n",
    "    X = [[x, y, a, t]]\n",
    "    \"\"\"\n",
    "    fw = [500., 1000., 4., 3., 2., 10., 10.]\n",
    "    minute_v = X[:, 3]%60\n",
    "    hour_v = X[:, 3]//60\n",
    "    weekday_v = hour_v//24\n",
    "    month_v = weekday_v//30\n",
    "    year_v = (weekday_v//365 + 1)*fw[5]\n",
    "    hour_v = ((hour_v%24 + 1) + minute_v/60.0)*fw[2]\n",
    "    hour_v_2 = (X[:, 3]%(60*60*24))//(60*60*2)\n",
    "    hour_v_3 = (X[:, 3]%(60*60*24))//(60*60*3)\n",
    "    hour_v_4 = (X[:, 3]%(60*60*24))//(60*60*4)\n",
    "    hour_v_6 = (X[:, 3]%(60*60*24))//(60*60*6)\n",
    "    hour_v_8 = (X[:, 3]%(60*60*24))//(60*60*8)\n",
    "    weekday_v = (weekday_v%7 + 1)*fw[3]\n",
    "    month_v = (month_v%12 +1)*fw[4]\n",
    "    accuracy_v = np.log10(X[:, 2])*fw[6]\n",
    "    x_v = X[:, 0]*fw[0]\n",
    "    y_v = X[:, 1]*fw[1]\n",
    "    return np.hstack((x_v.reshape(-1, 1),\n",
    "                     y_v.reshape(-1, 1),\n",
    "                     accuracy_v.reshape(-1, 1),\n",
    "                     hour_v.reshape(-1, 1),\n",
    "                     hour_v_2.reshape(-1, 1),\n",
    "                     hour_v_3.reshape(-1, 1),\n",
    "                     hour_v_4.reshape(-1, 1),\n",
    "                     hour_v_6.reshape(-1, 1),\n",
    "                     hour_v_8.reshape(-1, 1),\n",
    "                     weekday_v.reshape(-1, 1),\n",
    "                     month_v.reshape(-1, 1),\n",
    "                     year_v.reshape(-1, 1)))\n",
    "\n",
    "def transform_y(y, y_transformer = None):\n",
    "    \"\"\"\n",
    "    place_ids to encoded array\n",
    "    \"\"\"\n",
    "    y = y.astype(int)\n",
    "    if y_transformer == None:\n",
    "        label_encoder = LabelEncoder()\n",
    "        label_encoder.fit(y)\n",
    "        y_transformer = {'encoder': label_encoder}\n",
    "    new_y = y_transformer['encoder'].transform(y).reshape(-1, 1)\n",
    "    return (new_y, y_transformer)\n",
    "\n",
    "def map3eval(preds, dtrain):\n",
    "    actual = dtrain.get_label()\n",
    "    predicted = preds.argsort(axis=1)[:,-np.arange(1,4)]\n",
    "    metric = 0.\n",
    "    for i in range(3):\n",
    "        metric += np.sum(actual==predicted[:,i])/(i+1)\n",
    "    metric /= actual.shape[0]\n",
    "    return 'MAP@3', metric\n",
    "\n",
    "def load_data(m, n):\n",
    "    return np.loadtxt('../grid1_400_100_50_10/grid_data_' + str(m)  + '_' + str(n) + '.csv', delimiter = ',')\n",
    "\n",
    "def get_preds(probs, encoder):\n",
    "    return encoder.inverse_transform(np.argsort(probs, axis = 1)[:, ::-1][:, :3])\n"
   ]
  },
  {
   "cell_type": "code",
   "execution_count": 4,
   "metadata": {
    "collapsed": false
   },
   "outputs": [],
   "source": [
    "m, n = 12, 40\n",
    "data = load_data(m, n)\n",
    "\n",
    "M = pickle.load(open('../grid1_400_100_50_10/cardinality_pickle.pkl', 'rb'))\n",
    "\n",
    "train, test = train_test_split(data, test_size = 0.02)"
   ]
  },
  {
   "cell_type": "code",
   "execution_count": 5,
   "metadata": {
    "collapsed": false
   },
   "outputs": [
    {
     "name": "stdout",
     "output_type": "stream",
     "text": [
      "(14356, 6) card_train_shape\n",
      "(16178, 6) train_shape\n",
      "(331, 6) test_shape\n"
     ]
    }
   ],
   "source": [
    "mask = np.array(map(lambda x: M[m][n][x] > 20, train[:, 5]))\n",
    "card_train = train[mask, :]\n",
    "print card_train.shape, \"card_train_shape\"\n",
    "print train.shape, \"train_shape\"\n",
    "print test.shape, \"test_shape\"\n",
    "\n"
   ]
  },
  {
   "cell_type": "code",
   "execution_count": 6,
   "metadata": {
    "collapsed": false
   },
   "outputs": [
    {
     "name": "stdout",
     "output_type": "stream",
     "text": [
      "(14356, 12) X shape\n",
      "(14356, 1) y shape\n",
      "(331, 12) test_X shape\n",
      "(331, 1) test_y shape\n",
      "770\n"
     ]
    }
   ],
   "source": [
    "X = transform_x(card_train[:, (1, 2, 3, 4)])\n",
    "y_orig, enc = transform_y(data[:, 5])\n",
    "y, enc = transform_y(card_train[:, 5], enc)\n",
    "test_X = transform_x(test[:, (1, 2, 3, 4)])\n",
    "test_y, enc = transform_y(test[:, 5], enc)\n",
    "print X.shape, \"X shape\"\n",
    "print y.shape, \"y shape\"\n",
    "print test_X.shape, \"test_X shape\"\n",
    "print test_y.shape, \"test_y shape\"\n",
    "print len(enc['encoder'].classes_)\n",
    "\n",
    "dtrain = xgb.DMatrix(X, label=np.ravel(y))\n",
    "dtest = xgb.DMatrix(test_X, label=np.ravel(test_y))"
   ]
  },
  {
   "cell_type": "code",
   "execution_count": 176,
   "metadata": {
    "collapsed": false
   },
   "outputs": [
    {
     "name": "stdout",
     "output_type": "stream",
     "text": [
      "[0]\ttrain-MAP@3:0.458589\ttest-MAP@3:0.380665\n",
      "[1]\ttrain-MAP@3:0.519279\ttest-MAP@3:0.429003\n",
      "[2]\ttrain-MAP@3:0.554357\ttest-MAP@3:0.459215\n",
      "[3]\ttrain-MAP@3:0.580248\ttest-MAP@3:0.477341\n",
      "[4]\ttrain-MAP@3:0.601267\ttest-MAP@3:0.495468\n",
      "[5]\ttrain-MAP@3:0.623469\ttest-MAP@3:0.510574\n",
      "[6]\ttrain-MAP@3:0.640799\ttest-MAP@3:0.528701\n",
      "[7]\ttrain-MAP@3:0.661609\ttest-MAP@3:0.537764\n",
      "[8]\ttrain-MAP@3:0.678174\ttest-MAP@3:0.55287\n",
      "[9]\ttrain-MAP@3:0.692163\ttest-MAP@3:0.567976\n",
      "[10]\ttrain-MAP@3:0.706083\ttest-MAP@3:0.574018\n",
      "[11]\ttrain-MAP@3:0.717984\ttest-MAP@3:0.583082\n",
      "[12]\ttrain-MAP@3:0.730373\ttest-MAP@3:0.583082\n",
      "[13]\ttrain-MAP@3:0.742135\ttest-MAP@3:0.586103\n",
      "[14]\ttrain-MAP@3:0.752714\ttest-MAP@3:0.595166\n",
      "[15]\ttrain-MAP@3:0.761832\ttest-MAP@3:0.601208\n",
      "[16]\ttrain-MAP@3:0.770601\ttest-MAP@3:0.601208\n",
      "[17]\ttrain-MAP@3:0.777492\ttest-MAP@3:0.610272\n",
      "[18]\ttrain-MAP@3:0.784452\ttest-MAP@3:0.616314\n",
      "[19]\ttrain-MAP@3:0.792247\ttest-MAP@3:0.622356\n",
      "[20]\ttrain-MAP@3:0.798093\ttest-MAP@3:0.625378\n",
      "[21]\ttrain-MAP@3:0.805679\ttest-MAP@3:0.628399\n",
      "[22]\ttrain-MAP@3:0.81083\ttest-MAP@3:0.634441\n",
      "[23]\ttrain-MAP@3:0.816815\ttest-MAP@3:0.637462\n",
      "[24]\ttrain-MAP@3:0.822313\ttest-MAP@3:0.637462\n"
     ]
    },
    {
     "data": {
      "text/plain": [
       "<matplotlib.axes._subplots.AxesSubplot at 0x112069a50>"
      ]
     },
     "execution_count": 176,
     "metadata": {},
     "output_type": "execute_result"
    },
    {
     "data": {
      "image/png": "[encoded data removed]",
      "text/plain": [
       "<matplotlib.figure.Figure at 0x111fa1d10>"
      ]
     },
     "metadata": {},
     "output_type": "display_data"
    },
    {
     "data": {
      "image/png": "[encoded data removed]",
      "text/plain": [
       "<matplotlib.figure.Figure at 0x11204fc50>"
      ]
     },
     "metadata": {},
     "output_type": "display_data"
    }
   ],
   "source": [
    "\"\"\"\n",
    " learning_rate =0.1,\n",
    " n_estimators=100,\n",
    " max_depth=5,\n",
    " min_child_weight=1,\n",
    " gamma=0,\n",
    " subsample=0.8,\n",
    " colsample_bytree=0.8,\n",
    " objective= 'multi:softprob',\n",
    " nthread=4,\n",
    " scale_pos_weight=1\n",
    "\"\"\"\n",
    "# lower learning rate and more iterations\n",
    "er4 = {}\n",
    "bst4 = xgb.train({'num_class': len(enc['encoder'].classes_),\n",
    "                 'silent': 0,\n",
    "                 'nthread': 4,\n",
    "                 'eta': 0.1,\n",
    "                 'objective': 'multi:softprob',\n",
    "                 'max_depth': 5,\n",
    "                 'min_child_weight': 1,\n",
    "                 'gamma': 0,\n",
    "                 'subsample': 0.8,\n",
    "                 'colsample_bytree': 0.8,\n",
    "                 'scale_pos_weight': 1}, \n",
    "                dtrain, \n",
    "                num_boost_round = 25,\n",
    "                evals = [(dtrain, 'train'), (dtest, 'test')],\n",
    "                verbose_eval = True, evals_result = er4,\n",
    "                feval = map3eval)\n",
    "\n",
    "plt.figure()\n",
    "plt.plot(er4['test']['MAP@3'], 'r--', er4['train']['MAP@3'], 'b--')\n",
    "plt.title(\"MAP@3\")\n",
    "xgb.plot_importance(bst4)"
   ]
  },
  {
   "cell_type": "code",
   "execution_count": 182,
   "metadata": {
    "collapsed": false
   },
   "outputs": [
    {
     "name": "stdout",
     "output_type": "stream",
     "text": [
      "[0]\ttrain-MAP@3:0.508352\ttest-MAP@3:0.429003\n",
      "[1]\ttrain-MAP@3:0.561038\ttest-MAP@3:0.483384\n",
      "[2]\ttrain-MAP@3:0.599109\ttest-MAP@3:0.513595\n",
      "[3]\ttrain-MAP@3:0.62855\ttest-MAP@3:0.531722\n",
      "[4]\ttrain-MAP@3:0.650125\ttest-MAP@3:0.540785\n",
      "[5]\ttrain-MAP@3:0.667873\ttest-MAP@3:0.561934\n",
      "[6]\ttrain-MAP@3:0.681723\ttest-MAP@3:0.567976\n",
      "[7]\ttrain-MAP@3:0.694738\ttest-MAP@3:0.577039\n",
      "[8]\ttrain-MAP@3:0.709354\ttest-MAP@3:0.586103\n",
      "[9]\ttrain-MAP@3:0.721395\ttest-MAP@3:0.595166\n",
      "[10]\ttrain-MAP@3:0.733853\ttest-MAP@3:0.598187\n",
      "[11]\ttrain-MAP@3:0.744919\ttest-MAP@3:0.60423\n",
      "[12]\ttrain-MAP@3:0.754037\ttest-MAP@3:0.610272\n",
      "[13]\ttrain-MAP@3:0.763363\ttest-MAP@3:0.610272\n",
      "[14]\ttrain-MAP@3:0.772272\ttest-MAP@3:0.616314\n",
      "[15]\ttrain-MAP@3:0.780206\ttest-MAP@3:0.619335\n",
      "[16]\ttrain-MAP@3:0.787514\ttest-MAP@3:0.622356\n",
      "[17]\ttrain-MAP@3:0.794404\ttest-MAP@3:0.622356\n",
      "[18]\ttrain-MAP@3:0.80039\ttest-MAP@3:0.625378\n",
      "[19]\ttrain-MAP@3:0.806723\ttest-MAP@3:0.625378\n",
      "[20]\ttrain-MAP@3:0.813057\ttest-MAP@3:0.63142\n",
      "[21]\ttrain-MAP@3:0.818555\ttest-MAP@3:0.634441\n",
      "[22]\ttrain-MAP@3:0.824332\ttest-MAP@3:0.637462\n",
      "[23]\ttrain-MAP@3:0.829482\ttest-MAP@3:0.637462\n",
      "[24]\ttrain-MAP@3:0.834424\ttest-MAP@3:0.640483\n"
     ]
    },
    {
     "data": {
      "text/plain": [
       "<matplotlib.axes._subplots.AxesSubplot at 0x14b601c50>"
      ]
     },
     "execution_count": 182,
     "metadata": {},
     "output_type": "execute_result"
    },
    {
     "data": {
      "image/png": "[encoded data removed]",
      "text/plain": [
       "<matplotlib.figure.Figure at 0x111e949d0>"
      ]
     },
     "metadata": {},
     "output_type": "display_data"
    },
    {
     "data": {
      "image/png": "[encoded data removed]",
      "text/plain": [
       "<matplotlib.figure.Figure at 0x14b5f6e50>"
      ]
     },
     "metadata": {},
     "output_type": "display_data"
    }
   ],
   "source": [
    "\"\"\"\n",
    " learning_rate =0.1,\n",
    " n_estimators=100,\n",
    " max_depth=5,\n",
    " min_child_weight=1,\n",
    " gamma=0,\n",
    " subsample=0.8,\n",
    " colsample_bytree=0.8,\n",
    " objective= 'multi:softprob',\n",
    " nthread=4,\n",
    " scale_pos_weight=1\n",
    "\"\"\"\n",
    "# lower learning rate and more iterations\n",
    "er4 = {}\n",
    "bst4 = xgb.train({'num_class': len(enc['encoder'].classes_),\n",
    "                 'silent': 0,\n",
    "                 'nthread': 4,\n",
    "                 'eta': 0.1,\n",
    "                 'objective': 'multi:softprob',\n",
    "                 'max_depth': 5,\n",
    "                 'min_child_weight': 1,\n",
    "                 'gamma': 0,\n",
    "                 'subsample': 0.8,\n",
    "                 'colsample_bytree': 0.8,\n",
    "                 'scale_pos_weight': 1}, \n",
    "                dtrain, \n",
    "                num_boost_round = 25,\n",
    "                evals = [(dtrain, 'train'), (dtest, 'test')],\n",
    "                verbose_eval = True, evals_result = er4,\n",
    "                feval = map3eval)\n",
    "\n",
    "plt.figure()\n",
    "plt.plot(er4['test']['MAP@3'], 'r--', er4['train']['MAP@3'], 'b--')\n",
    "plt.title(\"MAP@3\")\n",
    "xgb.plot_importance(bst4)"
   ]
  },
  {
   "cell_type": "code",
   "execution_count": 183,
   "metadata": {
    "collapsed": false
   },
   "outputs": [
    {
     "name": "stdout",
     "output_type": "stream",
     "text": [
      "[0]\ttrain-MAP@3:0.284521\ttest-MAP@3:0.238671\n",
      "[1]\ttrain-MAP@3:0.357948\ttest-MAP@3:0.308157\n",
      "[2]\ttrain-MAP@3:0.419335\ttest-MAP@3:0.353474\n",
      "[3]\ttrain-MAP@3:0.472856\ttest-MAP@3:0.404834\n",
      "[4]\ttrain-MAP@3:0.516565\ttest-MAP@3:0.435045\n",
      "[5]\ttrain-MAP@3:0.568694\ttest-MAP@3:0.477341\n",
      "[6]\ttrain-MAP@3:0.606765\ttest-MAP@3:0.507553\n",
      "[7]\ttrain-MAP@3:0.641773\ttest-MAP@3:0.534743\n",
      "[8]\ttrain-MAP@3:0.667803\ttest-MAP@3:0.55287\n",
      "[9]\ttrain-MAP@3:0.688822\ttest-MAP@3:0.561934\n",
      "[10]\ttrain-MAP@3:0.70664\ttest-MAP@3:0.574018\n",
      "[11]\ttrain-MAP@3:0.721186\ttest-MAP@3:0.583082\n",
      "[12]\ttrain-MAP@3:0.734271\ttest-MAP@3:0.598187\n",
      "[13]\ttrain-MAP@3:0.748399\ttest-MAP@3:0.610272\n",
      "[14]\ttrain-MAP@3:0.758839\ttest-MAP@3:0.613293\n",
      "[15]\ttrain-MAP@3:0.767748\ttest-MAP@3:0.619335\n",
      "[16]\ttrain-MAP@3:0.775056\ttest-MAP@3:0.628399\n",
      "[17]\ttrain-MAP@3:0.782642\ttest-MAP@3:0.63142\n",
      "[18]\ttrain-MAP@3:0.790159\ttest-MAP@3:0.63142\n",
      "[19]\ttrain-MAP@3:0.796701\ttest-MAP@3:0.63142\n",
      "[20]\ttrain-MAP@3:0.802199\ttest-MAP@3:0.637462\n",
      "[21]\ttrain-MAP@3:0.808742\ttest-MAP@3:0.643505\n",
      "[22]\ttrain-MAP@3:0.813683\ttest-MAP@3:0.646526\n",
      "[23]\ttrain-MAP@3:0.818138\ttest-MAP@3:0.646526\n",
      "[24]\ttrain-MAP@3:0.822661\ttest-MAP@3:0.649547\n"
     ]
    },
    {
     "data": {
      "text/plain": [
       "<matplotlib.axes._subplots.AxesSubplot at 0x14bc19410>"
      ]
     },
     "execution_count": 183,
     "metadata": {},
     "output_type": "execute_result"
    },
    {
     "data": {
      "image/png": "[encoded data removed]",
      "text/plain": [
       "<matplotlib.figure.Figure at 0x112ef3890>"
      ]
     },
     "metadata": {},
     "output_type": "display_data"
    },
    {
     "data": {
      "image/png": "[encoded data removed]",
      "text/plain": [
       "<matplotlib.figure.Figure at 0x14bc0dc10>"
      ]
     },
     "metadata": {},
     "output_type": "display_data"
    }
   ],
   "source": [
    "\"\"\"\n",
    " learning_rate =0.1,\n",
    " n_estimators=100,\n",
    " max_depth=5,\n",
    " min_child_weight=1,\n",
    " gamma=0,\n",
    " subsample=0.8,\n",
    " colsample_bytree=0.8,\n",
    " objective= 'multi:softprob',\n",
    " nthread=4,\n",
    " scale_pos_weight=1\n",
    "\"\"\"\n",
    "# lower learning rate and more iterations\n",
    "er4 = {}\n",
    "bst4 = xgb.train({'num_class': len(enc['encoder'].classes_),\n",
    "                 'silent': 0,\n",
    "                 'nthread': 4,\n",
    "                 'eta': 0.1,\n",
    "                 'objective': 'multi:softprob',\n",
    "                 'max_depth': 9,\n",
    "                 'min_child_weight': 5,\n",
    "                 'gamma': 0,\n",
    "                 'subsample': 0.8,\n",
    "                 'colsample_bytree': 0.8,\n",
    "                 'scale_pos_weight': 1}, \n",
    "                dtrain, \n",
    "                num_boost_round = 25,\n",
    "                evals = [(dtrain, 'train'), (dtest, 'test')],\n",
    "                verbose_eval = True, evals_result = er4,\n",
    "                feval = map3eval)\n",
    "\n",
    "plt.figure()\n",
    "plt.plot(er4['test']['MAP@3'], 'r--', er4['train']['MAP@3'], 'b--')\n",
    "plt.title(\"MAP@3\")\n",
    "xgb.plot_importance(bst4)"
   ]
  },
  {
   "cell_type": "code",
   "execution_count": 122,
   "metadata": {
    "collapsed": false
   },
   "outputs": [
    {
     "data": {
      "text/plain": [
       "array([[  2.51130000e+03,   4.80280000e+03,   1.82607480e+01,\n",
       "          9.25333333e+01,   3.00000000e+00,   1.00000000e+01,\n",
       "          1.00000000e+01],\n",
       "       [  2.50415000e+03,   4.70320000e+03,   2.57287160e+01,\n",
       "          7.64666667e+01,   9.00000000e+00,   6.00000000e+00,\n",
       "          2.00000000e+01],\n",
       "       [  2.59260000e+03,   4.79980000e+03,   1.76342799e+01,\n",
       "          4.13333333e+00,   9.00000000e+00,   2.00000000e+00,\n",
       "          2.00000000e+01]])"
      ]
     },
     "execution_count": 122,
     "metadata": {},
     "output_type": "execute_result"
    }
   ],
   "source": [
    "X[:3]"
   ]
  },
  {
   "cell_type": "code",
   "execution_count": 110,
   "metadata": {
    "collapsed": false
   },
   "outputs": [
    {
     "name": "stdout",
     "output_type": "stream",
     "text": [
      "[0]\ttrain-map@3:0.120556\n",
      "[1]\ttrain-map@3:0.120556\n",
      "[2]\ttrain-map@3:0.120556\n",
      "[3]\ttrain-map@3:0.120556\n",
      "[4]\ttrain-map@3:0.120556\n",
      "[5]\ttrain-map@3:0.120556\n",
      "[6]\ttrain-map@3:0.120556\n",
      "[7]\ttrain-map@3:0.120556\n",
      "[8]\ttrain-map@3:0.120556\n",
      "[9]\ttrain-map@3:0.120556\n",
      "[10]\ttrain-map@3:0.120556\n",
      "[11]\ttrain-map@3:0.120556\n",
      "[12]\ttrain-map@3:0.120556\n",
      "[13]\ttrain-map@3:0.120556\n",
      "[14]\ttrain-map@3:0.120556\n",
      "[15]\ttrain-map@3:0.120556\n",
      "[16]\ttrain-map@3:0.120556\n",
      "[17]\ttrain-map@3:0.120556\n",
      "[18]\ttrain-map@3:0.120556\n",
      "[19]\ttrain-map@3:0.120556\n",
      "[20]\ttrain-map@3:0.120556\n",
      "[21]\ttrain-map@3:0.120556\n",
      "[22]\ttrain-map@3:0.120556\n",
      "[23]\ttrain-map@3:0.120556\n",
      "[24]\ttrain-map@3:0.120556\n"
     ]
    }
   ],
   "source": [
    "er = {}\n",
    "bst = xgb.train({\n",
    "                 'silent': 0,\n",
    "                 'eval_metric': ['map@3'],\n",
    "                 'eta': 0.1,\n",
    "                 'objective': 'rank:pairwise',\n",
    "                 }, \n",
    "                dtrain, \n",
    "                num_boost_round = 25,\n",
    "                verbose_eval = True, evals = [(dtrain, 'train')], evals_result = er)"
   ]
  },
  {
   "cell_type": "code",
   "execution_count": 8,
   "metadata": {
    "collapsed": false
   },
   "outputs": [
    {
     "name": "stdout",
     "output_type": "stream",
     "text": [
      "max_depth is 9\n",
      "min_child_weight is 5\n",
      "map of current iteration is 0.763427333333\n",
      "Best combination found and it is (max_depth: 9) and (min_child_weight: 5) with map@3: 0.763427333333\n",
      "max_depth is 9\n",
      "min_child_weight is 7\n",
      "map of current iteration is 0.760710333333\n",
      "max_depth is 9\n",
      "min_child_weight is 9\n",
      "map of current iteration is 0.754301666667\n",
      "max_depth is 9\n",
      "min_child_weight is 11\n",
      "map of current iteration is 0.746847666667\n",
      "max_depth is 9\n",
      "min_child_weight is 13\n",
      "map of current iteration is 0.739254666667\n",
      "max_depth is 9\n",
      "min_child_weight is 15\n",
      "map of current iteration is 0.730686333333\n",
      "max_depth is 11\n",
      "min_child_weight is 5\n",
      "map of current iteration is 0.762730666667\n",
      "max_depth is 11\n",
      "min_child_weight is 7\n",
      "map of current iteration is 0.760919333333\n",
      "max_depth is 11\n",
      "min_child_weight is 9\n",
      "map of current iteration is 0.753535666667\n",
      "max_depth is 11\n",
      "min_child_weight is 11\n",
      "map of current iteration is 0.746220666667\n",
      "max_depth is 11\n",
      "min_child_weight is 13\n",
      "map of current iteration is 0.738836666667\n",
      "max_depth is 11\n",
      "min_child_weight is 15\n",
      "map of current iteration is 0.730407666667\n",
      "max_depth is 13\n",
      "min_child_weight is 5\n",
      "map of current iteration is 0.764054333333\n",
      "Best combination found and it is (max_depth: 13) and (min_child_weight: 5) with map@3: 0.764054333333\n",
      "max_depth is 13\n",
      "min_child_weight is 7\n",
      "map of current iteration is 0.760362333333\n",
      "max_depth is 13\n",
      "min_child_weight is 9\n",
      "map of current iteration is 0.753675\n",
      "max_depth is 13\n",
      "min_child_weight is 11\n",
      "map of current iteration is 0.745663333333\n",
      "max_depth is 13\n",
      "min_child_weight is 13\n",
      "map of current iteration is 0.738976\n",
      "max_depth is 13\n",
      "min_child_weight is 15\n",
      "map of current iteration is 0.730477333333\n",
      "max_depth is 15\n",
      "min_child_weight is 5\n",
      "map of current iteration is 0.762103666667\n",
      "max_depth is 15\n",
      "min_child_weight is 7\n",
      "map of current iteration is 0.759735\n",
      "max_depth is 15\n",
      "min_child_weight is 9\n",
      "map of current iteration is 0.753675\n",
      "max_depth is 15\n",
      "min_child_weight is 11\n",
      "map of current iteration is 0.745802666667\n",
      "max_depth is 15\n",
      "min_child_weight is 13\n",
      "map of current iteration is 0.738976\n",
      "max_depth is 15\n",
      "min_child_weight is 15\n",
      "map of current iteration is 0.730477333333\n",
      "max_depth is 17\n",
      "min_child_weight is 5\n",
      "map of current iteration is 0.763288\n",
      "max_depth is 17\n",
      "min_child_weight is 7\n",
      "map of current iteration is 0.760710333333\n",
      "max_depth is 17\n",
      "min_child_weight is 9\n",
      "map of current iteration is 0.753675\n",
      "max_depth is 17\n",
      "min_child_weight is 11\n",
      "map of current iteration is 0.745802666667\n",
      "max_depth is 17\n",
      "min_child_weight is 13\n",
      "map of current iteration is 0.738976\n",
      "max_depth is 17\n",
      "min_child_weight is 15\n",
      "map of current iteration is 0.730477333333\n",
      "max_depth is 19\n",
      "min_child_weight is 5\n",
      "map of current iteration is 0.762034\n",
      "max_depth is 19\n",
      "min_child_weight is 7\n",
      "map of current iteration is 0.760640666667\n",
      "max_depth is 19\n",
      "min_child_weight is 9\n",
      "map of current iteration is 0.753675\n",
      "max_depth is 19\n",
      "min_child_weight is 11\n",
      "map of current iteration is 0.745802666667\n",
      "max_depth is 19\n",
      "min_child_weight is 13\n",
      "map of current iteration is 0.738976\n",
      "max_depth is 19\n",
      "min_child_weight is 15\n",
      "map of current iteration is 0.730477333333\n",
      "~~~~~~~~~results~~~~~~~~~~~~~~~~\n",
      "best max depth is: 13\n",
      "best min child weight is: 5\n",
      "best_map 0.764054333333\n"
     ]
    }
   ],
   "source": [
    "best_map = 0\n",
    "best_max_depth = 0\n",
    "best_min_child_weight = 0\n",
    "results3 = []\n",
    "for max_depth in range(9, 20, 2):\n",
    "    for min_child_weight in range(5, 16, 2):\n",
    "        print \"max_depth is %s\" %(max_depth)\n",
    "        print \"min_child_weight is %s\" %(min_child_weight)\n",
    "        temp_cv = xgb.cv({'num_class': len(enc['encoder'].classes_),\n",
    "                 'silent': 0,\n",
    "                 'nthread': 8,\n",
    "                 'eta': 0.1,\n",
    "                 'objective': 'multi:softprob',\n",
    "                 'max_depth': max_depth,\n",
    "                 'min_child_weight': min_child_weight,\n",
    "                 'gamma': 0,\n",
    "                 'subsample': 0.8,\n",
    "                 'colsample_bytree': 0.8,\n",
    "                 'scale_pos_weight': 1\n",
    "              },\n",
    "                dtrain, num_boost_round = 100, early_stopping_rounds = 20, \n",
    "                feval = map3eval, maximize = True\n",
    "            )\n",
    "        temp_map = temp_cv['test-MAP@3-mean'][temp_cv.shape[0]-1]\n",
    "        results3.append([max_depth, min_child_weight, temp_map])\n",
    "        print \"map of current iteration is %s\" %(temp_map)\n",
    "        if temp_map > best_map:\n",
    "            print \"Best combination found and it is (max_depth: %s) and (min_child_weight: %s) with map@3: %s\" %(max_depth, min_child_weight, temp_map)\n",
    "            best_map = temp_map\n",
    "            best_max_depth = max_depth\n",
    "            best_min_child_weight = min_child_weight\n",
    "\n",
    "print \"~~~~~~~~~results~~~~~~~~~~~~~~~~\"\n",
    "print \"best max depth is: %s\" %(best_max_depth)\n",
    "print \"best min child weight is: %s\" %(best_min_child_weight)\n",
    "print \"best_map\", str(best_map)"
   ]
  },
  {
   "cell_type": "code",
   "execution_count": null,
   "metadata": {
    "collapsed": true
   },
   "outputs": [],
   "source": []
  }
 ],
 "metadata": {
  "kernelspec": {
   "display_name": "Python 2",
   "language": "python",
   "name": "python2"
  },
  "language_info": {
   "codemirror_mode": {
    "name": "ipython",
    "version": 2
   },
   "file_extension": ".py",
   "mimetype": "text/x-python",
   "name": "python",
   "nbconvert_exporter": "python",
   "pygments_lexer": "ipython2",
   "version": "2.7.6"
  }
 },
 "nbformat": 4,
 "nbformat_minor": 0
}
