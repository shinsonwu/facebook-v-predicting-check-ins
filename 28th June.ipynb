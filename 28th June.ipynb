{
 "cells": [
  {
   "cell_type": "code",
   "execution_count": 1,
   "metadata": {
    "collapsed": false
   },
   "outputs": [
    {
     "name": "stdout",
     "output_type": "stream",
     "text": [
      "/Users/anil/Code/facebook/scripts\n"
     ]
    }
   ],
   "source": [
    "cd scripts/"
   ]
  },
  {
   "cell_type": "code",
   "execution_count": 6,
   "metadata": {
    "collapsed": true
   },
   "outputs": [],
   "source": [
    "import numpy as np\n",
    "#Import libraries:\n",
    "import pandas as pd\n",
    "import numpy as np\n",
    "from sklearn.ensemble import GradientBoostingClassifier  #GBM algorithm\n",
    "from sklearn import cross_validation, metrics   #Additional scklearn functions\n",
    "from sklearn.grid_search import GridSearchCV   #Perforing grid search\n",
    "\n",
    "import matplotlib.pylab as plt\n",
    "%matplotlib inline\n",
    "from matplotlib.pylab import rcParams\n",
    "rcParams['figure.figsize'] = 12, 4\n",
    "\n",
    "from sklearn.cross_validation import train_test_split\n",
    "import pickle\n",
    "\n",
    "from sklearn.preprocessing import LabelEncoder\n",
    "\n",
    "import xgboost as xgb"
   ]
  },
  {
   "cell_type": "code",
   "execution_count": 35,
   "metadata": {
    "collapsed": false
   },
   "outputs": [],
   "source": [
    "def transform_x(X, x_transformer = None):\n",
    "    \"\"\"\n",
    "    X = [[x, y, a, t]]\n",
    "    \"\"\"\n",
    "    fw = [500., 1000., 4., 3., 2., 10., 10.]\n",
    "    minute_v = X[:, 3]%60\n",
    "    hour_v = X[:, 3]//60\n",
    "    weekday_v = hour_v//24\n",
    "    month_v = weekday_v//30\n",
    "    year_v = (weekday_v//365 + 1)*fw[5]\n",
    "    hour_v = ((hour_v%24 + 1) + minute_v/60.0)*fw[2]\n",
    "    weekday_v = (weekday_v%7 + 1)*fw[3]\n",
    "    month_v = (month_v%12 +1)*fw[4]\n",
    "    accuracy_v = np.log10(X[:, 2])*fw[6]\n",
    "    x_v = X[:, 0]*fw[0]\n",
    "    y_v = X[:, 1]*fw[1]\n",
    "    return np.hstack((x_v.reshape(-1, 1),\\\n",
    "                     y_v.reshape(-1, 1),\\\n",
    "                     accuracy_v.reshape(-1, 1),\\\n",
    "                     hour_v.reshape(-1, 1),\\\n",
    "                     weekday_v.reshape(-1, 1),\\\n",
    "                     month_v.reshape(-1, 1),\\\n",
    "                     year_v.reshape(-1, 1)))\n",
    "\n",
    "def transform_y(y, y_transformer = None):\n",
    "    \"\"\"\n",
    "    place_ids to encoded array\n",
    "    \"\"\"\n",
    "    y = y.astype(int)\n",
    "    if y_transformer == None:\n",
    "        label_encoder = LabelEncoder()\n",
    "        label_encoder.fit(y)\n",
    "        y_transformer = {'encoder': label_encoder}\n",
    "    new_y = y_transformer['encoder'].transform(y).reshape(-1, 1)\n",
    "    return (new_y, y_transformer)\n",
    "\n",
    "def map3eval(preds, dtrain):\n",
    "    actual = dtrain.get_label()\n",
    "    predicted = preds.argsort(axis=1)[:,-np.arange(1,4)]\n",
    "    metric = 0.\n",
    "    for i in range(3):\n",
    "        metric += np.sum(actual==predicted[:,i])/(i+1)\n",
    "    metric /= actual.shape[0]\n",
    "    return 'MAP@3', metric\n",
    "\n",
    "def load_data(m, n):\n",
    "    return np.loadtxt('../grid1_400_100_50_10/grid_data_' + str(m)  + '_' + str(n) + '.csv', delimiter = ',')\n",
    "\n",
    "def get_preds(probs, encoder):\n",
    "    return encoder.inverse_transform(np.argsort(probs, axis = 1)[:, ::-1][:, :3])\n"
   ]
  },
  {
   "cell_type": "code",
   "execution_count": 7,
   "metadata": {
    "collapsed": true
   },
   "outputs": [],
   "source": [
    "m, n = 12, 40\n",
    "data = load_data(m, n)\n",
    "\n",
    "M = pickle.load(open('../grid1_400_100_50_10/cardinality_pickle.pkl', 'rb'))\n",
    "\n",
    "train, test = train_test_split(data, test_size = 0.02)"
   ]
  },
  {
   "cell_type": "code",
   "execution_count": 81,
   "metadata": {
    "collapsed": false
   },
   "outputs": [
    {
     "name": "stdout",
     "output_type": "stream",
     "text": [
      "(14359, 6) card_train_shape\n",
      "(16178, 6) train_shape\n",
      "(331, 6) test_shape\n",
      "(14359, 7) X shape\n",
      "(14359, 1) y shape\n",
      "(331, 7) test_X shape\n",
      "(331, 1) test_y shape\n",
      "770\n"
     ]
    }
   ],
   "source": [
    "mask = np.array(map(lambda x: M[m][n][x] > 20, train[:, 5]))\n",
    "card_train = train[mask, :]\n",
    "print card_train.shape, \"card_train_shape\"\n",
    "print train.shape, \"train_shape\"\n",
    "print test.shape, \"test_shape\"\n",
    "\n",
    "X = transform_x(card_train[:, (1, 2, 3, 4)])\n",
    "y_orig, enc = transform_y(data[:, 5])\n",
    "y, enc = transform_y(card_train[:, 5], enc)\n",
    "test_X = transform_x(test[:, (1, 2, 3, 4)])\n",
    "test_y, enc = transform_y(test[:, 5], enc)\n",
    "print X.shape, \"X shape\"\n",
    "print y.shape, \"y shape\"\n",
    "print test_X.shape, \"test_X shape\"\n",
    "print test_y.shape, \"test_y shape\"\n",
    "print len(enc['encoder'].classes_)\n",
    "\n",
    "dtrain = xgb.DMatrix(X, label=np.ravel(y))\n",
    "dtest = xgb.DMatrix(test_X, label=np.ravel(test_y))"
   ]
  },
  {
   "cell_type": "code",
   "execution_count": 10,
   "metadata": {
    "collapsed": false
   },
   "outputs": [
    {
     "name": "stdout",
     "output_type": "stream",
     "text": [
      "{'num_class': 770, 'silent': 0, 'eval_metric': ['merror', 'mlogloss'], 'nthread': 4, 'eta': 0.1, 'objective': 'multi:softprob', 'max_depth': 6} params\n"
     ]
    }
   ],
   "source": [
    "watchlist = [ (dtrain,'train'), (dtest, 'test') ]"
   ]
  },
  {
   "cell_type": "code",
   "execution_count": 46,
   "metadata": {
    "collapsed": false
   },
   "outputs": [
    {
     "name": "stdout",
     "output_type": "stream",
     "text": [
      "[0]\ttrain-merror:0.532419\ttrain-mlogloss:4.05949\ttest-merror:0.549849\ttest-mlogloss:4.52968\n",
      "[1]\ttrain-merror:0.519744\ttrain-mlogloss:2.75346\ttest-merror:0.546828\ttest-mlogloss:3.45458\n",
      "[2]\ttrain-merror:0.501288\ttrain-mlogloss:2.41366\ttest-merror:0.534743\ttest-mlogloss:3.22705\n",
      "[3]\ttrain-merror:0.490285\ttrain-mlogloss:2.19043\ttest-merror:0.519637\ttest-mlogloss:3.09013\n",
      "[4]\ttrain-merror:0.475451\ttrain-mlogloss:2.01516\ttest-merror:0.510574\ttest-mlogloss:2.97837\n"
     ]
    },
    {
     "data": {
      "text/plain": [
       "[<matplotlib.lines.Line2D at 0x141e86410>,\n",
       " <matplotlib.lines.Line2D at 0x141e86650>]"
      ]
     },
     "execution_count": 46,
     "metadata": {},
     "output_type": "execute_result"
    },
    {
     "data": {
      "image/png": "[encoded data removed]",
      "text/plain": [
       "<matplotlib.figure.Figure at 0x136c68cd0>"
      ]
     },
     "metadata": {},
     "output_type": "display_data"
    },
    {
     "data": {
      "image/png": "[encoded data removed]",
      "text/plain": [
       "<matplotlib.figure.Figure at 0x141d64710>"
      ]
     },
     "metadata": {},
     "output_type": "display_data"
    }
   ],
   "source": [
    "er = {}\n",
    "bst = xgb.train({'num_class': len(enc['encoder'].classes_),\n",
    "                 'silent': 0,\n",
    "                 'eval_metric': ['merror', 'mlogloss'],\n",
    "                 'nthread': 4,\n",
    "                 'eta': 0.1,\n",
    "                 'objective': 'multi:softprob',\n",
    "                 'max_depth': 6}, \n",
    "                dtrain, \n",
    "                num_boost_round = 5,\n",
    "                evals = [(dtrain, 'train'), (dtest, 'test')],\n",
    "                verbose_eval = True, evals_result = er)\n",
    "\n",
    "xgb.plot_importance(bst)\n",
    "plt.figure()\n",
    "plt.subplot(1, 2, 1)\n",
    "plt.plot(er['test']['merror'], 'r--', er['train']['merror'], 'b--')\n",
    "plt.title(\"merror\")\n",
    "plt.subplot(1, 2, 2)\n",
    "plt.title(\"mlogloss\")\n",
    "plt.plot(er['test']['mlogloss'], 'r--', er['train']['mlogloss'], 'b--')"
   ]
  },
  {
   "cell_type": "code",
   "execution_count": 36,
   "metadata": {
    "collapsed": true
   },
   "outputs": [],
   "source": [
    "preds = get_preds(bst.predict(dtest), enc['encoder'])"
   ]
  },
  {
   "cell_type": "code",
   "execution_count": 54,
   "metadata": {
    "collapsed": false
   },
   "outputs": [
    {
     "name": "stdout",
     "output_type": "stream",
     "text": [
      "[0]\ttrain-MAP@3:0.595515\ttest-MAP@3:0.546828\n",
      "[1]\ttrain-MAP@3:0.607563\ttest-MAP@3:0.543807\n",
      "[2]\ttrain-MAP@3:0.63556\ttest-MAP@3:0.564955\n",
      "[3]\ttrain-MAP@3:0.65109\ttest-MAP@3:0.58006\n",
      "[4]\ttrain-MAP@3:0.666899\ttest-MAP@3:0.589124\n"
     ]
    },
    {
     "data": {
      "text/plain": [
       "<matplotlib.axes._subplots.AxesSubplot at 0x1679f7490>"
      ]
     },
     "execution_count": 54,
     "metadata": {},
     "output_type": "execute_result"
    },
    {
     "data": {
      "image/png": "[encoded data removed]",
      "text/plain": [
       "<matplotlib.figure.Figure at 0x15743f990>"
      ]
     },
     "metadata": {},
     "output_type": "display_data"
    },
    {
     "data": {
      "image/png": "[encoded data removed]",
      "text/plain": [
       "<matplotlib.figure.Figure at 0x12b17fb90>"
      ]
     },
     "metadata": {},
     "output_type": "display_data"
    }
   ],
   "source": [
    "# map3eval as evaluation function\n",
    "er1 = {}\n",
    "bst1 = xgb.train({'num_class': len(enc['encoder'].classes_),\n",
    "                 'silent': 0,\n",
    "                 'nthread': 4,\n",
    "                 'eta': 0.1,\n",
    "                 'objective': 'multi:softprob',\n",
    "                 'max_depth': 6}, \n",
    "                dtrain, \n",
    "                num_boost_round = 5,\n",
    "                evals = [(dtrain, 'train'), (dtest, 'test')],\n",
    "                verbose_eval = True, evals_result = er1,\n",
    "                feval = map3eval,)\n",
    "\n",
    "plt.figure()\n",
    "plt.plot(er1['test']['MAP@3'], 'r--', er1['train']['MAP@3'], 'b--')\n",
    "plt.title(\"MAP@3\")\n",
    "xgb.plot_importance(bst1)"
   ]
  },
  {
   "cell_type": "markdown",
   "metadata": {},
   "source": [
    "Notes: Not much difference when I change the feval function from merror, mlogloss to map3eval. Its just useful in seeing how well our model is doing\n",
    "based on the evaluation metric. Probably a better objective function that is specific our problem exists? if its not softmax:prob what is it?"
   ]
  },
  {
   "cell_type": "code",
   "execution_count": 55,
   "metadata": {
    "collapsed": false
   },
   "outputs": [
    {
     "name": "stdout",
     "output_type": "stream",
     "text": [
      "[0]\ttrain-MAP@3:0.595515\ttest-MAP@3:0.546828\n",
      "[1]\ttrain-MAP@3:0.626506\ttest-MAP@3:0.555891\n",
      "[2]\ttrain-MAP@3:0.653458\ttest-MAP@3:0.574018\n",
      "[3]\ttrain-MAP@3:0.67052\ttest-MAP@3:0.586103\n",
      "[4]\ttrain-MAP@3:0.682986\ttest-MAP@3:0.592145\n",
      "[5]\ttrain-MAP@3:0.696706\ttest-MAP@3:0.601208\n",
      "[6]\ttrain-MAP@3:0.705133\ttest-MAP@3:0.607251\n",
      "[7]\ttrain-MAP@3:0.714952\ttest-MAP@3:0.607251\n",
      "[8]\ttrain-MAP@3:0.722334\ttest-MAP@3:0.613293\n",
      "[9]\ttrain-MAP@3:0.727418\ttest-MAP@3:0.622356\n",
      "[10]\ttrain-MAP@3:0.733686\ttest-MAP@3:0.628399\n",
      "[11]\ttrain-MAP@3:0.737517\ttest-MAP@3:0.625378\n",
      "[12]\ttrain-MAP@3:0.741834\ttest-MAP@3:0.634441\n",
      "[13]\ttrain-MAP@3:0.745804\ttest-MAP@3:0.637462\n",
      "[14]\ttrain-MAP@3:0.749147\ttest-MAP@3:0.640483\n",
      "[15]\ttrain-MAP@3:0.752211\ttest-MAP@3:0.640483\n",
      "[16]\ttrain-MAP@3:0.755206\ttest-MAP@3:0.643505\n",
      "[17]\ttrain-MAP@3:0.757852\ttest-MAP@3:0.646526\n",
      "[18]\ttrain-MAP@3:0.759942\ttest-MAP@3:0.649547\n",
      "[19]\ttrain-MAP@3:0.762518\ttest-MAP@3:0.649547\n",
      "[20]\ttrain-MAP@3:0.764399\ttest-MAP@3:0.649547\n",
      "[21]\ttrain-MAP@3:0.766558\ttest-MAP@3:0.649547\n",
      "[22]\ttrain-MAP@3:0.768229\ttest-MAP@3:0.649547\n",
      "[23]\ttrain-MAP@3:0.769761\ttest-MAP@3:0.646526\n",
      "[24]\ttrain-MAP@3:0.771015\ttest-MAP@3:0.646526\n"
     ]
    },
    {
     "data": {
      "text/plain": [
       "<matplotlib.axes._subplots.AxesSubplot at 0x167ac4c50>"
      ]
     },
     "execution_count": 55,
     "metadata": {},
     "output_type": "execute_result"
    },
    {
     "data": {
      "image/png": "[encoded data removed]",
      "text/plain": [
       "<matplotlib.figure.Figure at 0x1679f7390>"
      ]
     },
     "metadata": {},
     "output_type": "display_data"
    },
    {
     "data": {
      "image/png": "[encoded data removed]",
      "text/plain": [
       "<matplotlib.figure.Figure at 0x10f972210>"
      ]
     },
     "metadata": {},
     "output_type": "display_data"
    }
   ],
   "source": [
    "# lower learning rate and more iterations\n",
    "er2 = {}\n",
    "bst2 = xgb.train({'num_class': len(enc['encoder'].classes_),\n",
    "                 'silent': 0,\n",
    "                 'nthread': 4,\n",
    "                 'eta': 0.01,\n",
    "                 'objective': 'multi:softprob',\n",
    "                 'max_depth': 6}, \n",
    "                dtrain, \n",
    "                num_boost_round = 25,\n",
    "                evals = [(dtrain, 'train'), (dtest, 'test')],\n",
    "                verbose_eval = True, evals_result = er2,\n",
    "                feval = map3eval, maximize = True)\n",
    "\n",
    "plt.figure()\n",
    "plt.plot(er2['test']['MAP@3'], 'r--', er2['train']['MAP@3'], 'b--')\n",
    "plt.title(\"MAP@3\")\n",
    "xgb.plot_importance(bst2)"
   ]
  },
  {
   "cell_type": "code",
   "execution_count": 64,
   "metadata": {
    "collapsed": false
   },
   "outputs": [
    {
     "name": "stdout",
     "output_type": "stream",
     "text": [
      "[0]\ttrain-MAP@3:0.595515\ttest-MAP@3:0.546828\n",
      "[1]\ttrain-MAP@3:0.627481\ttest-MAP@3:0.558912\n",
      "[2]\ttrain-MAP@3:0.653667\ttest-MAP@3:0.574018\n",
      "[3]\ttrain-MAP@3:0.671147\ttest-MAP@3:0.586103\n",
      "[4]\ttrain-MAP@3:0.68417\ttest-MAP@3:0.595166\n",
      "[5]\ttrain-MAP@3:0.69782\ttest-MAP@3:0.607251\n",
      "[6]\ttrain-MAP@3:0.707083\ttest-MAP@3:0.610272\n",
      "[7]\ttrain-MAP@3:0.71739\ttest-MAP@3:0.613293\n",
      "[8]\ttrain-MAP@3:0.724563\ttest-MAP@3:0.619335\n",
      "[9]\ttrain-MAP@3:0.7309\ttest-MAP@3:0.625378\n",
      "[10]\ttrain-MAP@3:0.737029\ttest-MAP@3:0.63142\n",
      "[11]\ttrain-MAP@3:0.740929\ttest-MAP@3:0.628399\n",
      "[12]\ttrain-MAP@3:0.746292\ttest-MAP@3:0.637462\n",
      "[13]\ttrain-MAP@3:0.75054\ttest-MAP@3:0.640483\n",
      "[14]\ttrain-MAP@3:0.754092\ttest-MAP@3:0.643505\n",
      "[15]\ttrain-MAP@3:0.757713\ttest-MAP@3:0.646526\n",
      "[16]\ttrain-MAP@3:0.761474\ttest-MAP@3:0.646526\n",
      "[17]\ttrain-MAP@3:0.76405\ttest-MAP@3:0.649547\n",
      "[18]\ttrain-MAP@3:0.766975\ttest-MAP@3:0.646526\n",
      "[19]\ttrain-MAP@3:0.769552\ttest-MAP@3:0.649547\n",
      "[20]\ttrain-MAP@3:0.772756\ttest-MAP@3:0.649547\n",
      "[21]\ttrain-MAP@3:0.774288\ttest-MAP@3:0.649547\n",
      "[22]\ttrain-MAP@3:0.775681\ttest-MAP@3:0.649547\n",
      "[23]\ttrain-MAP@3:0.777979\ttest-MAP@3:0.649547\n",
      "[24]\ttrain-MAP@3:0.780208\ttest-MAP@3:0.649547\n"
     ]
    },
    {
     "data": {
      "text/plain": [
       "<matplotlib.axes._subplots.AxesSubplot at 0x1573e8690>"
      ]
     },
     "execution_count": 64,
     "metadata": {},
     "output_type": "execute_result"
    },
    {
     "data": {
      "image/png": "[encoded data removed]",
      "text/plain": [
       "<matplotlib.figure.Figure at 0x12b17f350>"
      ]
     },
     "metadata": {},
     "output_type": "display_data"
    },
    {
     "data": {
      "image/png": "[encoded data removed]",
      "text/plain": [
       "<matplotlib.figure.Figure at 0x1578166d0>"
      ]
     },
     "metadata": {},
     "output_type": "display_data"
    }
   ],
   "source": [
    "# lower learning rate and more iterations\n",
    "er3 = {}\n",
    "bst3 = xgb.train({'num_class': len(enc['encoder'].classes_),\n",
    "                 'silent': 0,\n",
    "                 'nthread': 4,\n",
    "                 'eta': 0.01,\n",
    "                 'objective': 'multi:softprob',\n",
    "                 'max_depth': 10}, \n",
    "                dtrain, \n",
    "                num_boost_round = 25,\n",
    "                evals = [(dtrain, 'train'), (dtest, 'test')],\n",
    "                verbose_eval = True, evals_result = er3,\n",
    "                feval = map3eval)\n",
    "\n",
    "plt.figure()\n",
    "plt.plot(er3['test']['MAP@3'], 'r--', er3['train']['MAP@3'], 'b--')\n",
    "plt.title(\"MAP@3\")\n",
    "xgb.plot_importance(bst3)"
   ]
  },
  {
   "cell_type": "code",
   "execution_count": 94,
   "metadata": {
    "collapsed": false
   },
   "outputs": [
    {
     "name": "stdout",
     "output_type": "stream",
     "text": [
      "[0]\ttrain-MAP@3:0.522529\ttest-MAP@3:0.489426\n",
      "[1]\ttrain-MAP@3:0.535274\ttest-MAP@3:0.492447\n",
      "[2]\ttrain-MAP@3:0.581308\ttest-MAP@3:0.537764\n",
      "[3]\ttrain-MAP@3:0.605265\ttest-MAP@3:0.555891\n",
      "[4]\ttrain-MAP@3:0.626924\ttest-MAP@3:0.564955\n",
      "[5]\ttrain-MAP@3:0.642315\ttest-MAP@3:0.570997\n",
      "[6]\ttrain-MAP@3:0.660631\ttest-MAP@3:0.586103\n",
      "[7]\ttrain-MAP@3:0.675813\ttest-MAP@3:0.595166\n",
      "[8]\ttrain-MAP@3:0.691622\ttest-MAP@3:0.601208\n",
      "[9]\ttrain-MAP@3:0.707152\ttest-MAP@3:0.60423\n",
      "[10]\ttrain-MAP@3:0.719758\ttest-MAP@3:0.613293\n",
      "[11]\ttrain-MAP@3:0.733686\ttest-MAP@3:0.616314\n",
      "[12]\ttrain-MAP@3:0.745665\ttest-MAP@3:0.622356\n",
      "[13]\ttrain-MAP@3:0.756181\ttest-MAP@3:0.628399\n",
      "[14]\ttrain-MAP@3:0.765583\ttest-MAP@3:0.63142\n",
      "[15]\ttrain-MAP@3:0.775054\ttest-MAP@3:0.637462\n",
      "[16]\ttrain-MAP@3:0.783133\ttest-MAP@3:0.640483\n",
      "[17]\ttrain-MAP@3:0.790166\ttest-MAP@3:0.643505\n",
      "[18]\ttrain-MAP@3:0.795877\ttest-MAP@3:0.640483\n",
      "[19]\ttrain-MAP@3:0.802215\ttest-MAP@3:0.649547\n",
      "[20]\ttrain-MAP@3:0.807368\ttest-MAP@3:0.649547\n",
      "[21]\ttrain-MAP@3:0.813357\ttest-MAP@3:0.652568\n",
      "[22]\ttrain-MAP@3:0.818302\ttest-MAP@3:0.655589\n",
      "[23]\ttrain-MAP@3:0.823525\ttest-MAP@3:0.655589\n",
      "[24]\ttrain-MAP@3:0.828122\ttest-MAP@3:0.655589\n",
      "[25]\ttrain-MAP@3:0.833415\ttest-MAP@3:0.661631\n",
      "[26]\ttrain-MAP@3:0.838081\ttest-MAP@3:0.664653\n",
      "[27]\ttrain-MAP@3:0.842538\ttest-MAP@3:0.667674\n",
      "[28]\ttrain-MAP@3:0.846298\ttest-MAP@3:0.664653\n",
      "[29]\ttrain-MAP@3:0.850268\ttest-MAP@3:0.664653\n",
      "[30]\ttrain-MAP@3:0.853472\ttest-MAP@3:0.664653\n",
      "[31]\ttrain-MAP@3:0.856884\ttest-MAP@3:0.661631\n",
      "[32]\ttrain-MAP@3:0.860923\ttest-MAP@3:0.664653\n",
      "[33]\ttrain-MAP@3:0.864545\ttest-MAP@3:0.667674\n",
      "[34]\ttrain-MAP@3:0.867191\ttest-MAP@3:0.661631\n",
      "[35]\ttrain-MAP@3:0.870534\ttest-MAP@3:0.664653\n",
      "[36]\ttrain-MAP@3:0.873111\ttest-MAP@3:0.664653\n",
      "[37]\ttrain-MAP@3:0.876732\ttest-MAP@3:0.667674\n",
      "[38]\ttrain-MAP@3:0.878891\ttest-MAP@3:0.667674\n",
      "[39]\ttrain-MAP@3:0.881886\ttest-MAP@3:0.667674\n",
      "[40]\ttrain-MAP@3:0.884393\ttest-MAP@3:0.664653\n",
      "[41]\ttrain-MAP@3:0.887806\ttest-MAP@3:0.667674\n",
      "[42]\ttrain-MAP@3:0.889895\ttest-MAP@3:0.667674\n",
      "[43]\ttrain-MAP@3:0.892263\ttest-MAP@3:0.664653\n",
      "[44]\ttrain-MAP@3:0.894422\ttest-MAP@3:0.664653\n",
      "[45]\ttrain-MAP@3:0.896789\ttest-MAP@3:0.664653\n",
      "[46]\ttrain-MAP@3:0.899018\ttest-MAP@3:0.664653\n",
      "[47]\ttrain-MAP@3:0.901664\ttest-MAP@3:0.664653\n",
      "[48]\ttrain-MAP@3:0.903406\ttest-MAP@3:0.661631\n",
      "[49]\ttrain-MAP@3:0.905425\ttest-MAP@3:0.661631\n",
      "[50]\ttrain-MAP@3:0.907723\ttest-MAP@3:0.661631\n",
      "[51]\ttrain-MAP@3:0.909743\ttest-MAP@3:0.667674\n",
      "[52]\ttrain-MAP@3:0.911693\ttest-MAP@3:0.661631\n",
      "[53]\ttrain-MAP@3:0.913434\ttest-MAP@3:0.661631\n",
      "[54]\ttrain-MAP@3:0.915454\ttest-MAP@3:0.667674\n",
      "[55]\ttrain-MAP@3:0.917125\ttest-MAP@3:0.664653\n",
      "[56]\ttrain-MAP@3:0.918797\ttest-MAP@3:0.65861\n",
      "[57]\ttrain-MAP@3:0.920886\ttest-MAP@3:0.65861\n",
      "[58]\ttrain-MAP@3:0.922348\ttest-MAP@3:0.661631\n",
      "[59]\ttrain-MAP@3:0.92402\ttest-MAP@3:0.65861\n",
      "[60]\ttrain-MAP@3:0.925482\ttest-MAP@3:0.65861\n",
      "[61]\ttrain-MAP@3:0.927014\ttest-MAP@3:0.661631\n",
      "[62]\ttrain-MAP@3:0.928407\ttest-MAP@3:0.661631\n",
      "[63]\ttrain-MAP@3:0.930427\ttest-MAP@3:0.661631\n",
      "[64]\ttrain-MAP@3:0.931472\ttest-MAP@3:0.664653\n",
      "[65]\ttrain-MAP@3:0.933422\ttest-MAP@3:0.664653\n",
      "[66]\ttrain-MAP@3:0.935023\ttest-MAP@3:0.661631\n",
      "[67]\ttrain-MAP@3:0.936416\ttest-MAP@3:0.664653\n",
      "[68]\ttrain-MAP@3:0.937948\ttest-MAP@3:0.661631\n",
      "[69]\ttrain-MAP@3:0.938993\ttest-MAP@3:0.661631\n",
      "[70]\ttrain-MAP@3:0.940386\ttest-MAP@3:0.664653\n",
      "[71]\ttrain-MAP@3:0.941709\ttest-MAP@3:0.661631\n",
      "[72]\ttrain-MAP@3:0.942545\ttest-MAP@3:0.661631\n",
      "[73]\ttrain-MAP@3:0.943938\ttest-MAP@3:0.664653\n",
      "[74]\ttrain-MAP@3:0.94533\ttest-MAP@3:0.661631\n",
      "[75]\ttrain-MAP@3:0.946514\ttest-MAP@3:0.664653\n",
      "[76]\ttrain-MAP@3:0.948186\ttest-MAP@3:0.667674\n",
      "[77]\ttrain-MAP@3:0.949161\ttest-MAP@3:0.664653\n",
      "[78]\ttrain-MAP@3:0.949997\ttest-MAP@3:0.667674\n",
      "[79]\ttrain-MAP@3:0.951111\ttest-MAP@3:0.664653\n",
      "[80]\ttrain-MAP@3:0.952573\ttest-MAP@3:0.667674\n",
      "[81]\ttrain-MAP@3:0.953548\ttest-MAP@3:0.667674\n",
      "[82]\ttrain-MAP@3:0.954384\ttest-MAP@3:0.667674\n",
      "[83]\ttrain-MAP@3:0.955429\ttest-MAP@3:0.667674\n",
      "[84]\ttrain-MAP@3:0.956473\ttest-MAP@3:0.664653\n",
      "[85]\ttrain-MAP@3:0.957379\ttest-MAP@3:0.664653\n",
      "[86]\ttrain-MAP@3:0.958075\ttest-MAP@3:0.664653\n",
      "[87]\ttrain-MAP@3:0.95898\ttest-MAP@3:0.667674\n",
      "[88]\ttrain-MAP@3:0.960095\ttest-MAP@3:0.667674\n",
      "[89]\ttrain-MAP@3:0.960721\ttest-MAP@3:0.667674\n",
      "[90]\ttrain-MAP@3:0.961348\ttest-MAP@3:0.667674\n",
      "[91]\ttrain-MAP@3:0.962323\ttest-MAP@3:0.667674\n",
      "[92]\ttrain-MAP@3:0.963298\ttest-MAP@3:0.664653\n",
      "[93]\ttrain-MAP@3:0.964273\ttest-MAP@3:0.664653\n",
      "[94]\ttrain-MAP@3:0.964691\ttest-MAP@3:0.664653\n",
      "[95]\ttrain-MAP@3:0.965457\ttest-MAP@3:0.661631\n",
      "[96]\ttrain-MAP@3:0.966014\ttest-MAP@3:0.661631\n",
      "[97]\ttrain-MAP@3:0.967059\ttest-MAP@3:0.667674\n",
      "[98]\ttrain-MAP@3:0.967616\ttest-MAP@3:0.664653\n",
      "[99]\ttrain-MAP@3:0.968382\ttest-MAP@3:0.667674\n"
     ]
    },
    {
     "data": {
      "text/plain": [
       "<matplotlib.axes._subplots.AxesSubplot at 0x11e9ca950>"
      ]
     },
     "execution_count": 94,
     "metadata": {},
     "output_type": "execute_result"
    },
    {
     "data": {
      "image/png": "[encoded data removed]",
      "text/plain": [
       "<matplotlib.figure.Figure at 0x17537efd0>"
      ]
     },
     "metadata": {},
     "output_type": "display_data"
    },
    {
     "data": {
      "image/png": "[encoded data removed]",
      "text/plain": [
       "<matplotlib.figure.Figure at 0x167d60b90>"
      ]
     },
     "metadata": {},
     "output_type": "display_data"
    }
   ],
   "source": [
    "\"\"\"\n",
    " learning_rate =0.1,\n",
    " n_estimators=100,\n",
    " max_depth=5,\n",
    " min_child_weight=1,\n",
    " gamma=0,\n",
    " subsample=0.8,\n",
    " colsample_bytree=0.8,\n",
    " objective= 'multi:softprob',\n",
    " nthread=4,\n",
    " scale_pos_weight=1\n",
    "\"\"\"\n",
    "# lower learning rate and more iterations\n",
    "er4 = {}\n",
    "bst4 = xgb.train({'num_class': len(enc['encoder'].classes_),\n",
    "                 'silent': 0,\n",
    "                 'nthread': 4,\n",
    "                 'eta': 0.1,\n",
    "                 'objective': 'multi:softprob',\n",
    "                 'max_depth': 5,\n",
    "                 'min_child_weight': 1,\n",
    "                 'gamma': 0,\n",
    "                 'subsample': 0.8,\n",
    "                 'colsample_bytree': 0.8,\n",
    "                 'scale_pos_weight': 1}, \n",
    "                dtrain, \n",
    "                num_boost_round = 100,\n",
    "                evals = [(dtrain, 'train'), (dtest, 'test')],\n",
    "                verbose_eval = True, evals_result = er4,\n",
    "                feval = map3eval)\n",
    "\n",
    "plt.figure()\n",
    "plt.plot(er4['test']['MAP@3'], 'r--', er4['train']['MAP@3'], 'b--')\n",
    "plt.title(\"MAP@3\")\n",
    "xgb.plot_importance(bst4)"
   ]
  },
  {
   "cell_type": "code",
   "execution_count": 67,
   "metadata": {
    "collapsed": false
   },
   "outputs": [
    {
     "name": "stdout",
     "output_type": "stream",
     "text": [
      "[0]\ttrain-MAP@3:0.55133+0.00394978\ttest-MAP@3:0.527999+0.00310372\n",
      "[1]\ttrain-MAP@3:0.591238+0.00423461\ttest-MAP@3:0.566026+0.00111901\n",
      "[2]\ttrain-MAP@3:0.619132+0.0069521\ttest-MAP@3:0.591238+0.00461031\n",
      "[3]\ttrain-MAP@3:0.640305+0.00264835\ttest-MAP@3:0.610113+0.00209649\n",
      "[4]\ttrain-MAP@3:0.655001+0.00669573\ttest-MAP@3:0.621883+0.00265009\n",
      "[5]\ttrain-MAP@3:0.667119+0.00509258\ttest-MAP@3:0.6324+0.00239637\n",
      "[6]\ttrain-MAP@3:0.677741+0.00520685\ttest-MAP@3:0.641872+0.00350058\n",
      "[7]\ttrain-MAP@3:0.688676+0.00452247\ttest-MAP@3:0.649603+0.00325481\n",
      "[8]\ttrain-MAP@3:0.697834+0.00266248\ttest-MAP@3:0.65817+0.00291522\n",
      "[9]\ttrain-MAP@3:0.706749+0.00096877\ttest-MAP@3:0.664507+0.0034516\n"
     ]
    }
   ],
   "source": [
    "cv1 = xgb.cv({'num_class': len(enc['encoder'].classes_),\n",
    "                 'silent': 0,\n",
    "                 'nthread': 4,\n",
    "                 'eta': 0.01,\n",
    "                 'objective': 'multi:softprob',\n",
    "                 'max_depth': 10}, \n",
    "                dtrain, \n",
    "                feval = map3eval, maximize = True, verbose_eval = True\n",
    "        )"
   ]
  },
  {
   "cell_type": "code",
   "execution_count": 96,
   "metadata": {
    "collapsed": false
   },
   "outputs": [
    {
     "name": "stdout",
     "output_type": "stream",
     "text": [
      "[0]\ttrain-MAP@3:0.455495+0.00460841\ttest-MAP@3:0.435854+0.00447155\n",
      "[1]\ttrain-MAP@3:0.511353+0.0109989\ttest-MAP@3:0.485792+0.00547263\n",
      "[2]\ttrain-MAP@3:0.547987+0.0105796\ttest-MAP@3:0.514069+0.00495108\n",
      "[3]\ttrain-MAP@3:0.577935+0.0065459\ttest-MAP@3:0.537888+0.00258331\n",
      "[4]\ttrain-MAP@3:0.603183+0.00558864\ttest-MAP@3:0.556275+0.00214684\n",
      "[5]\ttrain-MAP@3:0.625644+0.00861049\ttest-MAP@3:0.573617+0.00433715\n",
      "[6]\ttrain-MAP@3:0.645842+0.0082092\ttest-MAP@3:0.58692+0.00532678\n",
      "[7]\ttrain-MAP@3:0.665727+0.0080627\ttest-MAP@3:0.601059+0.00469185\n",
      "[8]\ttrain-MAP@3:0.684183+0.00777507\ttest-MAP@3:0.612899+0.00307716\n",
      "[9]\ttrain-MAP@3:0.698983+0.00636285\ttest-MAP@3:0.624321+0.0021374\n",
      "[10]\ttrain-MAP@3:0.713087+0.00589581\ttest-MAP@3:0.632679+0.00240685\n",
      "[11]\ttrain-MAP@3:0.726006+0.00421503\ttest-MAP@3:0.641245+0.0016452\n",
      "[12]\ttrain-MAP@3:0.739344+0.002438\ttest-MAP@3:0.649742+0.00265021\n",
      "[13]\ttrain-MAP@3:0.751498+0.00306391\ttest-MAP@3:0.656637+0.00208455\n",
      "[14]\ttrain-MAP@3:0.763546+0.00247256\ttest-MAP@3:0.664298+0.00165697\n",
      "[15]\ttrain-MAP@3:0.774446+0.00156578\ttest-MAP@3:0.671055+0.00136834\n",
      "[16]\ttrain-MAP@3:0.78451+0.00103185\ttest-MAP@3:0.677532+0.0022004\n",
      "[17]\ttrain-MAP@3:0.792485+0.00116449\ttest-MAP@3:0.682407+0.00213061\n",
      "[18]\ttrain-MAP@3:0.799798+0.00115833\ttest-MAP@3:0.687491+0.00203542\n",
      "[19]\ttrain-MAP@3:0.807459+0.000898323\ttest-MAP@3:0.692019+0.00162741\n",
      "[20]\ttrain-MAP@3:0.813902+0.000580488\ttest-MAP@3:0.694944+0.00102348\n",
      "[21]\ttrain-MAP@3:0.820553+0.000999603\ttest-MAP@3:0.698635+0.00149048\n",
      "[22]\ttrain-MAP@3:0.826577+0.00081381\ttest-MAP@3:0.70156+0.00187924\n",
      "[23]\ttrain-MAP@3:0.832254+0.00124325\ttest-MAP@3:0.704068+0.00190234\n",
      "[24]\ttrain-MAP@3:0.838+0.00143067\ttest-MAP@3:0.707202+0.00262292\n",
      "[25]\ttrain-MAP@3:0.84284+0.00161454\ttest-MAP@3:0.70936+0.00217824\n",
      "[26]\ttrain-MAP@3:0.847054+0.00134071\ttest-MAP@3:0.71152+0.00170886\n",
      "[27]\ttrain-MAP@3:0.851511+0.00158269\ttest-MAP@3:0.713748+0.00217824\n",
      "[28]\ttrain-MAP@3:0.856108+0.00192689\ttest-MAP@3:0.715699+0.00142093\n",
      "[29]\ttrain-MAP@3:0.860357+0.0018384\ttest-MAP@3:0.7173+0.00177295\n",
      "[30]\ttrain-MAP@3:0.864152+0.00174911\ttest-MAP@3:0.719459+0.00211903\n",
      "[31]\ttrain-MAP@3:0.867913+0.00174911\ttest-MAP@3:0.720852+0.00193772\n",
      "[32]\ttrain-MAP@3:0.872197+0.00183402\ttest-MAP@3:0.722454+0.000939855\n",
      "[33]\ttrain-MAP@3:0.875888+0.00162087\ttest-MAP@3:0.723708+0.00142047\n",
      "[34]\ttrain-MAP@3:0.879336+0.00169947\ttest-MAP@3:0.724753+0.00128039\n",
      "[35]\ttrain-MAP@3:0.883131+0.00182388\ttest-MAP@3:0.725728+0.0017089\n",
      "[36]\ttrain-MAP@3:0.886683+0.00170678\ttest-MAP@3:0.726912+0.00204696\n",
      "[37]\ttrain-MAP@3:0.889713+0.00200827\ttest-MAP@3:0.727399+0.00222673\n",
      "[38]\ttrain-MAP@3:0.892882+0.00196267\ttest-MAP@3:0.728374+0.00213782\n",
      "[39]\ttrain-MAP@3:0.89532+0.00171246\ttest-MAP@3:0.729837+0.00230767\n",
      "[40]\ttrain-MAP@3:0.898141+0.00209112\ttest-MAP@3:0.730951+0.00196265\n",
      "[41]\ttrain-MAP@3:0.900892+0.00226383\ttest-MAP@3:0.731508+0.00178115\n",
      "[42]\ttrain-MAP@3:0.902981+0.00201191\ttest-MAP@3:0.732205+0.0017089\n",
      "[43]\ttrain-MAP@3:0.905279+0.00200465\ttest-MAP@3:0.73325+0.00199935\n",
      "[44]\ttrain-MAP@3:0.907891+0.00172376\ttest-MAP@3:0.733528+0.00179166\n",
      "[45]\ttrain-MAP@3:0.910433+0.0017487\ttest-MAP@3:0.734712+0.00213325\n",
      "[46]\ttrain-MAP@3:0.912767+0.00175008\ttest-MAP@3:0.734922+0.00248581\n",
      "[47]\ttrain-MAP@3:0.914891+0.00179206\ttest-MAP@3:0.735827+0.00239676\n",
      "[48]\ttrain-MAP@3:0.917433+0.00197741\ttest-MAP@3:0.736871+0.00239637\n",
      "[49]\ttrain-MAP@3:0.919627+0.00163932\ttest-MAP@3:0.737289+0.00266661\n",
      "[50]\ttrain-MAP@3:0.921716+0.00136056\ttest-MAP@3:0.737289+0.0024975\n",
      "[51]\ttrain-MAP@3:0.924188+0.00108001\ttest-MAP@3:0.737638+0.00204933\n",
      "[52]\ttrain-MAP@3:0.926626+0.00150287\ttest-MAP@3:0.737777+0.00196719\n",
      "[53]\ttrain-MAP@3:0.92882+0.00136831\ttest-MAP@3:0.738543+0.0017757\n",
      "[54]\ttrain-MAP@3:0.930805+0.0012574\ttest-MAP@3:0.739518+0.0013029\n",
      "[55]\ttrain-MAP@3:0.932442+0.00113279\ttest-MAP@3:0.739588+0.00121024\n",
      "[56]\ttrain-MAP@3:0.934392+0.00129089\ttest-MAP@3:0.740145+0.00153856\n",
      "[57]\ttrain-MAP@3:0.93582+0.00130579\ttest-MAP@3:0.740145+0.00154804\n",
      "[58]\ttrain-MAP@3:0.937352+0.00136013\ttest-MAP@3:0.74105+0.00158513\n",
      "[59]\ttrain-MAP@3:0.939128+0.000911743\ttest-MAP@3:0.741538+0.00173144\n",
      "[60]\ttrain-MAP@3:0.940486+0.000904108\ttest-MAP@3:0.741329+0.00179746\n",
      "[61]\ttrain-MAP@3:0.942018+0.000898749\ttest-MAP@3:0.741747+0.00179746\n",
      "[62]\ttrain-MAP@3:0.943411+0.00138692\ttest-MAP@3:0.742234+0.00216035\n",
      "[63]\ttrain-MAP@3:0.944839+0.00117283\ttest-MAP@3:0.742652+0.0017089\n",
      "[64]\ttrain-MAP@3:0.946128+0.000819695\ttest-MAP@3:0.742583+0.00196758\n",
      "[65]\ttrain-MAP@3:0.947346+0.00100578\ttest-MAP@3:0.74314+0.00199207\n",
      "[66]\ttrain-MAP@3:0.94853+0.00112618\ttest-MAP@3:0.743279+0.00225271\n",
      "[67]\ttrain-MAP@3:0.949923+0.000980919\ttest-MAP@3:0.743558+0.00182424\n",
      "[68]\ttrain-MAP@3:0.951595+0.00077418\ttest-MAP@3:0.743488+0.00180822\n",
      "[69]\ttrain-MAP@3:0.952884+0.000922693\ttest-MAP@3:0.743697+0.0017089\n",
      "[70]\ttrain-MAP@3:0.954137+0.000865541\ttest-MAP@3:0.744185+0.00136834\n",
      "[71]\ttrain-MAP@3:0.955252+0.0010527\ttest-MAP@3:0.744881+0.00170607\n",
      "[72]\ttrain-MAP@3:0.956749+0.000898711\ttest-MAP@3:0.744811+0.00205642\n",
      "[73]\ttrain-MAP@3:0.957724+0.000939459\ttest-MAP@3:0.744951+0.00221979\n",
      "[74]\ttrain-MAP@3:0.958943+0.000758146\ttest-MAP@3:0.745229+0.00214684\n",
      "[75]\ttrain-MAP@3:0.959987+0.00114785\ttest-MAP@3:0.745508+0.00230806\n",
      "[76]\ttrain-MAP@3:0.961102+0.00116412\ttest-MAP@3:0.745438+0.00247407\n",
      "[77]\ttrain-MAP@3:0.962286+0.00102348\ttest-MAP@3:0.745856+0.00239679\n",
      "[78]\ttrain-MAP@3:0.963261+0.000805989\ttest-MAP@3:0.745926+0.00156366\n",
      "[79]\ttrain-MAP@3:0.964584+0.000597034\ttest-MAP@3:0.745995+0.00145093\n",
      "[80]\ttrain-MAP@3:0.965629+0.000666035\ttest-MAP@3:0.745508+0.00162745\n",
      "[81]\ttrain-MAP@3:0.966639+0.000735414\ttest-MAP@3:0.745856+0.00180822\n",
      "[82]\ttrain-MAP@3:0.967614+0.000532455\ttest-MAP@3:0.745647+0.00154804\n",
      "[83]\ttrain-MAP@3:0.968624+0.000567747\ttest-MAP@3:0.745508+0.00153542\n",
      "[84]\ttrain-MAP@3:0.96939+0.000390825\ttest-MAP@3:0.745856+0.0019176\n",
      "[85]\ttrain-MAP@3:0.970261+0.000344799\ttest-MAP@3:0.745717+0.00173144\n",
      "[86]\ttrain-MAP@3:0.9712+9.85235e-05\ttest-MAP@3:0.746204+0.00165697\n",
      "[87]\ttrain-MAP@3:0.971862+4.90261e-05\ttest-MAP@3:0.746204+0.0017757\n",
      "[88]\ttrain-MAP@3:0.972698+0.000214511\ttest-MAP@3:0.745995+0.00216035\n",
      "[89]\ttrain-MAP@3:0.97336+0.000451492\ttest-MAP@3:0.745856+0.0019176\n",
      "[90]\ttrain-MAP@3:0.974265+0.000344597\ttest-MAP@3:0.745856+0.00163932\n",
      "[91]\ttrain-MAP@3:0.975031+0.000597267\ttest-MAP@3:0.746344+0.00204737\n",
      "[92]\ttrain-MAP@3:0.97538+0.000684349\ttest-MAP@3:0.746134+0.00139636\n",
      "[93]\ttrain-MAP@3:0.976355+0.000689665\ttest-MAP@3:0.746483+0.00128039\n",
      "[94]\ttrain-MAP@3:0.976807+0.000822749\ttest-MAP@3:0.746065+0.00145094\n",
      "[95]\ttrain-MAP@3:0.977504+0.000725287\ttest-MAP@3:0.746344+0.00179746\n",
      "[96]\ttrain-MAP@3:0.978061+0.000559257\ttest-MAP@3:0.746483+0.0017089\n",
      "[97]\ttrain-MAP@3:0.978862+0.000725591\ttest-MAP@3:0.746761+0.00213779\n",
      "[98]\ttrain-MAP@3:0.979454+0.000988688\ttest-MAP@3:0.746413+0.00222673\n",
      "[99]\ttrain-MAP@3:0.980046+0.000840053\ttest-MAP@3:0.746413+0.00182424\n"
     ]
    }
   ],
   "source": [
    "cv2 = xgb.cv({'num_class': len(enc['encoder'].classes_),\n",
    "                 'silent': 0,\n",
    "                 'nthread': 4,\n",
    "                 'eta': 0.1,\n",
    "                 'objective': 'multi:softprob',\n",
    "                 'max_depth': 5,\n",
    "                 'min_child_weight': 1,\n",
    "                 'gamma': 0,\n",
    "                 'subsample': 0.8,\n",
    "                 'colsample_bytree': 0.8,\n",
    "                 'scale_pos_weight': 1\n",
    "              },\n",
    "                dtrain, num_boost_round = 100, early_stopping_rounds = 20, \n",
    "                feval = map3eval, maximize = True, verbose_eval = True\n",
    "        )"
   ]
  },
  {
   "cell_type": "code",
   "execution_count": 89,
   "metadata": {
    "collapsed": false
   },
   "outputs": [],
   "source": [
    "from xgboost.sklearn import XGBClassifier\n",
    "y1, enc1 = transform_y(card_train[:, 5])\n",
    "xgb1 = XGBClassifier(\n",
    " learning_rate =0.1,\n",
    " n_estimators=100,\n",
    " max_depth=5,\n",
    " min_child_weight=1,\n",
    " gamma=0,\n",
    " subsample=0.8,\n",
    " colsample_bytree=0.8,\n",
    " objective= 'multi:softprob',\n",
    " nthread=4,\n",
    " scale_pos_weight=1)\n",
    "\n",
    "xgb1.fit(X, y1, eval_set=[(X, y1)], eval_metric = 'merror')"
   ]
  },
  {
   "cell_type": "code",
   "execution_count": 123,
   "metadata": {
    "collapsed": false
   },
   "outputs": [
    {
     "name": "stdout",
     "output_type": "stream",
     "text": [
      "max_depth is 3\n",
      "min_child_weight is 1\n",
      "map of current iteration is 0.613595\n",
      "Best combination found and it is (max_depth: 3) and (min_child_weight: 1) with map@3: 0.613595\n",
      "max_depth is 3\n",
      "min_child_weight is 3\n",
      "map of current iteration is 0.593954666667\n",
      "max_depth is 3\n",
      "min_child_weight is 5\n",
      "map of current iteration is 0.617147333333\n",
      "Best combination found and it is (max_depth: 3) and (min_child_weight: 5) with map@3: 0.617147333333\n",
      "max_depth is 5\n",
      "min_child_weight is 1\n",
      "map of current iteration is 0.624321\n",
      "Best combination found and it is (max_depth: 5) and (min_child_weight: 1) with map@3: 0.624321\n",
      "max_depth is 5\n",
      "min_child_weight is 3\n",
      "map of current iteration is 0.612620333333\n",
      "max_depth is 5\n",
      "min_child_weight is 5\n",
      "map of current iteration is 0.631076666667\n",
      "Best combination found and it is (max_depth: 5) and (min_child_weight: 5) with map@3: 0.631076666667\n",
      "max_depth is 7\n",
      "min_child_weight is 1\n",
      "map of current iteration is 0.626897666667\n",
      "max_depth is 7\n",
      "min_child_weight is 3\n",
      "map of current iteration is 0.613734333333\n",
      "max_depth is 7\n",
      "min_child_weight is 5\n",
      "map of current iteration is 0.632121666667\n",
      "Best combination found and it is (max_depth: 7) and (min_child_weight: 5) with map@3: 0.632121666667\n",
      "max_depth is 9\n",
      "min_child_weight is 1\n",
      "map of current iteration is 0.626758666667\n",
      "max_depth is 9\n",
      "min_child_weight is 3\n",
      "map of current iteration is 0.614570333333\n",
      "max_depth is 9\n",
      "min_child_weight is 5\n",
      "map of current iteration is 0.633584\n",
      "Best combination found and it is (max_depth: 9) and (min_child_weight: 5) with map@3: 0.633584\n",
      "~~~~~~~~~results~~~~~~~~~~~~~~~~\n",
      "best max depth is: 9\n",
      "best min child weight is: 5\n",
      "best_map 0.633584\n"
     ]
    }
   ],
   "source": [
    "best_map = 0\n",
    "best_max_depth = 1\n",
    "best_min_child_weight = 1\n",
    "results1 = []\n",
    "for max_depth in range(3, 10, 2):\n",
    "    for min_child_weight in range(1, 6, 2):\n",
    "        print \"max_depth is %s\" %(max_depth)\n",
    "        print \"min_child_weight is %s\" %(min_child_weight)\n",
    "        temp_cv = xgb.cv({'num_class': len(enc['encoder'].classes_),\n",
    "                 'silent': 0,\n",
    "                 'nthread': 4,\n",
    "                 'eta': 0.1,\n",
    "                 'objective': 'multi:softprob',\n",
    "                 'max_depth': max_depth,\n",
    "                 'min_child_weight': min_child_weight,\n",
    "                 'gamma': 0,\n",
    "                 'subsample': 0.8,\n",
    "                 'colsample_bytree': 0.8,\n",
    "                 'scale_pos_weight': 1\n",
    "              },\n",
    "                dtrain, num_boost_round = 100, early_stopping_rounds = 20, \n",
    "                feval = map3eval, maximize = True\n",
    "            )\n",
    "        temp_map = temp_cv['test-MAP@3-mean'][temp_cv.shape[0]-1]\n",
    "        results1.append([max_depth, min_child_weight, temp_map])\n",
    "        print \"map of current iteration is %s\" %(temp_map)\n",
    "        if temp_map > best_map:\n",
    "            print \"Best combination found and it is (max_depth: %s) and (min_child_weight: %s) with map@3: %s\" %(max_depth, min_child_weight, temp_map)\n",
    "            best_map = temp_map\n",
    "            best_max_depth = max_depth\n",
    "            best_min_child_weight = min_child_weight\n",
    "\n",
    "print \"~~~~~~~~~results~~~~~~~~~~~~~~~~\"\n",
    "print \"best max depth is: %s\" %(best_max_depth)\n",
    "print \"best min child weight is: %s\" %(best_min_child_weight)\n",
    "print \"best_map\", str(best_map)"
   ]
  },
  {
   "cell_type": "code",
   "execution_count": 125,
   "metadata": {
    "collapsed": false
   },
   "outputs": [
    {
     "data": {
      "text/plain": [
       "[[3, 1, 0.613595],\n",
       " [3, 3, 0.59395466666666652],\n",
       " [3, 5, 0.61714733333333338],\n",
       " [5, 1, 0.62432100000000001],\n",
       " [5, 3, 0.61262033333333343],\n",
       " [5, 5, 0.63107666666666662],\n",
       " [7, 1, 0.62689766666666669],\n",
       " [7, 3, 0.61373433333333338],\n",
       " [7, 5, 0.63212166666666669],\n",
       " [9, 1, 0.62675866666666658],\n",
       " [9, 3, 0.61457033333333333],\n",
       " [9, 5, 0.63358400000000004]]"
      ]
     },
     "execution_count": 125,
     "metadata": {},
     "output_type": "execute_result"
    }
   ],
   "source": [
    "results1"
   ]
  },
  {
   "cell_type": "code",
   "execution_count": 126,
   "metadata": {
    "collapsed": false
   },
   "outputs": [
    {
     "name": "stdout",
     "output_type": "stream",
     "text": [
      "(14359, 12) X shape\n",
      "(14359, 1) y shape\n",
      "(331, 12) test_X shape\n",
      "(331, 1) test_y shape\n",
      "770\n"
     ]
    }
   ],
   "source": [
    "def transform_x1(X, x_transformer = None):\n",
    "    \"\"\"\n",
    "    X = [[x, y, a, t]]\n",
    "    \"\"\"\n",
    "    fw = [500., 1000., 4., 3., 2., 10., 10.]\n",
    "    minute_v = X[:, 3]%60\n",
    "    hour_v = X[:, 3]//60\n",
    "    weekday_v = hour_v//24\n",
    "    month_v = weekday_v//30\n",
    "    year_v = (weekday_v//365 + 1)*fw[5]\n",
    "    hour_v = ((hour_v%24 + 1) + minute_v/60.0)*fw[2]\n",
    "    hour_v_2 = (X[:, 3]%(60*60*24))//(60*60*2)\n",
    "    hour_v_3 = (X[:, 3]%(60*60*24))//(60*60*3)\n",
    "    hour_v_4 = (X[:, 3]%(60*60*24))//(60*60*4)\n",
    "    hour_v_6 = (X[:, 3]%(60*60*24))//(60*60*6)\n",
    "    hour_v_8 = (X[:, 3]%(60*60*24))//(60*60*8)\n",
    "    weekday_v = (weekday_v%7 + 1)*fw[3]\n",
    "    month_v = (month_v%12 +1)*fw[4]\n",
    "    accuracy_v = np.log10(X[:, 2])*fw[6]\n",
    "    x_v = X[:, 0]*fw[0]\n",
    "    y_v = X[:, 1]*fw[1]\n",
    "    return np.hstack((x_v.reshape(-1, 1),\n",
    "                     y_v.reshape(-1, 1),\n",
    "                     accuracy_v.reshape(-1, 1),\n",
    "                     hour_v.reshape(-1, 1),\n",
    "                     hour_v_2.reshape(-1, 1),\n",
    "                     hour_v_3.reshape(-1, 1),\n",
    "                     hour_v_4.reshape(-1, 1),\n",
    "                     hour_v_6.reshape(-1, 1),\n",
    "                     hour_v_8.reshape(-1, 1),\n",
    "                     weekday_v.reshape(-1, 1),\n",
    "                     month_v.reshape(-1, 1),\n",
    "                     year_v.reshape(-1, 1)))\n",
    "\n",
    "X1 = transform_x1(card_train[:, (1, 2, 3, 4)])\n",
    "y_orig, enc = transform_y(data[:, 5])\n",
    "y, enc = transform_y(card_train[:, 5], enc)\n",
    "test_X1 = transform_x1(test[:, (1, 2, 3, 4)])\n",
    "test_y, enc = transform_y(test[:, 5], enc)\n",
    "print X1.shape, \"X shape\"\n",
    "print y.shape, \"y shape\"\n",
    "print test_X1.shape, \"test_X shape\"\n",
    "print test_y.shape, \"test_y shape\"\n",
    "print len(enc['encoder'].classes_)\n",
    "\n",
    "dtrain1 = xgb.DMatrix(X1, label=np.ravel(y))\n",
    "dtest1 = xgb.DMatrix(test_X1, label=np.ravel(test_y))\n"
   ]
  },
  {
   "cell_type": "code",
   "execution_count": null,
   "metadata": {
    "collapsed": false
   },
   "outputs": [
    {
     "name": "stdout",
     "output_type": "stream",
     "text": [
      "max_depth is 7\n",
      "min_child_weight is 5\n",
      "map of current iteration is 0.761457\n",
      "Best combination found and it is (max_depth: 7) and (min_child_weight: 5) with map@3: 0.761457\n",
      "max_depth is 7\n",
      "min_child_weight is 7\n",
      "map of current iteration is 0.758322666667\n",
      "max_depth is 7\n",
      "min_child_weight is 9\n",
      "map of current iteration is 0.752402666667\n",
      "max_depth is 7\n",
      "min_child_weight is 11\n",
      "map of current iteration is 0.745368666667\n",
      "max_depth is 7\n",
      "min_child_weight is 13\n",
      "map of current iteration is 0.737568\n",
      "max_depth is 9\n",
      "min_child_weight is 5\n",
      "map of current iteration is 0.761944666667\n",
      "Best combination found and it is (max_depth: 9) and (min_child_weight: 5) with map@3: 0.761944666667\n",
      "max_depth is 9\n",
      "min_child_weight is 7\n",
      "map of current iteration is 0.758114333333\n",
      "max_depth is 9\n",
      "min_child_weight is 9\n",
      "map of current iteration is 0.752611666667\n",
      "max_depth is 9\n",
      "min_child_weight is 11\n",
      "map of current iteration is 0.745647\n",
      "max_depth is 9\n",
      "min_child_weight is 13\n",
      "map of current iteration is 0.738125\n",
      "max_depth is 11\n",
      "min_child_weight is 5\n",
      "map of current iteration is 0.763267666667\n",
      "Best combination found and it is (max_depth: 11) and (min_child_weight: 5) with map@3: 0.763267666667\n",
      "max_depth is 11\n",
      "min_child_weight is 7\n",
      "map of current iteration is 0.759089\n",
      "max_depth is 11\n",
      "min_child_weight is 9\n",
      "map of current iteration is 0.753587\n",
      "max_depth is 11\n",
      "min_child_weight is 11\n",
      "map of current iteration is 0.74509\n",
      "max_depth is 11\n",
      "min_child_weight is 13\n",
      "map of current iteration is 0.737080333333\n",
      "max_depth is 13\n",
      "min_child_weight is 5\n",
      "map of current iteration is 0.761457\n",
      "max_depth is 13\n",
      "min_child_weight is 7\n",
      "map of current iteration is 0.758462333333"
     ]
    }
   ],
   "source": [
    "best_map = 0\n",
    "best_max_depth = 1\n",
    "best_min_child_weight = 1\n",
    "results2 = []\n",
    "for max_depth in range(7, 20, 2):\n",
    "    for min_child_weight in range(5, 15, 2):\n",
    "        print \"max_depth is %s\" %(max_depth)\n",
    "        print \"min_child_weight is %s\" %(min_child_weight)\n",
    "        temp_cv = xgb.cv({'num_class': len(enc['encoder'].classes_),\n",
    "                 'silent': 0,\n",
    "                 'nthread': 4,\n",
    "                 'eta': 0.1,\n",
    "                 'objective': 'multi:softprob',\n",
    "                 'max_depth': max_depth,\n",
    "                 'min_child_weight': min_child_weight,\n",
    "                 'gamma': 0,\n",
    "                 'subsample': 0.8,\n",
    "                 'colsample_bytree': 0.8,\n",
    "                 'scale_pos_weight': 1\n",
    "              },\n",
    "                dtrain1, num_boost_round = 100, early_stopping_rounds = 20, \n",
    "                feval = map3eval, maximize = True\n",
    "            )\n",
    "        temp_map = temp_cv['test-MAP@3-mean'][temp_cv.shape[0]-1]\n",
    "        results2.append([max_depth, min_child_weight, temp_map])\n",
    "        print \"map of current iteration is %s\" %(temp_map)\n",
    "        if temp_map > best_map:\n",
    "            print \"Best combination found and it is (max_depth: %s) and (min_child_weight: %s) with map@3: %s\" %(max_depth, min_child_weight, temp_map)\n",
    "            best_map = temp_map\n",
    "            best_max_depth = max_depth\n",
    "            best_min_child_weight = min_child_weight\n",
    "\n",
    "print \"~~~~~~~~~results~~~~~~~~~~~~~~~~\"\n",
    "print \"best max depth is: %s\" %(best_max_depth)\n",
    "print \"best min child weight is: %s\" %(best_min_child_weight)\n",
    "print \"best_map\", str(best_map)"
   ]
  },
  {
   "cell_type": "code",
   "execution_count": null,
   "metadata": {
    "collapsed": true
   },
   "outputs": [],
   "source": []
  }
 ],
 "metadata": {
  "kernelspec": {
   "display_name": "Python 2",
   "language": "python",
   "name": "python2"
  },
  "language_info": {
   "codemirror_mode": {
    "name": "ipython",
    "version": 2
   },
   "file_extension": ".py",
   "mimetype": "text/x-python",
   "name": "python",
   "nbconvert_exporter": "python",
   "pygments_lexer": "ipython2",
   "version": "2.7.11"
  }
 },
 "nbformat": 4,
 "nbformat_minor": 0
}
