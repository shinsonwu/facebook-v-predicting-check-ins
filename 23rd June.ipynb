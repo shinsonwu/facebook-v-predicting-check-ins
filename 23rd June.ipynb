{
 "cells": [
  {
   "cell_type": "code",
   "execution_count": 2,
   "metadata": {
    "collapsed": false
   },
   "outputs": [
    {
     "name": "stdout",
     "output_type": "stream",
     "text": [
      "/Users/anil/Code/facebook/scripts\n"
     ]
    }
   ],
   "source": [
    "cd scripts/"
   ]
  },
  {
   "cell_type": "code",
   "execution_count": 31,
   "metadata": {
    "collapsed": false
   },
   "outputs": [],
   "source": [
    "import numpy as np\n",
    "#Import libraries:\n",
    "import pandas as pd\n",
    "import numpy as np\n",
    "from sklearn.ensemble import GradientBoostingClassifier  #GBM algorithm\n",
    "from sklearn import cross_validation, metrics   #Additional scklearn functions\n",
    "from sklearn.grid_search import GridSearchCV   #Perforing grid search\n",
    "\n",
    "import matplotlib.pylab as plt\n",
    "%matplotlib inline\n",
    "from matplotlib.pylab import rcParams\n",
    "rcParams['figure.figsize'] = 12, 4\n",
    "\n",
    "import grid_generation as grid\n",
    "import sk_learn_models as sk_learn\n",
    "from sklearn.cross_validation import train_test_split\n",
    "import pickle\n",
    "\n",
    "from sklearn.preprocessing import LabelEncoder"
   ]
  },
  {
   "cell_type": "code",
   "execution_count": 116,
   "metadata": {
    "collapsed": true
   },
   "outputs": [],
   "source": [
    "def transform_x(X, x_transformer = None):\n",
    "    \"\"\"\n",
    "    X = [[x, y, a, t]]\n",
    "    \"\"\"\n",
    "    fw = [500., 1000., 4., 3., 2., 10., 10.]\n",
    "    minute_v = X[:, 3]%60\n",
    "    hour_v = X[:, 3]//60\n",
    "    weekday_v = hour_v//24\n",
    "    month_v = weekday_v//30\n",
    "    year_v = (weekday_v//365 + 1)*fw[5]\n",
    "    hour_v = ((hour_v%24 + 1) + minute_v/60.0)*fw[2]\n",
    "    weekday_v = (weekday_v%7 + 1)*fw[3]\n",
    "    month_v = (month_v%12 +1)*fw[4]\n",
    "    accuracy_v = np.log10(X[:, 2])*fw[6]\n",
    "    x_v = X[:, 0]*fw[0]\n",
    "    y_v = X[:, 1]*fw[1]\n",
    "    return np.hstack((x_v.reshape(-1, 1),\\\n",
    "                     y_v.reshape(-1, 1),\\\n",
    "                     accuracy_v.reshape(-1, 1),\\\n",
    "                     hour_v.reshape(-1, 1),\\\n",
    "                     weekday_v.reshape(-1, 1),\\\n",
    "                     month_v.reshape(-1, 1),\\\n",
    "                     year_v.reshape(-1, 1)))\n",
    "\n",
    "def transform_x1(X, x_transformer = None):\n",
    "    \"\"\"\n",
    "    X = [[x, y, a, t]]\n",
    "    \"\"\"\n",
    "    fw = [1., 1., 1., 1., 1., 1., 1.]\n",
    "    minute_v = X[:, 3]%60\n",
    "    hour_v = X[:, 3]//60\n",
    "    weekday_v = hour_v//24\n",
    "    month_v = weekday_v//30\n",
    "    year_v = (weekday_v//365 + 1)*fw[5]\n",
    "    hour_v = ((hour_v%24 + 1) + minute_v/60.0)*fw[2]\n",
    "    weekday_v = (weekday_v%7 + 1)*fw[3]\n",
    "    month_v = (month_v%12 +1)*fw[4]\n",
    "    accuracy_v = np.log10(X[:, 2])*fw[6]\n",
    "    x_v = X[:, 0]*fw[0]\n",
    "    y_v = X[:, 1]*fw[1]\n",
    "    return np.hstack((x_v.reshape(-1, 1),\\\n",
    "                     y_v.reshape(-1, 1),\\\n",
    "                     accuracy_v.reshape(-1, 1),\\\n",
    "                     hour_v.reshape(-1, 1),\\\n",
    "                     weekday_v.reshape(-1, 1),\\\n",
    "                     month_v.reshape(-1, 1),\\\n",
    "                     year_v.reshape(-1, 1)))\n",
    "\n",
    "def transform_y(y, y_transformer = None):\n",
    "    \"\"\"\n",
    "    place_ids to encoded array\n",
    "    \"\"\"\n",
    "    y = y.astype(int)\n",
    "    if y_transformer == None:\n",
    "        label_encoder = LabelEncoder()\n",
    "        label_encoder.fit(y)\n",
    "        y_transformer = {'encoder': label_encoder}\n",
    "    new_y = y_transformer['encoder'].transform(y).reshape(-1, 1)\n",
    "    return (new_y, y_transformer)\n",
    "\n",
    "def map3eval(preds, dtrain):\n",
    "    actual = dtrain.get_label()\n",
    "    predicted = preds.argsort(axis=1)[:,-np.arange(1,4)]\n",
    "    metric = 0.\n",
    "    for i in range(3):\n",
    "        metric += np.sum(actual==predicted[:,i])/(i+1)\n",
    "    metric /= actual.shape[0]\n",
    "    return 'MAP@3', metric"
   ]
  },
  {
   "cell_type": "code",
   "execution_count": 9,
   "metadata": {
    "collapsed": false
   },
   "outputs": [],
   "source": [
    "data = np.loadtxt('../grid2_800_400_200_100/grid_data_0_0.csv', delimiter = ',')\n",
    "X, Y, xd, yd = 400, 100, 50, 10"
   ]
  },
  {
   "cell_type": "code",
   "execution_count": 14,
   "metadata": {
    "collapsed": false
   },
   "outputs": [],
   "source": [
    "small_mask = (data[:, 1] < 0.45) & (data[:, 2] < 0.11)\n",
    "small_data = data[small_mask,:]"
   ]
  },
  {
   "cell_type": "code",
   "execution_count": 21,
   "metadata": {
    "collapsed": false
   },
   "outputs": [],
   "source": [
    "M = pickle.load(open('../grid2_800_400_200_100/cardinality_pickle.pkl', 'rb'))"
   ]
  },
  {
   "cell_type": "code",
   "execution_count": 64,
   "metadata": {
    "collapsed": false
   },
   "outputs": [],
   "source": [
    "train, test = train_test_split(small_data, test_size = 0.02)"
   ]
  },
  {
   "cell_type": "code",
   "execution_count": 65,
   "metadata": {
    "collapsed": false
   },
   "outputs": [
    {
     "name": "stdout",
     "output_type": "stream",
     "text": [
      "(14510, 6)\n",
      "(14964, 6)\n"
     ]
    }
   ],
   "source": [
    "mask = np.array(map(lambda x: M[0][0][x] > 20, train[:, 5]))\n",
    "card_train = train[mask, :]\n",
    "print card_train.shape\n",
    "print train.shape"
   ]
  },
  {
   "cell_type": "code",
   "execution_count": 66,
   "metadata": {
    "collapsed": false
   },
   "outputs": [
    {
     "name": "stdout",
     "output_type": "stream",
     "text": [
      "(14510, 7)\n",
      "(14510, 1)\n",
      "(306, 7)\n",
      "(306, 1)\n"
     ]
    }
   ],
   "source": [
    "X = transform_x(card_train[:, (1, 2, 3, 4)])\n",
    "y_orig, enc = transform_y(small_data[:, 5])\n",
    "y, enc = transform_y(card_train[:, 5], enc)\n",
    "test_X = transform_x(test[:, (1, 2, 3, 4)])\n",
    "test_y, enc = transform_y(test[:, 5], enc)\n",
    "print X.shape\n",
    "print y.shape\n",
    "print test_X.shape\n",
    "print test_y.shape\n",
    "\n",
    "dtrain = xgb.DMatrix(X, label=np.ravel(y))\n",
    "dtest = xgb.DMatrix(test_X, label=np.ravel(test_y))"
   ]
  },
  {
   "cell_type": "code",
   "execution_count": 125,
   "metadata": {
    "collapsed": false
   },
   "outputs": [
    {
     "name": "stdout",
     "output_type": "stream",
     "text": [
      "{'num_class': 396, 'silent': 1, 'eval_metric': ['merror', 'mlogloss'], 'nthread': 4, 'eta': 0.1, 'objective': 'multi:softprob', 'max_depth': 6}\n"
     ]
    }
   ],
   "source": [
    "param = {}\n",
    "# use softmax multi-class classification\n",
    "param['objective'] = 'multi:softprob'\n",
    "# scale weight of positive examples\n",
    "param['eta'] = 0.1\n",
    "param['max_depth'] = 6\n",
    "param['silent'] = 1\n",
    "param['nthread'] = 4\n",
    "param['num_class'] = len(enc['encoder'].classes_)\n",
    "param['eval_metric'] = ['merror', 'mlogloss']\n",
    "\n",
    "watchlist = [ (dtrain,'train'), (dtest, 'test') ]\n",
    "num_round = 5\n",
    "er = {}\n",
    "print param"
   ]
  },
  {
   "cell_type": "code",
   "execution_count": 105,
   "metadata": {
    "collapsed": false
   },
   "outputs": [
    {
     "name": "stdout",
     "output_type": "stream",
     "text": [
      "[0]\ttrain-merror:0.491592\ttrain-mlogloss:3.16631\ttest-merror:0.562092\ttest-mlogloss:3.6628\n",
      "[1]\ttrain-merror:0.465059\ttrain-mlogloss:2.64402\ttest-merror:0.555556\ttest-mlogloss:3.17236\n",
      "[2]\ttrain-merror:0.447278\ttrain-mlogloss:2.369\ttest-merror:0.542484\ttest-mlogloss:2.94533\n",
      "[3]\ttrain-merror:0.430875\ttrain-mlogloss:2.17426\ttest-merror:0.539216\ttest-mlogloss:2.80048\n",
      "[4]\ttrain-merror:0.417505\ttrain-mlogloss:2.02123\ttest-merror:0.526144\ttest-mlogloss:2.68952\n",
      "[5]\ttrain-merror:0.408546\ttrain-mlogloss:1.89711\ttest-merror:0.51634\ttest-mlogloss:2.61055\n",
      "[6]\ttrain-merror:0.395038\ttrain-mlogloss:1.79101\ttest-merror:0.503268\ttest-mlogloss:2.54456\n",
      "[7]\ttrain-merror:0.384149\ttrain-mlogloss:1.6996\ttest-merror:0.496732\ttest-mlogloss:2.48905\n",
      "[8]\ttrain-merror:0.372984\ttrain-mlogloss:1.62008\ttest-merror:0.486928\ttest-mlogloss:2.44164\n",
      "[9]\ttrain-merror:0.361061\ttrain-mlogloss:1.54916\ttest-merror:0.490196\ttest-mlogloss:2.40084\n",
      "[10]\ttrain-merror:0.347622\ttrain-mlogloss:1.48398\ttest-merror:0.48366\ttest-mlogloss:2.364\n",
      "[11]\ttrain-merror:0.337147\ttrain-mlogloss:1.42479\ttest-merror:0.48366\ttest-mlogloss:2.32814\n",
      "[12]\ttrain-merror:0.327567\ttrain-mlogloss:1.37108\ttest-merror:0.477124\ttest-mlogloss:2.29925\n",
      "[13]\ttrain-merror:0.319711\ttrain-mlogloss:1.32157\ttest-merror:0.470588\ttest-mlogloss:2.2717\n",
      "[14]\ttrain-merror:0.310751\ttrain-mlogloss:1.27575\ttest-merror:0.464052\ttest-mlogloss:2.24589\n",
      "[15]\ttrain-merror:0.302895\ttrain-mlogloss:1.23189\ttest-merror:0.454248\ttest-mlogloss:2.22291\n",
      "[16]\ttrain-merror:0.29552\ttrain-mlogloss:1.19243\ttest-merror:0.447712\ttest-mlogloss:2.20753\n",
      "[17]\ttrain-merror:0.287457\ttrain-mlogloss:1.15464\ttest-merror:0.444444\ttest-mlogloss:2.19041\n",
      "[18]\ttrain-merror:0.279945\ttrain-mlogloss:1.11908\ttest-merror:0.441176\ttest-mlogloss:2.17468\n",
      "[19]\ttrain-merror:0.272502\ttrain-mlogloss:1.0861\ttest-merror:0.437909\ttest-mlogloss:2.16073\n",
      "[20]\ttrain-merror:0.26685\ttrain-mlogloss:1.05524\ttest-merror:0.434641\ttest-mlogloss:2.14861\n",
      "[21]\ttrain-merror:0.261061\ttrain-mlogloss:1.02618\ttest-merror:0.434641\ttest-mlogloss:2.13644\n",
      "[22]\ttrain-merror:0.253411\ttrain-mlogloss:0.998259\ttest-merror:0.428105\ttest-mlogloss:2.12681\n",
      "[23]\ttrain-merror:0.24776\ttrain-mlogloss:0.971972\ttest-merror:0.431373\ttest-mlogloss:2.1185\n",
      "[24]\ttrain-merror:0.241558\ttrain-mlogloss:0.946632\ttest-merror:0.441176\ttest-mlogloss:2.11084\n",
      "[25]\ttrain-merror:0.236251\ttrain-mlogloss:0.922551\ttest-merror:0.441176\ttest-mlogloss:2.10466\n",
      "[26]\ttrain-merror:0.231151\ttrain-mlogloss:0.89986\ttest-merror:0.437909\ttest-mlogloss:2.09559\n",
      "[27]\ttrain-merror:0.226465\ttrain-mlogloss:0.877804\ttest-merror:0.437909\ttest-mlogloss:2.089\n",
      "[28]\ttrain-merror:0.220193\ttrain-mlogloss:0.857073\ttest-merror:0.434641\ttest-mlogloss:2.08236\n",
      "[29]\ttrain-merror:0.215507\ttrain-mlogloss:0.837597\ttest-merror:0.441176\ttest-mlogloss:2.07753\n",
      "[30]\ttrain-merror:0.209649\ttrain-mlogloss:0.818092\ttest-merror:0.434641\ttest-mlogloss:2.07084\n",
      "[31]\ttrain-merror:0.205376\ttrain-mlogloss:0.800738\ttest-merror:0.434641\ttest-mlogloss:2.06747\n",
      "[32]\ttrain-merror:0.200689\ttrain-mlogloss:0.783088\ttest-merror:0.437909\ttest-mlogloss:2.06068\n",
      "[33]\ttrain-merror:0.19621\ttrain-mlogloss:0.766399\ttest-merror:0.437909\ttest-mlogloss:2.05605\n",
      "[34]\ttrain-merror:0.191937\ttrain-mlogloss:0.749593\ttest-merror:0.434641\ttest-mlogloss:2.05158\n"
     ]
    }
   ],
   "source": [
    "bst = xgb.train(param, dtrain, num_round, watchlist, verbose_eval = True, evals_result = er );"
   ]
  },
  {
   "cell_type": "code",
   "execution_count": 117,
   "metadata": {
    "collapsed": false
   },
   "outputs": [
    {
     "name": "stdout",
     "output_type": "stream",
     "text": [
      "[0]\ttrain-MAP@3:0.627981\ttest-MAP@3:0.542484\n",
      "[1]\ttrain-MAP@3:0.652722\ttest-MAP@3:0.555556\n",
      "[2]\ttrain-MAP@3:0.672364\ttest-MAP@3:0.565359\n",
      "[3]\ttrain-MAP@3:0.689593\ttest-MAP@3:0.571895\n",
      "[4]\ttrain-MAP@3:0.701861\ttest-MAP@3:0.578431\n",
      "[5]\ttrain-MAP@3:0.712267\ttest-MAP@3:0.584967\n",
      "[6]\ttrain-MAP@3:0.723225\ttest-MAP@3:0.598039\n",
      "[7]\ttrain-MAP@3:0.732254\ttest-MAP@3:0.604575\n",
      "[8]\ttrain-MAP@3:0.741282\ttest-MAP@3:0.607843\n",
      "[9]\ttrain-MAP@3:0.749897\ttest-MAP@3:0.611111\n",
      "[10]\ttrain-MAP@3:0.759407\ttest-MAP@3:0.611111\n",
      "[11]\ttrain-MAP@3:0.766988\ttest-MAP@3:0.611111\n",
      "[12]\ttrain-MAP@3:0.774294\ttest-MAP@3:0.617647\n",
      "[13]\ttrain-MAP@3:0.780841\ttest-MAP@3:0.624183\n",
      "[14]\ttrain-MAP@3:0.78725\ttest-MAP@3:0.627451\n",
      "[15]\ttrain-MAP@3:0.792833\ttest-MAP@3:0.630719\n",
      "[16]\ttrain-MAP@3:0.798553\ttest-MAP@3:0.637255\n",
      "[17]\ttrain-MAP@3:0.804342\ttest-MAP@3:0.640523\n",
      "[18]\ttrain-MAP@3:0.810338\ttest-MAP@3:0.640523\n",
      "[19]\ttrain-MAP@3:0.815644\ttest-MAP@3:0.643791\n",
      "[20]\ttrain-MAP@3:0.820193\ttest-MAP@3:0.643791\n",
      "[21]\ttrain-MAP@3:0.824673\ttest-MAP@3:0.647059\n",
      "[22]\ttrain-MAP@3:0.829635\ttest-MAP@3:0.650327\n",
      "[23]\ttrain-MAP@3:0.834045\ttest-MAP@3:0.650327\n",
      "[24]\ttrain-MAP@3:0.838456\ttest-MAP@3:0.643791\n",
      "[25]\ttrain-MAP@3:0.842247\ttest-MAP@3:0.647059\n",
      "[26]\ttrain-MAP@3:0.846244\ttest-MAP@3:0.647059\n",
      "[27]\ttrain-MAP@3:0.849897\ttest-MAP@3:0.643791\n",
      "[28]\ttrain-MAP@3:0.854445\ttest-MAP@3:0.650327\n",
      "[29]\ttrain-MAP@3:0.858167\ttest-MAP@3:0.647059\n",
      "[30]\ttrain-MAP@3:0.862095\ttest-MAP@3:0.647059\n",
      "[31]\ttrain-MAP@3:0.865265\ttest-MAP@3:0.647059\n",
      "[32]\ttrain-MAP@3:0.868642\ttest-MAP@3:0.647059\n",
      "[33]\ttrain-MAP@3:0.871606\ttest-MAP@3:0.650327\n",
      "[34]\ttrain-MAP@3:0.874569\ttest-MAP@3:0.650327\n"
     ]
    }
   ],
   "source": [
    "bst = xgb.train(param, dtrain, num_round, watchlist, verbose_eval = True, evals_result = er, feval = map3eval );"
   ]
  },
  {
   "cell_type": "code",
   "execution_count": 123,
   "metadata": {
    "collapsed": false
   },
   "outputs": [
    {
     "ename": "XGBoostError",
     "evalue": "value 0for Parameter num_class should be greater equal to 1",
     "output_type": "error",
     "traceback": [
      "\u001b[0;31m---------------------------------------------------------------------------\u001b[0m",
      "\u001b[0;31mXGBoostError\u001b[0m                              Traceback (most recent call last)",
      "\u001b[0;32m<ipython-input-123-22277781fc0f>\u001b[0m in \u001b[0;36m<module>\u001b[0;34m()\u001b[0m\n\u001b[0;32m----> 1\u001b[0;31m \u001b[0mbst123\u001b[0m \u001b[0;34m=\u001b[0m \u001b[0mxgb\u001b[0m\u001b[0;34m.\u001b[0m\u001b[0mtrain\u001b[0m\u001b[0;34m(\u001b[0m\u001b[0mparam\u001b[0m\u001b[0;34m,\u001b[0m \u001b[0mdtrain\u001b[0m\u001b[0;34m,\u001b[0m \u001b[0mnum_round\u001b[0m\u001b[0;34m,\u001b[0m \u001b[0mverbose_eval\u001b[0m \u001b[0;34m=\u001b[0m \u001b[0mTrue\u001b[0m\u001b[0;34m,\u001b[0m \u001b[0mevals_result\u001b[0m \u001b[0;34m=\u001b[0m \u001b[0mer\u001b[0m \u001b[0;34m)\u001b[0m\u001b[0;34m;\u001b[0m\u001b[0;34m\u001b[0m\u001b[0m\n\u001b[0m",
      "\u001b[0;32m/usr/local/lib/python2.7/site-packages/xgboost-0.4-py2.7.egg/xgboost/training.pyc\u001b[0m in \u001b[0;36mtrain\u001b[0;34m(params, dtrain, num_boost_round, evals, obj, feval, maximize, early_stopping_rounds, evals_result, verbose_eval, learning_rates, xgb_model, callbacks)\u001b[0m\n\u001b[1;32m    203\u001b[0m                            \u001b[0mevals\u001b[0m\u001b[0;34m=\u001b[0m\u001b[0mevals\u001b[0m\u001b[0;34m,\u001b[0m\u001b[0;34m\u001b[0m\u001b[0m\n\u001b[1;32m    204\u001b[0m                            \u001b[0mobj\u001b[0m\u001b[0;34m=\u001b[0m\u001b[0mobj\u001b[0m\u001b[0;34m,\u001b[0m \u001b[0mfeval\u001b[0m\u001b[0;34m=\u001b[0m\u001b[0mfeval\u001b[0m\u001b[0;34m,\u001b[0m\u001b[0;34m\u001b[0m\u001b[0m\n\u001b[0;32m--> 205\u001b[0;31m                            xgb_model=xgb_model, callbacks=callbacks)\n\u001b[0m\u001b[1;32m    206\u001b[0m \u001b[0;34m\u001b[0m\u001b[0m\n\u001b[1;32m    207\u001b[0m \u001b[0;34m\u001b[0m\u001b[0m\n",
      "\u001b[0;32m/usr/local/lib/python2.7/site-packages/xgboost-0.4-py2.7.egg/xgboost/training.pyc\u001b[0m in \u001b[0;36m_train_internal\u001b[0;34m(params, dtrain, num_boost_round, evals, obj, feval, xgb_model, callbacks)\u001b[0m\n\u001b[1;32m     74\u001b[0m         \u001b[0;31m# Skip the first update if it is a recovery step.\u001b[0m\u001b[0;34m\u001b[0m\u001b[0;34m\u001b[0m\u001b[0m\n\u001b[1;32m     75\u001b[0m         \u001b[0;32mif\u001b[0m \u001b[0mversion\u001b[0m \u001b[0;34m%\u001b[0m \u001b[0;36m2\u001b[0m \u001b[0;34m==\u001b[0m \u001b[0;36m0\u001b[0m\u001b[0;34m:\u001b[0m\u001b[0;34m\u001b[0m\u001b[0m\n\u001b[0;32m---> 76\u001b[0;31m             \u001b[0mbst\u001b[0m\u001b[0;34m.\u001b[0m\u001b[0mupdate\u001b[0m\u001b[0;34m(\u001b[0m\u001b[0mdtrain\u001b[0m\u001b[0;34m,\u001b[0m \u001b[0mi\u001b[0m\u001b[0;34m,\u001b[0m \u001b[0mobj\u001b[0m\u001b[0;34m)\u001b[0m\u001b[0;34m\u001b[0m\u001b[0m\n\u001b[0m\u001b[1;32m     77\u001b[0m             \u001b[0mbst\u001b[0m\u001b[0;34m.\u001b[0m\u001b[0msave_rabit_checkpoint\u001b[0m\u001b[0;34m(\u001b[0m\u001b[0;34m)\u001b[0m\u001b[0;34m\u001b[0m\u001b[0m\n\u001b[1;32m     78\u001b[0m             \u001b[0mversion\u001b[0m \u001b[0;34m+=\u001b[0m \u001b[0;36m1\u001b[0m\u001b[0;34m\u001b[0m\u001b[0m\n",
      "\u001b[0;32m/usr/local/lib/python2.7/site-packages/xgboost-0.4-py2.7.egg/xgboost/core.pyc\u001b[0m in \u001b[0;36mupdate\u001b[0;34m(self, dtrain, iteration, fobj)\u001b[0m\n\u001b[1;32m    804\u001b[0m \u001b[0;34m\u001b[0m\u001b[0m\n\u001b[1;32m    805\u001b[0m         \u001b[0;32mif\u001b[0m \u001b[0mfobj\u001b[0m \u001b[0;32mis\u001b[0m \u001b[0mNone\u001b[0m\u001b[0;34m:\u001b[0m\u001b[0;34m\u001b[0m\u001b[0m\n\u001b[0;32m--> 806\u001b[0;31m             \u001b[0m_check_call\u001b[0m\u001b[0;34m(\u001b[0m\u001b[0m_LIB\u001b[0m\u001b[0;34m.\u001b[0m\u001b[0mXGBoosterUpdateOneIter\u001b[0m\u001b[0;34m(\u001b[0m\u001b[0mself\u001b[0m\u001b[0;34m.\u001b[0m\u001b[0mhandle\u001b[0m\u001b[0;34m,\u001b[0m \u001b[0miteration\u001b[0m\u001b[0;34m,\u001b[0m \u001b[0mdtrain\u001b[0m\u001b[0;34m.\u001b[0m\u001b[0mhandle\u001b[0m\u001b[0;34m)\u001b[0m\u001b[0;34m)\u001b[0m\u001b[0;34m\u001b[0m\u001b[0m\n\u001b[0m\u001b[1;32m    807\u001b[0m         \u001b[0;32melse\u001b[0m\u001b[0;34m:\u001b[0m\u001b[0;34m\u001b[0m\u001b[0m\n\u001b[1;32m    808\u001b[0m             \u001b[0mpred\u001b[0m \u001b[0;34m=\u001b[0m \u001b[0mself\u001b[0m\u001b[0;34m.\u001b[0m\u001b[0mpredict\u001b[0m\u001b[0;34m(\u001b[0m\u001b[0mdtrain\u001b[0m\u001b[0;34m)\u001b[0m\u001b[0;34m\u001b[0m\u001b[0m\n",
      "\u001b[0;32m/usr/local/lib/python2.7/site-packages/xgboost-0.4-py2.7.egg/xgboost/core.pyc\u001b[0m in \u001b[0;36m_check_call\u001b[0;34m(ret)\u001b[0m\n\u001b[1;32m    125\u001b[0m     \"\"\"\n\u001b[1;32m    126\u001b[0m     \u001b[0;32mif\u001b[0m \u001b[0mret\u001b[0m \u001b[0;34m!=\u001b[0m \u001b[0;36m0\u001b[0m\u001b[0;34m:\u001b[0m\u001b[0;34m\u001b[0m\u001b[0m\n\u001b[0;32m--> 127\u001b[0;31m         \u001b[0;32mraise\u001b[0m \u001b[0mXGBoostError\u001b[0m\u001b[0;34m(\u001b[0m\u001b[0m_LIB\u001b[0m\u001b[0;34m.\u001b[0m\u001b[0mXGBGetLastError\u001b[0m\u001b[0;34m(\u001b[0m\u001b[0;34m)\u001b[0m\u001b[0;34m)\u001b[0m\u001b[0;34m\u001b[0m\u001b[0m\n\u001b[0m\u001b[1;32m    128\u001b[0m \u001b[0;34m\u001b[0m\u001b[0m\n\u001b[1;32m    129\u001b[0m \u001b[0;34m\u001b[0m\u001b[0m\n",
      "\u001b[0;31mXGBoostError\u001b[0m: value 0for Parameter num_class should be greater equal to 1"
     ]
    }
   ],
   "source": [
    "bst123 = xgb.train(param, dtrain, num_round, verbose_eval = True, evals_result = er );"
   ]
  },
  {
   "cell_type": "code",
   "execution_count": 115,
   "metadata": {
    "collapsed": false
   },
   "outputs": [
    {
     "data": {
      "text/plain": [
       "(306, 396)"
      ]
     },
     "execution_count": 115,
     "metadata": {},
     "output_type": "execute_result"
    }
   ],
   "source": [
    "preds.shape"
   ]
  },
  {
   "cell_type": "code",
   "execution_count": 120,
   "metadata": {
    "collapsed": false
   },
   "outputs": [
    {
     "data": {
      "text/plain": [
       "[<matplotlib.lines.Line2D at 0x11472bd50>,\n",
       " <matplotlib.lines.Line2D at 0x11472bf90>]"
      ]
     },
     "execution_count": 120,
     "metadata": {},
     "output_type": "execute_result"
    },
    {
     "data": {
      "image/png": "[encoded data removed]",
      "text/plain": [
       "<matplotlib.figure.Figure at 0x10d500bd0>"
      ]
     },
     "metadata": {},
     "output_type": "display_data"
    }
   ],
   "source": [
    "plt.plot(er['test']['MAP@3'], 'r--', er['train']['MAP@3'], 'b--')"
   ]
  },
  {
   "cell_type": "code",
   "execution_count": 107,
   "metadata": {
    "collapsed": false
   },
   "outputs": [
    {
     "data": {
      "text/plain": [
       "[<matplotlib.lines.Line2D at 0x10d3ba590>,\n",
       " <matplotlib.lines.Line2D at 0x10d3baa90>]"
      ]
     },
     "execution_count": 107,
     "metadata": {},
     "output_type": "execute_result"
    },
    {
     "data": {
      "image/png": "[encoded data removed]",
      "text/plain": [
       "<matplotlib.figure.Figure at 0x10f57e4d0>"
      ]
     },
     "metadata": {},
     "output_type": "display_data"
    }
   ],
   "source": [
    "plt.plot(er['test']['mlogloss'], 'r--', er['train']['mlogloss'], 'b--')"
   ]
  },
  {
   "cell_type": "code",
   "execution_count": 110,
   "metadata": {
    "collapsed": false
   },
   "outputs": [
    {
     "name": "stdout",
     "output_type": "stream",
     "text": [
      "(14510, 7)\n",
      "(14510, 1)\n",
      "(306, 7)\n",
      "(306, 1)\n"
     ]
    }
   ],
   "source": [
    "X1 = transform_x1(card_train[:, (1, 2, 3, 4)])\n",
    "y_orig, enc = transform_y(small_data[:, 5])\n",
    "y, enc = transform_y(card_train[:, 5], enc)\n",
    "test_X1 = transform_x1(test[:, (1, 2, 3, 4)])\n",
    "test_y, enc = transform_y(test[:, 5], enc)\n",
    "print X1.shape\n",
    "print y.shape\n",
    "print test_X1.shape\n",
    "print test_y.shape\n",
    "\n",
    "dtrain1 = xgb.DMatrix(X1, label=np.ravel(y))\n",
    "dtest1 = xgb.DMatrix(test_X1, label=np.ravel(test_y))"
   ]
  },
  {
   "cell_type": "code",
   "execution_count": 111,
   "metadata": {
    "collapsed": true
   },
   "outputs": [],
   "source": [
    "param1 = {}\n",
    "# use softmax multi-class classification\n",
    "param1['objective'] = 'multi:softprob'\n",
    "# scale weight of positive examples\n",
    "param1['eta'] = 0.1\n",
    "param1['max_depth'] = 6\n",
    "param1['silent'] = 1\n",
    "param1['nthread'] = 4\n",
    "param1['num_class'] = 396\n",
    "param1['eval_metric'] = ['merror', 'mlogloss']\n",
    "\n",
    "watchlist1 = [ (dtrain1,'train'), (dtest1, 'test') ]\n",
    "num_round1 = 35\n",
    "er1 = {}"
   ]
  },
  {
   "cell_type": "code",
   "execution_count": 112,
   "metadata": {
    "collapsed": false
   },
   "outputs": [
    {
     "name": "stdout",
     "output_type": "stream",
     "text": [
      "[0]\ttrain-merror:0.491592\ttrain-mlogloss:3.16631\ttest-merror:0.562092\ttest-mlogloss:3.6628\n",
      "[1]\ttrain-merror:0.465059\ttrain-mlogloss:2.64402\ttest-merror:0.555556\ttest-mlogloss:3.17236\n",
      "[2]\ttrain-merror:0.447278\ttrain-mlogloss:2.369\ttest-merror:0.542484\ttest-mlogloss:2.94533\n",
      "[3]\ttrain-merror:0.430875\ttrain-mlogloss:2.17426\ttest-merror:0.539216\ttest-mlogloss:2.80048\n",
      "[4]\ttrain-merror:0.417505\ttrain-mlogloss:2.02123\ttest-merror:0.526144\ttest-mlogloss:2.68952\n",
      "[5]\ttrain-merror:0.408546\ttrain-mlogloss:1.89711\ttest-merror:0.51634\ttest-mlogloss:2.61055\n",
      "[6]\ttrain-merror:0.395038\ttrain-mlogloss:1.79101\ttest-merror:0.503268\ttest-mlogloss:2.54455\n",
      "[7]\ttrain-merror:0.384149\ttrain-mlogloss:1.6996\ttest-merror:0.496732\ttest-mlogloss:2.48904\n",
      "[8]\ttrain-merror:0.372984\ttrain-mlogloss:1.62008\ttest-merror:0.486928\ttest-mlogloss:2.44164\n",
      "[9]\ttrain-merror:0.361061\ttrain-mlogloss:1.54916\ttest-merror:0.490196\ttest-mlogloss:2.40083\n",
      "[10]\ttrain-merror:0.347622\ttrain-mlogloss:1.48398\ttest-merror:0.48366\ttest-mlogloss:2.36399\n",
      "[11]\ttrain-merror:0.337147\ttrain-mlogloss:1.42479\ttest-merror:0.48366\ttest-mlogloss:2.32813\n",
      "[12]\ttrain-merror:0.327567\ttrain-mlogloss:1.37108\ttest-merror:0.477124\ttest-mlogloss:2.29925\n",
      "[13]\ttrain-merror:0.319711\ttrain-mlogloss:1.32157\ttest-merror:0.470588\ttest-mlogloss:2.27169\n",
      "[14]\ttrain-merror:0.310751\ttrain-mlogloss:1.27575\ttest-merror:0.464052\ttest-mlogloss:2.24588\n",
      "[15]\ttrain-merror:0.302895\ttrain-mlogloss:1.23189\ttest-merror:0.454248\ttest-mlogloss:2.22291\n",
      "[16]\ttrain-merror:0.29552\ttrain-mlogloss:1.19243\ttest-merror:0.447712\ttest-mlogloss:2.20752\n",
      "[17]\ttrain-merror:0.287457\ttrain-mlogloss:1.15464\ttest-merror:0.444444\ttest-mlogloss:2.19037\n",
      "[18]\ttrain-merror:0.279945\ttrain-mlogloss:1.11908\ttest-merror:0.441176\ttest-mlogloss:2.17463\n",
      "[19]\ttrain-merror:0.272502\ttrain-mlogloss:1.0861\ttest-merror:0.437909\ttest-mlogloss:2.16069\n",
      "[20]\ttrain-merror:0.26685\ttrain-mlogloss:1.05524\ttest-merror:0.434641\ttest-mlogloss:2.14857\n",
      "[21]\ttrain-merror:0.261061\ttrain-mlogloss:1.02618\ttest-merror:0.434641\ttest-mlogloss:2.13639\n",
      "[22]\ttrain-merror:0.253411\ttrain-mlogloss:0.998259\ttest-merror:0.428105\ttest-mlogloss:2.12677\n",
      "[23]\ttrain-merror:0.24776\ttrain-mlogloss:0.971972\ttest-merror:0.431373\ttest-mlogloss:2.11845\n",
      "[24]\ttrain-merror:0.241558\ttrain-mlogloss:0.946632\ttest-merror:0.441176\ttest-mlogloss:2.1108\n",
      "[25]\ttrain-merror:0.236251\ttrain-mlogloss:0.922551\ttest-merror:0.441176\ttest-mlogloss:2.10462\n",
      "[26]\ttrain-merror:0.231151\ttrain-mlogloss:0.89986\ttest-merror:0.437909\ttest-mlogloss:2.09555\n",
      "[27]\ttrain-merror:0.226465\ttrain-mlogloss:0.877804\ttest-merror:0.437909\ttest-mlogloss:2.08896\n",
      "[28]\ttrain-merror:0.220193\ttrain-mlogloss:0.857073\ttest-merror:0.434641\ttest-mlogloss:2.08232\n",
      "[29]\ttrain-merror:0.215507\ttrain-mlogloss:0.837597\ttest-merror:0.441176\ttest-mlogloss:2.07749\n",
      "[30]\ttrain-merror:0.209649\ttrain-mlogloss:0.818092\ttest-merror:0.434641\ttest-mlogloss:2.0708\n",
      "[31]\ttrain-merror:0.205376\ttrain-mlogloss:0.800738\ttest-merror:0.434641\ttest-mlogloss:2.06743\n",
      "[32]\ttrain-merror:0.200689\ttrain-mlogloss:0.783088\ttest-merror:0.437909\ttest-mlogloss:2.06064\n",
      "[33]\ttrain-merror:0.19621\ttrain-mlogloss:0.766399\ttest-merror:0.437909\ttest-mlogloss:2.05601\n",
      "[34]\ttrain-merror:0.191937\ttrain-mlogloss:0.749593\ttest-merror:0.434641\ttest-mlogloss:2.05154\n"
     ]
    }
   ],
   "source": [
    "bst1 = xgb.train(param1, dtrain1, num_round1, watchlist1, verbose_eval = True, evals_result = er1 );"
   ]
  },
  {
   "cell_type": "code",
   "execution_count": 113,
   "metadata": {
    "collapsed": false
   },
   "outputs": [
    {
     "data": {
      "text/plain": [
       "[<matplotlib.lines.Line2D at 0x10d24d590>,\n",
       " <matplotlib.lines.Line2D at 0x112d70ed0>]"
      ]
     },
     "execution_count": 113,
     "metadata": {},
     "output_type": "execute_result"
    },
    {
     "data": {
      "image/png": "[encoded data removed]",
      "text/plain": [
       "<matplotlib.figure.Figure at 0x10d24d5d0>"
      ]
     },
     "metadata": {},
     "output_type": "display_data"
    }
   ],
   "source": [
    "plt.plot(er1['test']['merror'], 'r--', er1['train']['merror'], 'b--')\n",
    "plt.plot(er1['test']['mlogloss'], 'r--', er1['train']['mlogloss'], 'b--')"
   ]
  },
  {
   "cell_type": "code",
   "execution_count": 127,
   "metadata": {
    "collapsed": false
   },
   "outputs": [],
   "source": [
    "probs = bst.predict(xgb.DMatrix(test_X))"
   ]
  },
  {
   "cell_type": "code",
   "execution_count": 128,
   "metadata": {
    "collapsed": false
   },
   "outputs": [
    {
     "data": {
      "text/plain": [
       "(306, 396)"
      ]
     },
     "execution_count": 128,
     "metadata": {},
     "output_type": "execute_result"
    }
   ],
   "source": [
    "probs.shape"
   ]
  },
  {
   "cell_type": "code",
   "execution_count": 130,
   "metadata": {
    "collapsed": false
   },
   "outputs": [
    {
     "data": {
      "text/plain": [
       "1.0000000036707206"
      ]
     },
     "execution_count": 130,
     "metadata": {},
     "output_type": "execute_result"
    }
   ],
   "source": [
    "sum(probs[0])"
   ]
  },
  {
   "cell_type": "code",
   "execution_count": 6,
   "metadata": {
    "collapsed": false
   },
   "outputs": [
    {
     "data": {
      "text/plain": [
       "<module 'xgboost_model' from 'xgboost_model.pyc'>"
      ]
     },
     "execution_count": 6,
     "metadata": {},
     "output_type": "execute_result"
    }
   ],
   "source": [
    "import xgboost_model as xgbm\n",
    "import grid_generation as grid\n",
    "reload(grid)\n",
    "reload(xgbm)"
   ]
  },
  {
   "cell_type": "code",
   "execution_count": 7,
   "metadata": {
    "collapsed": false
   },
   "outputs": [
    {
     "name": "stdout",
     "output_type": "stream",
     "text": [
      "converting test data to grid wise\n",
      "converting cv data to grid wise\n",
      "mean precision of cross validation set 0.660828459102\n",
      "generating 0 row of test dataprocessing row 0\n",
      "processing row 4\n",
      "processing column 0 of row 0\n",
      "processing column 0 of row 4\n",
      "processing column 1 of row 0processing column 1 of row 4\n",
      "\n",
      "processing column 2 of row 0processing column 2 of row 4\n",
      "\n",
      "processing column 3 of row 0processing column 3 of row 4\n",
      "\n",
      "processing column 4 of row 0processing column 4 of row 4\n",
      "\n",
      "processing column 5 of row 0processing column 5 of row 4\n",
      "\n",
      "processing column 6 of row 0processing column 6 of row 4\n",
      "\n",
      "processing column 7 of row 0processing column 7 of row 4\n",
      "\n",
      "processing column 8 of row 0processing column 8 of row 4\n",
      "\n",
      "processing column 9 of row 0processing column 9 of row 4\n",
      "\n",
      "processing column 10 of row 0processing column 10 of row 4\n",
      "\n",
      "processing column 11 of row 0processing column 11 of row 4\n",
      "\n",
      "processing column 12 of row 0processing column 12 of row 4\n",
      "\n",
      "processing column 13 of row 0processing column 13 of row 4\n",
      "\n",
      "processing column 14 of row 0processing column 14 of row 4\n",
      "\n",
      "processing column 15 of row 0processing column 15 of row 4\n",
      "\n",
      "processing column 16 of row 0processing column 16 of row 4\n",
      "\n",
      "processing column 17 of row 0processing column 17 of row 4\n",
      "\n",
      "processing column 18 of row 0processing column 18 of row 4\n",
      "\n",
      "processing column 19 of row 0processing column 19 of row 4\n",
      "\n",
      "processing column 20 of row 0processing column 20 of row 4\n",
      "\n",
      "processing column 21 of row 0processing column 21 of row 4\n",
      "\n",
      "processing column 22 of row 0processing column 22 of row 4\n",
      "\n",
      "processing column 23 of row 0processing column 23 of row 4\n",
      "\n",
      "processing column 24 of row 0processing column 24 of row 4\n",
      "\n",
      "processing column 25 of row 0processing column 25 of row 4\n",
      "\n",
      "processing column 26 of row 0processing column 26 of row 4\n",
      "\n",
      "processing column 27 of row 0processing column 27 of row 4\n",
      "\n",
      "processing column 28 of row 0processing column 28 of row 4\n",
      "\n",
      "processing column 29 of row 0processing column 29 of row 4\n",
      "\n",
      "processing column 30 of row 0processing column 30 of row 4\n",
      "\n",
      "processing column 31 of row 0processing column 31 of row 4\n",
      "\n",
      "processing column 32 of row 0processing column 32 of row 4\n",
      "\n",
      "processing column 33 of row 0processing column 33 of row 4\n",
      "\n",
      "processing column 34 of row 0processing column 34 of row 4\n",
      "\n",
      "processing column 35 of row 0processing column 35 of row 4\n",
      "\n",
      "processing column 36 of row 0processing column 36 of row 4\n",
      "\n",
      "processing column 37 of row 0processing column 37 of row 4\n",
      "\n",
      "processing column 38 of row 0processing column 38 of row 4\n",
      "\n",
      "processing column 39 of row 0processing column 39 of row 4\n",
      "\n",
      "processing column 40 of row 0processing column 40 of row 4\n",
      "\n",
      "processing column 41 of row 0processing column 41 of row 4\n",
      "\n",
      "processing column 42 of row 0processing column 42 of row 4\n",
      "\n",
      "processing column 43 of row 0processing column 43 of row 4\n",
      "\n",
      "processing column 44 of row 0processing column 44 of row 4\n",
      "\n",
      "processing column 45 of row 0processing column 45 of row 4\n",
      "\n",
      "processing column 46 of row 0processing column 46 of row 4\n",
      "\n",
      "processing column 47 of row 0processing column 47 of row 4\n",
      "\n",
      "processing column 48 of row 0processing column 48 of row 4\n",
      "\n",
      "processing column 49 of row 0processing column 49 of row 4\n",
      "\n",
      "processing column 50 of row 0processing column 50 of row 4\n",
      "\n",
      "processing column 51 of row 0processing column 51 of row 4\n",
      "\n",
      "processing column 52 of row 0processing column 52 of row 4\n",
      "\n",
      "processing column 53 of row 0processing column 53 of row 4\n",
      "\n",
      "processing column 54 of row 0processing column 54 of row 4\n",
      "\n",
      "processing column 55 of row 0processing column 55 of row 4\n",
      "\n",
      "processing column 56 of row 0processing column 56 of row 4\n",
      "\n",
      "processing column 57 of row 0processing column 57 of row 4\n",
      "\n",
      "processing column 58 of row 0processing column 58 of row 4\n",
      "\n",
      "processing column 59 of row 0processing column 59 of row 4\n",
      "\n",
      "processing column 60 of row 0processing column 60 of row 4\n",
      "\n",
      "processing column 61 of row 0processing column 61 of row 4\n",
      "\n",
      "processing column 62 of row 0processing column 62 of row 4\n",
      "\n",
      "processing column 63 of row 0processing column 63 of row 4\n",
      "\n",
      "\n",
      "processing column 64 of row 0processing column 64 of row 4\n",
      "\n",
      "processing column 65 of row 0processing column 65 of row 4\n",
      "\n",
      "processing column 66 of row 0processing column 66 of row 4\n",
      "\n",
      "processing column 67 of row 0processing column 67 of row 4\n",
      "\n",
      "processing column 68 of row 0processing column 68 of row 4\n",
      "\n",
      "processing column 69 of row 0processing column 69 of row 4\n",
      "\n",
      "processing column 70 of row 0processing column 70 of row 4\n",
      "\n",
      "processing column 71 of row 0processing column 71 of row 4\n",
      "\n",
      "processing column 72 of row 0processing column 72 of row 4\n",
      "\n",
      "processing column 73 of row 0processing column 73 of row 4\n",
      "\n",
      "processing column 74 of row 0processing column 74 of row 4\n",
      "\n",
      "processing column 75 of row 0processing column 75 of row 4\n",
      "\n",
      "processing column 76 of row 0processing column 76 of row 4\n",
      "\n",
      "processing column 77 of row 0processing column 77 of row 4\n",
      "\n",
      "processing column 78 of row 0processing column 78 of row 4\n",
      "\n",
      "processing column 79 of row 0processing column 79 of row 4\n",
      "\n",
      "processing column 80 of row 0processing column 80 of row 4\n",
      "\n",
      "processing column 81 of row 0processing column 81 of row 4\n",
      "\n",
      "processing column 82 of row 0processing column 82 of row 4\n",
      "\n",
      "processing column 83 of row 0processing column 83 of row 4\n",
      "\n",
      "processing column 84 of row 0processing column 84 of row 4\n",
      "\n",
      "processing column 85 of row 0processing column 85 of row 4\n",
      "\n",
      "processing column 86 of row 0processing column 86 of row 4\n",
      "\n",
      "processing column 87 of row 0processing column 87 of row 4\n",
      "\n",
      "processing column 88 of row 0processing column 88 of row 4\n",
      "\n",
      "processing column 89 of row 0processing column 89 of row 4\n",
      "\n",
      "processing column 90 of row 0processing column 90 of row 4\n",
      "\n",
      "processing column 91 of row 0processing column 91 of row 4\n",
      "\n",
      "processing column 92 of row 0processing column 92 of row 4\n",
      "\n",
      "processing column 93 of row 0processing column 93 of row 4\n",
      "\n",
      "processing column 94 of row 0processing column 94 of row 4\n",
      "\n",
      "processing column 95 of row 0processing column 95 of row 4\n",
      "\n",
      "processing column 96 of row 0processing column 96 of row 4\n",
      "\n",
      "processing column 97 of row 0processing column 97 of row 4\n",
      "\n",
      "processing column 98 of row 0processing column 98 of row 4\n",
      "\n",
      "processing column 99 of row 0processing column 99 of row 4\n",
      "\n",
      "processing column 100 of row 0processing column 100 of row 4\n",
      "\n",
      "processing row 1\n",
      "processing row 5\n",
      "processing column 0 of row 1\n",
      "processing column 0 of row 5\n",
      "processing column 1 of row 1processing column 1 of row 5\n",
      "\n",
      "processing column 2 of row 1processing column 2 of row 5\n",
      "\n",
      "processing column 3 of row 1processing column 3 of row 5\n",
      "\n",
      "processing column 4 of row 1processing column 4 of row 5\n",
      "\n",
      "processing column 5 of row 1processing column 5 of row 5\n",
      "\n",
      "processing column 6 of row 1processing column 6 of row 5\n",
      "\n",
      "processing column 7 of row 1processing column 7 of row 5\n",
      "\n",
      "processing column 8 of row 1processing column 8 of row 5\n",
      "\n",
      "processing column 9 of row 1processing column 9 of row 5\n",
      "\n",
      "processing column 10 of row 1processing column 10 of row 5\n",
      "\n",
      "processing column 11 of row 1processing column 11 of row 5\n",
      "\n",
      "processing column 12 of row 1processing column 12 of row 5\n",
      "\n",
      "processing column 13 of row 1processing column 13 of row 5\n",
      "\n",
      "processing column 14 of row 1processing column 14 of row 5\n",
      "\n",
      "processing column 15 of row 1processing column 15 of row 5\n",
      "\n",
      "processing column 16 of row 1processing column 16 of row 5\n",
      "\n",
      "processing column 17 of row 1processing column 17 of row 5\n",
      "\n",
      "processing column 18 of row 1processing column 18 of row 5\n",
      "\n",
      "processing column 19 of row 1processing column 19 of row 5\n",
      "\n",
      "processing column 20 of row 1processing column 20 of row 5\n",
      "\n",
      "processing column 21 of row 1processing column 21 of row 5\n",
      "\n",
      "processing column 22 of row 1processing column 22 of row 5\n",
      "\n",
      "processing column 23 of row 1processing column 23 of row 5\n",
      "\n",
      "processing column 24 of row 1processing column 24 of row 5\n",
      "\n",
      "processing column 25 of row 1processing column 25 of row 5\n",
      "\n",
      "processing column 26 of row 1processing column 26 of row 5\n",
      "\n"
     ]
    },
    {
     "name": "stderr",
     "output_type": "stream",
     "text": [
      "xgboost_model.py:336: FutureWarning: comparison to `None` will result in an elementwise object comparison in the future.\n",
      "  test_rows = filter(lambda x: x != None, test_rows)\n",
      "xgboost_model.py:337: FutureWarning: comparison to `None` will result in an elementwise object comparison in the future.\n",
      "  cv_rows = filter(lambda x: x != None, cv_rows)\n",
      "/usr/local/lib/python2.7/site-packages/numpy/lib/npyio.py:891: UserWarning: loadtxt: Empty input file: \"../grid1_400_100_50_10/grid_data_25_100.csv\"\n",
      "  warnings.warn('loadtxt: Empty input file: \"%s\"' % fname)\n"
     ]
    },
    {
     "name": "stdout",
     "output_type": "stream",
     "text": [
      "processing column 27 of row 1processing column 27 of row 5\n",
      "\n",
      "processing column 28 of row 1processing column 28 of row 5\n",
      "\n",
      "processing column 29 of row 1processing column 29 of row 5\n",
      "\n",
      "processing column 30 of row 1processing column 30 of row 5\n",
      "\n",
      "processing column 31 of row 1processing column 31 of row 5\n",
      "\n",
      "processing column 32 of row 1processing column 32 of row 5\n",
      "\n",
      "processing column 33 of row 1processing column 33 of row 5\n",
      "\n",
      "processing column 34 of row 1processing column 34 of row 5\n",
      "\n",
      "processing column 35 of row 1processing column 35 of row 5\n",
      "\n",
      "processing column 36 of row 1processing column 36 of row 5\n",
      "\n",
      "processing column 37 of row 1processing column 37 of row 5\n",
      "\n",
      "processing column 38 of row 1processing column 38 of row 5\n",
      "\n",
      "processing column 39 of row 1processing column 39 of row 5\n",
      "\n",
      "processing column 40 of row 1processing column 40 of row 5\n",
      "\n",
      "processing column 41 of row 1processing column 41 of row 5\n",
      "\n",
      "processing column 42 of row 1processing column 42 of row 5\n",
      "\n",
      "processing column 43 of row 1processing column 43 of row 5\n",
      "\n",
      "processing column 44 of row 1processing column 44 of row 5\n",
      "\n",
      "processing column 45 of row 1processing column 45 of row 5\n",
      "\n",
      "processing column 46 of row 1processing column 46 of row 5\n",
      "\n",
      "processing column 47 of row 1processing column 47 of row 5\n",
      "\n",
      "processing column 48 of row 1processing column 48 of row 5\n",
      "\n",
      "processing column 49 of row 1processing column 49 of row 5\n",
      "\n",
      "processing column 50 of row 1processing column 50 of row 5\n",
      "\n",
      "processing column 51 of row 1processing column 51 of row 5\n",
      "\n",
      "processing column 52 of row 1processing column 52 of row 5\n",
      "\n",
      "processing column 53 of row 1processing column 53 of row 5\n",
      "\n",
      "processing column 54 of row 1processing column 54 of row 5\n",
      "\n",
      "processing column 55 of row 1processing column 55 of row 5\n",
      "\n",
      "processing column 56 of row 1processing column 56 of row 5\n",
      "\n",
      "processing column 57 of row 1processing column 57 of row 5\n",
      "\n",
      "processing column 58 of row 1processing column 58 of row 5\n",
      "\n",
      "processing column 59 of row 1processing column 59 of row 5\n",
      "\n",
      "processing column 60 of row 1processing column 60 of row 5\n",
      "\n",
      "processing column 61 of row 1processing column 61 of row 5\n",
      "\n",
      "processing column 62 of row 1processing column 62 of row 5\n",
      "\n",
      "processing column 63 of row 1processing column 63 of row 5\n",
      "\n",
      "processing column 64 of row 1processing column 64 of row 5\n",
      "\n",
      "processing column 65 of row 1processing column 65 of row 5\n",
      "\n",
      "processing column 66 of row 1processing column 66 of row 5\n",
      "\n",
      "processing column 67 of row 1processing column 67 of row 5\n",
      "\n",
      "processing column 68 of row 1processing column 68 of row 5\n",
      "\n",
      "processing column 69 of row 1processing column 69 of row 5\n",
      "\n",
      "processing column 70 of row 1processing column 70 of row 5\n",
      "\n",
      "processing column 71 of row 1processing column 71 of row 5\n",
      "\n",
      "processing column 72 of row 1processing column 72 of row 5\n",
      "\n",
      "processing column 73 of row 1processing column 73 of row 5\n",
      "\n",
      "processing column 74 of row 1processing column 74 of row 5\n",
      "\n",
      "processing column 75 of row 1processing column 75 of row 5\n",
      "\n",
      "processing column 76 of row 1processing column 76 of row 5\n",
      "\n",
      "processing column 77 of row 1processing column 77 of row 5\n",
      "\n",
      "processing column 78 of row 1processing column 78 of row 5\n",
      "\n",
      "processing column 79 of row 1processing column 79 of row 5\n",
      "\n",
      "processing column 80 of row 1processing column 80 of row 5\n",
      "\n",
      "processing column 81 of row 1processing column 81 of row 5\n",
      "\n",
      "processing column 82 of row 1processing column 82 of row 5\n",
      "\n",
      "processing column 83 of row 1processing column 83 of row 5\n",
      "\n",
      "processing column 84 of row 1processing column 84 of row 5\n",
      "\n",
      "processing column 85 of row 1processing column 85 of row 5\n",
      "\n",
      "processing column 86 of row 1processing column 86 of row 5\n",
      "\n",
      "processing column 87 of row 1processing column 87 of row 5\n",
      "\n",
      "processing column 88 of row 1processing column 88 of row 5\n",
      "\n",
      "processing column 89 of row 1processing column 89 of row 5\n",
      "\n",
      "processing column 90 of row 1processing column 90 of row 5\n",
      "\n"
     ]
    }
   ],
   "source": [
    "g = grid.Grid(400, 100, 50, 10, pref = 'grid1', files_flag=True, train_file='../main_train_0.02_5.csv')\n",
    "xgbm1 = xgbm.XGB_Model(grid = g, threshold = 7, cross_validation_file='../main_cv_0.02_5.csv')\n",
    "xgbm1.train_and_predict_parallel('../parallel_submission.csv')"
   ]
  },
  {
   "cell_type": "code",
   "execution_count": null,
   "metadata": {
    "collapsed": true
   },
   "outputs": [],
   "source": [
    "ubuntu@ip-172-30-0-34:~/facebook/scripts$ ls -ld /proc/2599\n",
    "dr-xr-xr-x 9 ubuntu ubuntu 0 Jun 27 10:24 /proc/2599\n",
    "ubuntu@ip-172-30-0-34:~/facebook/scripts$ date\n",
    "Mon Jun 27 20:47:54 UTC 2016\n",
    "        \n",
    "        \n",
    "ubuntu@ip-172-30-0-195:~/facebook$ ls -ld /proc/2248\n",
    "dr-xr-xr-x 9 ubuntu ubuntu 0 Jun 28 06:30 /proc/2248\n",
    "ubuntu@ip-172-30-0-195:~/facebook$ date\n",
    "Tue Jun 28 08:24:55 UTC 2016"
   ]
  }
 ],
 "metadata": {
  "kernelspec": {
   "display_name": "Python 2",
   "language": "python",
   "name": "python2"
  },
  "language_info": {
   "codemirror_mode": {
    "name": "ipython",
    "version": 2
   },
   "file_extension": ".py",
   "mimetype": "text/x-python",
   "name": "python",
   "nbconvert_exporter": "python",
   "pygments_lexer": "ipython2",
   "version": "2.7.11"
  }
 },
 "nbformat": 4,
 "nbformat_minor": 0
}
