{
 "cells": [
  {
   "cell_type": "code",
   "execution_count": 1,
   "metadata": {
    "collapsed": false
   },
   "outputs": [
    {
     "name": "stdout",
     "output_type": "stream",
     "text": [
      "/home/ubuntu/mount_point/facebook/scripts\n"
     ]
    }
   ],
   "source": [
    "cd scripts/"
   ]
  },
  {
   "cell_type": "code",
   "execution_count": 2,
   "metadata": {
    "collapsed": true
   },
   "outputs": [],
   "source": [
    "import itertools\n",
    "from multiprocessing import Pool\n",
    "import numpy as np\n",
    "#Import libraries:\n",
    "import pandas as pd\n",
    "import numpy as np\n",
    "from sklearn.ensemble import GradientBoostingClassifier  #GBM algorithm\n",
    "from sklearn import cross_validation, metrics   #Additional scklearn functions\n",
    "from sklearn.grid_search import GridSearchCV   #Perforing grid search\n",
    "\n",
    "import matplotlib.pylab as plt\n",
    "from matplotlib.pylab import rcParams\n",
    "rcParams['figure.figsize'] = 12, 4\n",
    "\n",
    "from sklearn.cross_validation import train_test_split\n",
    "import pickle\n",
    "\n",
    "from sklearn.preprocessing import LabelEncoder\n",
    "\n",
    "import xgboost as xgb\n",
    "\n",
    "import traceback\n",
    "import grid_generation as grid"
   ]
  },
  {
   "cell_type": "code",
   "execution_count": 15,
   "metadata": {
    "collapsed": true
   },
   "outputs": [],
   "source": [
    "import itertools\n",
    "from multiprocessing import Pool\n",
    "import numpy as np\n",
    "#Import libraries:\n",
    "import pandas as pd\n",
    "import numpy as np\n",
    "from sklearn.ensemble import GradientBoostingClassifier  #GBM algorithm\n",
    "from sklearn import cross_validation, metrics   #Additional scklearn functions\n",
    "from sklearn.grid_search import GridSearchCV   #Perforing grid search\n",
    "\n",
    "import matplotlib.pylab as plt\n",
    "from matplotlib.pylab import rcParams\n",
    "rcParams['figure.figsize'] = 12, 4\n",
    "\n",
    "from sklearn.cross_validation import train_test_split\n",
    "import pickle\n",
    "\n",
    "from sklearn.preprocessing import LabelEncoder\n",
    "\n",
    "import xgboost as xgb\n",
    "\n",
    "import traceback\n",
    "import grid_generation as grid\n",
    "\n",
    "params_range = {'a': range(1, 5),\n",
    "          'b': range(6, 9)}\n",
    "\n",
    "def transform_x(X, x_transformer = None):\n",
    "    \"\"\"\n",
    "    X = [[x, y, a, t]]\n",
    "    \"\"\"\n",
    "    fw = [500., 1000., 4., 3., 2., 10., 10.]\n",
    "    minute_v = X[:, 3]%60\n",
    "    hour_v = X[:, 3]//60\n",
    "    weekday_v = hour_v//24\n",
    "    month_v = weekday_v//30\n",
    "    year_v = (weekday_v//365 + 1)*fw[5]\n",
    "    hour_v = ((hour_v%24 + 1) + minute_v/60.0)*fw[2]\n",
    "    hour_v_2 = (X[:, 3]%(60*60*24))//(60*60*2)\n",
    "    hour_v_3 = (X[:, 3]%(60*60*24))//(60*60*3)\n",
    "    hour_v_4 = (X[:, 3]%(60*60*24))//(60*60*4)\n",
    "    hour_v_6 = (X[:, 3]%(60*60*24))//(60*60*6)\n",
    "    hour_v_8 = (X[:, 3]%(60*60*24))//(60*60*8)\n",
    "    weekday_v = (weekday_v%7 + 1)*fw[3]\n",
    "    month_v = (month_v%12 +1)*fw[4]\n",
    "    accuracy_v = np.log10(X[:, 2])*fw[6]\n",
    "    x_v = X[:, 0]*fw[0]\n",
    "    y_v = X[:, 1]*fw[1]\n",
    "    return np.hstack((x_v.reshape(-1, 1),\n",
    "                     y_v.reshape(-1, 1),\n",
    "                     accuracy_v.reshape(-1, 1),\n",
    "                     hour_v.reshape(-1, 1),\n",
    "                     hour_v_2.reshape(-1, 1),\n",
    "                     hour_v_3.reshape(-1, 1),\n",
    "                     hour_v_4.reshape(-1, 1),\n",
    "                     hour_v_6.reshape(-1, 1),\n",
    "                     hour_v_8.reshape(-1, 1),\n",
    "                     weekday_v.reshape(-1, 1),\n",
    "                     month_v.reshape(-1, 1),\n",
    "                     year_v.reshape(-1, 1)))\n",
    "\n",
    "def transform_y(y, y_transformer = None):\n",
    "    \"\"\"\n",
    "    place_ids to encoded array\n",
    "    \"\"\"\n",
    "    y = y.astype(int)\n",
    "    if y_transformer == None:\n",
    "        label_encoder = LabelEncoder()\n",
    "        label_encoder.fit(y)\n",
    "        y_transformer = {'encoder': label_encoder}\n",
    "    new_y = y_transformer['encoder'].transform(y).reshape(-1, 1)\n",
    "    return (new_y, y_transformer)\n",
    "\n",
    "def map3eval(preds, dtrain):\n",
    "    actual = dtrain.get_label()\n",
    "    predicted = preds.argsort(axis=1)[:,-np.arange(1,4)]\n",
    "    metric = 0.\n",
    "    for i in range(3):\n",
    "        metric += np.sum(actual==predicted[:,i])/(i+1)\n",
    "    metric /= actual.shape[0]\n",
    "    return 'MAP@3', metric\n",
    "\n",
    "def load_data(m, n):\n",
    "    f = g.getGridFile(m, n)\n",
    "    return np.loadtxt(f, delimiter = ',')\n",
    "\n",
    "def get_preds(probs, encoder):\n",
    "    return encoder.inverse_transform(np.argsort(probs, axis = 1)[:, ::-1][:, :3])\n",
    "\n",
    "\n",
    "def get_dtrain_enc(m, n):\n",
    "    data = load_data(m, n)\n",
    "    M = g.M\n",
    "\n",
    "    mask = np.array(map(lambda x: M[m][n][x] > 3, data[:, 5]))\n",
    "    train = data[mask, :]\n",
    "    print data.shape, \"data_shape\"\n",
    "\n",
    "\n",
    "    X = transform_x(train[:, (1, 2, 3, 4)])\n",
    "    y, enc = transform_y(train[:, 5])\n",
    "    print X.shape, \"X shape\"\n",
    "    print y.shape, \"y shape\"\n",
    "    print len(enc['encoder'].classes_), \"no of classes\"\n",
    "\n",
    "    dtrain = xgb.DMatrix(X, label=np.ravel(y))\n",
    "    return (dtrain, enc)\n",
    "\n",
    "\n",
    "orig_params = {\n",
    "            'silent': 0,\n",
    "            'nthread': 8,\n",
    "            'eta': 0.1,\n",
    "            'objective': 'multi:softprob',\n",
    "            'max_depth': 8,\n",
    "            'min_child_weight': 5,\n",
    "            'gamma': 0.32,\n",
    "            'subsample': 0.9,\n",
    "            'colsample_bytree': 0.7,\n",
    "            'scale_pos_weight': 1\n",
    "            }\n",
    "\n",
    "X = 200\n",
    "Y = 50\n",
    "xd = 20\n",
    "yd = 5\n",
    "rx = 5\n",
    "ry = 10\n",
    "xD = rx*X\n",
    "yD = ry*Y\n",
    "XX = 10000\n",
    "YY = 10000\n",
    "\n",
    "eps = 0.001\n",
    "\n",
    "m = XX/X\n",
    "n = YY/Y\n",
    "\n",
    "M = XX/xD\n",
    "N = YY/yD\n",
    "\n",
    "\n",
    "g = grid.Grid(X = 200, Y = 50, xd = 20, yd = 5, pref = 'grid')\n",
    "g.generateCardinalityMatrix()\n",
    "\n",
    "tup = lambda t: list(itertools.izip(itertools.repeat(t[0]), t[1]))\n",
    "\n",
    "def get_list_of_params(params_range):\n",
    "    pr = list(map(tup, params_range.items()))\n",
    "    pro = map(dict, list(itertools.product(*pr)))\n",
    "    return pro\n",
    "\n",
    "\n",
    "def grid_search_xgb(params_range_dict):\n",
    "    grid_params_list = get_list_of_params(params_range_dict)\n",
    "    p = Pool(8)\n",
    "    maps = p.map(get_map_of_xgb, grid_params_list)\n",
    "    p.close()\n",
    "    p.join()\n",
    "    sorted_maps = sorted(maps, cmp = lambda x, y: cmp(x['map'], y['map']), reverse = True)\n",
    "    print \"top map results\", sorted_maps[:3]\n",
    "    return sorted_maps\n",
    "\n",
    "def get_map_of_xgb(grid_param):\n",
    "    cv_params = dict(orig_params)\n",
    "    num_class = {'num_class': len(enc['encoder'].classes_)}\n",
    "    cv_params.update(num_class)\n",
    "    cv_params.update(grid_param)\n",
    "    # print orig_params, grid_param\n",
    "    temp_cv = xgb.cv(cv_params, dtrain, num_boost_round = 100,\n",
    "             early_stopping_rounds = 20, feval = map3eval, maximize = True)\n",
    "    temp_map = temp_cv['test-MAP@3-mean'][temp_cv.shape[0]-1]\n",
    "    grid_param['map'] = temp_map\n",
    "    # print \"cv results\", grid_param\n",
    "    return grid_param\n",
    "\n",
    "#m, n = (12, 50) (37, 50) (12, 150) (37, 150)\n",
    "#dtrain, enc = get_dtrain_enc(12, 50)\n",
    "param_range1 = {\n",
    "    'max_depth': range(2, 10, 2),\n",
    "    'min_child_weight': range(1, 7, 2)\n",
    "}\n",
    "\n",
    "param_range2 = {\n",
    "    'gamma': [i/10.0 for i in range(0, 6)]\n",
    "}\n",
    "\n",
    "param_range3 = {\n",
    "    'subsample': [i/10.0 for i in range(6, 10)],\n",
    "    'colsample_bytree': [i/10.0 for i in range(6, 10)]\n",
    "}\n",
    "\n",
    "param_range4 = {\n",
    "    'max_delta_step': range(3, 10)\n",
    "}\n",
    "\n",
    "param_range5 = {\n",
    " 'alpha':[0, 1e-5, 0.001, 0.005, 0.01, 0.05, 0.1]\n",
    "}\n",
    "\n",
    "\n",
    "\n"
   ]
  },
  {
   "cell_type": "code",
   "execution_count": 16,
   "metadata": {
    "collapsed": true
   },
   "outputs": [],
   "source": [
    "#m, n = (12, 50) (37, 50) (12, 150) (37, 150)\n",
    "#dtrain, enc = get_dtrain_enc(12, 50)\n",
    "param_range1 = {\n",
    "    'max_depth': range(2, 10, 2),\n",
    "    'min_child_weight': range(1, 7, 2)\n",
    "}\n",
    "\n",
    "param_range2 = {\n",
    "    'gamma': [i/10.0 for i in range(0, 6)]\n",
    "}\n",
    "\n",
    "param_range3 = {\n",
    "    'subsample': [i/10.0 for i in range(6, 10)],\n",
    "    'colsample_bytree': [i/10.0 for i in range(6, 10)]\n",
    "}\n",
    "\n",
    "param_range4 = {\n",
    "    'max_delta_step': range(3, 10)\n",
    "}\n",
    "\n",
    "param_range5 = {\n",
    " 'alpha':[0, 1e-5, 0.001, 0.005, 0.01, 0.05, 0.1]\n",
    "}\n",
    "\n",
    "param_range6 = {\n",
    "    'scale_pos_weight': range(0, 2)\n",
    "}"
   ]
  },
  {
   "cell_type": "code",
   "execution_count": 17,
   "metadata": {
    "collapsed": false
   },
   "outputs": [
    {
     "name": "stdout",
     "output_type": "stream",
     "text": [
      "~~~~~~~~~~~~~~~~~~~~~~~~~~~~~~~~~~~~~~~~~~~~~~~~~~~\n",
      "(4336, 6) data_shape\n",
      "(4057, 12) X shape\n",
      "(4057, 1) y shape\n",
      "86 no of classes\n",
      "top map results [{'scale_pos_weight': 0, 'map': 0.69921100000000003}, {'scale_pos_weight': 1, 'map': 0.69921100000000003}]\n"
     ]
    }
   ],
   "source": [
    "orig_params = {'colsample_bytree': 0.6,\n",
    " 'eta': 0.1,\n",
    " 'gamma': 0.4,\n",
    " 'max_delta_step': 7,\n",
    " 'max_depth': 4,\n",
    " 'min_child_weight': 1,\n",
    " 'nthread': 4,\n",
    " 'objective': 'multi:softprob',\n",
    " 'scale_pos_weight': 1,\n",
    " 'subsample': 0.75}\n",
    "print \"~~~~~~~~~~~~~~~~~~~~~~~~~~~~~~~~~~~~~~~~~~~~~~~~~~~\"\n",
    "\n",
    "        \n",
    "dtrain, enc = get_dtrain_enc(12, 40)\n",
    "        \n",
    "for param_range in [param_range6]:\n",
    "    result = None\n",
    "    try:\n",
    "        result = grid_search_xgb(param_range)\n",
    "    except Exception, e:\n",
    "        print e\n",
    "        print traceback.format_exc()\n",
    "        \n",
    "    if result != None:\n",
    "        temp_param = result[0]\n",
    "        del(temp_param['map'])\n",
    "        orig_params.update(temp_param)"
   ]
  },
  {
   "cell_type": "code",
   "execution_count": 18,
   "metadata": {
    "collapsed": false
   },
   "outputs": [
    {
     "data": {
      "text/plain": [
       "{'colsample_bytree': 0.6,\n",
       " 'eta': 0.1,\n",
       " 'gamma': 0.4,\n",
       " 'max_delta_step': 7,\n",
       " 'max_depth': 4,\n",
       " 'min_child_weight': 1,\n",
       " 'nthread': 4,\n",
       " 'objective': 'multi:softprob',\n",
       " 'scale_pos_weight': 0,\n",
       " 'subsample': 0.75}"
      ]
     },
     "execution_count": 18,
     "metadata": {},
     "output_type": "execute_result"
    }
   ],
   "source": [
    "orig_params"
   ]
  },
  {
   "cell_type": "code",
   "execution_count": 19,
   "metadata": {
    "collapsed": false
   },
   "outputs": [
    {
     "data": {
      "text/plain": [
       "100"
      ]
     },
     "execution_count": 19,
     "metadata": {},
     "output_type": "execute_result"
    }
   ],
   "source": [
    "g.max_n/2"
   ]
  },
  {
   "cell_type": "code",
   "execution_count": 20,
   "metadata": {
    "collapsed": false
   },
   "outputs": [
    {
     "data": {
      "text/plain": [
       "[100]"
      ]
     },
     "execution_count": 20,
     "metadata": {},
     "output_type": "execute_result"
    }
   ],
   "source": [
    "range(g.max_n/2, g.max_n/2 + 1)"
   ]
  },
  {
   "cell_type": "code",
   "execution_count": null,
   "metadata": {
    "collapsed": true
   },
   "outputs": [],
   "source": []
  }
 ],
 "metadata": {
  "kernelspec": {
   "display_name": "Python 2",
   "language": "python",
   "name": "python2"
  },
  "language_info": {
   "codemirror_mode": {
    "name": "ipython",
    "version": 2
   },
   "file_extension": ".py",
   "mimetype": "text/x-python",
   "name": "python",
   "nbconvert_exporter": "python",
   "pygments_lexer": "ipython2",
   "version": "2.7.6"
  }
 },
 "nbformat": 4,
 "nbformat_minor": 0
}
