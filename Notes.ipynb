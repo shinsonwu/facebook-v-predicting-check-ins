{
 "cells": [
  {
   "cell_type": "markdown",
   "metadata": {},
   "source": [
    "# Dialy logs\n",
    "\n",
    "## 20th May\n",
    "\n",
    "\n",
    "#### MAP@3 :\n",
    "    Understanding mean average precision MAP@3. Generally used in evaluating ranked retrieval results, in Information Retrieval.\n",
    "    Helpful link: http://nlp.stanford.edu/IR-book/html/htmledition/evaluation-of-ranked-retrieval-results-1.html\n",
    "    \n",
    "    We use precision, recall, F value to evaluate where rank isn't really relevant.\n",
    "    \n",
    "    Say for example. in a set of [a,b,c,d,e] actual true values are [a,b,c] and the predicted true values are [a,c,d]\n",
    "    \n",
    "    True positives(tp): a,c\n",
    "    False positives(fp): d\n",
    "    True negatives(tn): e\n",
    "    False negatives(fn): b\n",
    "    \n",
    "    Precision: How precise is our prediction. (true positives)/(no of predictions)\n",
    "        tp/(tp + fp)\n",
    "    Recall: What percent of true values are returned. (true positives)/(all true values)\n",
    "        tp/(tp + fn)\n",
    "    Accuracy: Total number of correct predictions. (true positives + true negatives)/everything\n",
    "        (tp + tn)/(tp + fp + tn + fn)\n",
    "    \n",
    "    In the above example:\n",
    "        Precision = [a,c]/[a,c,d] = 2/3\n",
    "        Recall = [a,c]/[a,b,c] = 2/3 \n",
    "        Accuracy = [a,c] + [e]/[a,b,c,d,e] = 3/5\n",
    "        \n",
    "    * As we make more and more predictions, if there are no new true positives, the recall stays constant, but precision drops.\n",
    "    * Recall means out of all the positives, how many did we predict correctly.\n",
    "    * Precision means out of all our predictions, how many did we get it right.\n",
    "    * Recall is 1 if we return everything as a prediction. But the precicion drops significantly.\n",
    "    * The reason why accuracy isn't a good measure is cause when the data is highly skewed, it makes no sense. Say for example only 0.01% of values will be true. You can just predict everything to be false still end up with 99.99 accuracy.\n",
    "    * However, labeling all documents as nonrelevant is completely unsatisfying to an information retrieval system user. Users are always going to want to see some documents, and can be assumed to have a certain tolerance for seeing some false positives providing that they get some useful information. The measures of precision and recall concentrate the evaluation on the return of true positives, asking what percentage of the relevant documents have been found and how many false positives have also been returned.\n",
    "    * The advantage of having the two numbers for precision and recall is that one is more important than the other in many circumstances. \n",
    "    * Typical web surfers would like every result on the first page to be relevant (high precision) but have not the slightest interest in knowing let alone looking at every document that is relevant. \n",
    "    * In contrast, various professional searchers such as paralegals and intelligence analysts are very concerned with trying to get as high recall as possible, and will tolerate fairly low precision results in order to get it. Individuals searching their hard disks are also often interested in high recall searches. \n",
    "    * Nevertheless, the two quantities clearly trade off against one another: you can always get a recall of 1 (but very low precision) by retrieving all documents for all queries! Recall is a non-decreasing function of the number of documents retrieved. \n",
    "    * On the other hand, in a good system, precision usually decreases as the number of documents retrieved is increased. \n",
    "    * In general we want to get some amount of recall while tolerating only a certain percentage of false positives.\n",
    "    * A single measure that trades off precision versus recall is the F measure , which is the weighted harmonic mean of precision and recall:\n",
    "    \n",
    "    F = 1/[(alpha * 1/P) + ((1-alpha) * 1/R)] = (beta^2 + 1)PR/[beta^2*P + R] where beta = (1 - alpha)/alpha\n",
    "    alpha belongs to [0,1] and beta^2 belongs to [0, inf]\n",
    "    \n",
    "    F is weighted harmonic mean of precision and recall, F1 is when beta = 1 and a simple harmonic mean of precision and recall\n",
    "    \n",
    "    beta < 1 emphasizes precision, beta > 1 emphasizes recall."
   ]
  }
 ],
 "metadata": {
  "kernelspec": {
   "display_name": "Python 2",
   "language": "python",
   "name": "python2"
  },
  "language_info": {
   "codemirror_mode": {
    "name": "ipython",
    "version": 2
   },
   "file_extension": ".py",
   "mimetype": "text/x-python",
   "name": "python",
   "nbconvert_exporter": "python",
   "pygments_lexer": "ipython2",
   "version": "2.7.11"
  }
 },
 "nbformat": 4,
 "nbformat_minor": 0
}
