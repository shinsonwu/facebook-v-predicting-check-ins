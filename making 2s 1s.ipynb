{
 "cells": [
  {
   "cell_type": "code",
   "execution_count": 1,
   "metadata": {
    "collapsed": false
   },
   "outputs": [
    {
     "name": "stdout",
     "output_type": "stream",
     "text": [
      "/home/ubuntu/mount_point/facebook/scripts\n"
     ]
    }
   ],
   "source": [
    "cd scripts/"
   ]
  },
  {
   "cell_type": "code",
   "execution_count": 26,
   "metadata": {
    "collapsed": true
   },
   "outputs": [],
   "source": [
    "import grid_generation as grid\n",
    "# import feature_engineering as feat\n",
    "import numpy as np\n",
    "import xgboost_extra_features_model as xgbm1\n",
    "from sklearn.preprocessing import LabelEncoder\n",
    "\n",
    "g = grid.Grid(200, 50, 20, 5, pref = 'grid')\n",
    "submission_name = 'grid_200_50_20_5_def_params_th7_n100'\n",
    "g.generateCardinalityMatrix()"
   ]
  },
  {
   "cell_type": "code",
   "execution_count": 35,
   "metadata": {
    "collapsed": false
   },
   "outputs": [],
   "source": [
    "\n",
    "\n",
    "\n",
    "train11 = np.loadtxt(g.getGridFile(1 ,1), delimiter = ',', dtype = int, usecols = (0, 5))\n",
    "top_t11 = np.loadtxt(g.getTopPlacesFolder(submission_name) + 'top_t_preds_1_1.csv', delimiter = ',', dtype = int)\n",
    "\n",
    "y = np.zeros((len(top_t11)))\n",
    "\n",
    "y1 = (train11[:,1]) == (top_t11[:, 1])\n",
    "y2 = (train11[:,1]) == (top_t11[:, 2])\n",
    "y3 = (train11[:,1]) == (top_t11[:, 3])\n",
    "\n",
    "#y[y1] = 1\n",
    "y[y2] = 1\n",
    "#y[y3] = 3\n",
    "\n",
    "# scale_pos_weight = \n",
    "\n",
    "data = np.loadtxt(g.getGridFile(1, 1), dtype = float, delimiter = ',')\n",
    "data_feature = np.loadtxt(g.getFeaturesFile(submission_name, 1, 1),\\\n",
    "        delimiter = ',')\n",
    "data_combined = np.hstack((data[:, :-1], data_feature[:, 1:], data[:, -1].reshape(-1, 1)))\n",
    "\n",
    "\n",
    "mask = np.array(map(lambda x:g.M[1][1][x] > 7, data_combined[:, -1]))\n",
    "masked_data = data_combined[mask, :]\n",
    "X, x_transformer = xgbm1.trans_x(masked_data[:, 1:-1])\n",
    "# Ytr, enc = xgbm1.trans_y(y[mask])\n",
    "\n",
    "Ytr = y[mask]\n",
    "import xgboost as xgb\n",
    "dtrain = xgb.DMatrix(X, label = Ytr)"
   ]
  },
  {
   "cell_type": "code",
   "execution_count": 74,
   "metadata": {
    "collapsed": false
   },
   "outputs": [],
   "source": [
    "scale = float(np.sum(Ytr==1))/np.sum(Ytr==0)"
   ]
  },
  {
   "cell_type": "code",
   "execution_count": 81,
   "metadata": {
    "collapsed": false
   },
   "outputs": [],
   "source": [
    "\n",
    "\n",
    "\n",
    "xgb_params = {\n",
    "            'objective': 'binary:logistic',\n",
    "            'eta': 0.1,\n",
    "            'max_depth': 3,\n",
    "            'min_child_weight': 6,\n",
    "            'gamma': 0.1,\n",
    "            'subsample': 0.9,\n",
    "            'colsample_bytree': 0.6,\n",
    "            \n",
    "            'nthread': 4,\n",
    "            'silent': 1,\n",
    "            \n",
    "            'max_delta_step': 7\n",
    "}\n",
    "bst = xgb.train(xgb_params, dtrain, 25)\n",
    "yproba = bst.predict(dtrain)\n",
    "#preds = enc['encoder'].inverse_transform(np.argsort(yproba, axis = 1)[:, ::-1][:, :1])"
   ]
  },
  {
   "cell_type": "code",
   "execution_count": 8,
   "metadata": {
    "collapsed": false
   },
   "outputs": [
    {
     "data": {
      "text/plain": [
       "213"
      ]
     },
     "execution_count": 8,
     "metadata": {},
     "output_type": "execute_result"
    }
   ],
   "source": [
    "len(g.M[1][1])"
   ]
  },
  {
   "cell_type": "code",
   "execution_count": 82,
   "metadata": {
    "collapsed": false
   },
   "outputs": [
    {
     "data": {
      "text/plain": [
       "array([ 0.15584189,  0.17553727,  0.16703577,  0.15482272,  0.15507543,\n",
       "        0.12036553,  0.15758735,  0.14806916,  0.14809692,  0.13034661,\n",
       "        0.15320468,  0.13211037,  0.16591415,  0.18334128,  0.17261617,\n",
       "        0.15873644,  0.1525169 ,  0.16070642,  0.17672908,  0.14319062], dtype=float32)"
      ]
     },
     "execution_count": 82,
     "metadata": {},
     "output_type": "execute_result"
    }
   ],
   "source": [
    "yproba[:20]"
   ]
  },
  {
   "cell_type": "code",
   "execution_count": 83,
   "metadata": {
    "collapsed": false
   },
   "outputs": [
    {
     "data": {
      "text/plain": [
       "array([ 0.,  0.,  0.,  1.,  1.,  0.,  0.,  1.,  0.,  0.,  1.,  0.,  0.,\n",
       "        0.,  0.,  0.,  0.,  0.,  0.,  0.])"
      ]
     },
     "execution_count": 83,
     "metadata": {},
     "output_type": "execute_result"
    }
   ],
   "source": [
    "Ytr[:20]"
   ]
  },
  {
   "cell_type": "code",
   "execution_count": 56,
   "metadata": {
    "collapsed": false
   },
   "outputs": [],
   "source": []
  },
  {
   "cell_type": "code",
   "execution_count": 88,
   "metadata": {
    "collapsed": false
   },
   "outputs": [
    {
     "name": "stdout",
     "output_type": "stream",
     "text": [
      "6\n",
      "8\n"
     ]
    }
   ],
   "source": [
    "y_preds = np.zeros((len(yproba), ))\n",
    "y_preds[yproba > 0.23] = 1\n",
    "tp = np.sum((Ytr == 1) & (y_preds == 1))\n",
    "fp = np.sum((Ytr == 0) & (y_preds == 1))\n",
    "print tp\n",
    "print fp"
   ]
  },
  {
   "cell_type": "code",
   "execution_count": 89,
   "metadata": {
    "collapsed": false
   },
   "outputs": [],
   "source": [
    "def create_time_dict(t_cuts, time_factor, time_aug):\n",
    "    \n",
    "    t_slice = 24 / t_cuts\n",
    "    time_dict = dict()\n",
    "    for t in range(t_cuts):\n",
    "        \n",
    "        t_min = 2 * np.pi * (t * t_slice * 12 / 288)\n",
    "        t_max = 2 * np.pi * (((t + 1) * t_slice * 12 - 1) / 288)\n",
    "        sin_t_start = np.round(np.sin(t_min)+1, 4) * time_factor\n",
    "        sin_t_stop = np.round(np.sin(t_max)+1, 4) * time_factor\n",
    "        cos_t_start = np.round(np.cos(t_min)+1, 4) * time_factor\n",
    "        cos_t_stop = np.round(np.cos(t_max)+1, 4) * time_factor\n",
    "        #print(t, (sin_t_start, sin_t_stop, cos_t_start, cos_t_stop))\n",
    "        sin_t_min = min((sin_t_start, sin_t_stop))\n",
    "        sin_t_max = max((sin_t_start, sin_t_stop))\n",
    "        cos_t_min = min((cos_t_start, cos_t_stop))\n",
    "        cos_t_max = max((cos_t_start, cos_t_stop))\n",
    "\n",
    "        time_dict[t] = [sin_t_min, sin_t_max, cos_t_min, cos_t_max]\n",
    "        t_min = 2 * np.pi * ((t * t_slice - time_aug) * 12 / 288)\n",
    "        t_max = 2 * np.pi * ((((t + 1) * t_slice + time_aug)* 12 - 1) / 288)\n",
    "        sin_t_start = np.round(np.sin(t_min)+1, 4) * time_factor\n",
    "        sin_t_stop = np.round(np.sin(t_max)+1, 4) * time_factor\n",
    "        cos_t_start = np.round(np.cos(t_min)+1, 4) * time_factor\n",
    "        cos_t_stop = np.round(np.cos(t_max)+1, 4) * time_factor\n",
    "        sin_t_min = min((sin_t_start, sin_t_stop, sin_t_min))\n",
    "        sin_t_max = max((sin_t_start, sin_t_stop, sin_t_max))\n",
    "        cos_t_min = min((cos_t_start, cos_t_stop, cos_t_min))\n",
    "        cos_t_max = max((cos_t_start, cos_t_stop, cos_t_max))\n",
    "        time_dict[t] += [sin_t_min, sin_t_max, cos_t_min, cos_t_max]\n",
    "        \n",
    "    return time_dict\n"
   ]
  },
  {
   "cell_type": "code",
   "execution_count": 105,
   "metadata": {
    "collapsed": false
   },
   "outputs": [],
   "source": [
    "t_d = create_time_dict(4, np.max(m)/2, 2)"
   ]
  },
  {
   "cell_type": "code",
   "execution_count": 106,
   "metadata": {
    "collapsed": false
   },
   "outputs": [
    {
     "data": {
      "text/plain": [
       "{0: [3.1306843457648288,\n",
       "  3.1306843457648288,\n",
       "  6.2613686915296576,\n",
       "  6.2613686915296576,\n",
       "  3.1306843457648288,\n",
       "  3.1306843457648288,\n",
       "  6.2613686915296576,\n",
       "  6.2613686915296576],\n",
       " 1: [3.1306843457648288,\n",
       "  3.1306843457648288,\n",
       "  6.2613686915296576,\n",
       "  6.2613686915296576,\n",
       "  3.1306843457648288,\n",
       "  3.1306843457648288,\n",
       "  6.2613686915296576,\n",
       "  6.2613686915296576],\n",
       " 2: [3.1306843457648288,\n",
       "  3.1306843457648288,\n",
       "  6.2613686915296576,\n",
       "  6.2613686915296576,\n",
       "  3.1306843457648288,\n",
       "  3.1306843457648288,\n",
       "  6.2613686915296576,\n",
       "  6.2613686915296576],\n",
       " 3: [3.1306843457648288,\n",
       "  3.1306843457648288,\n",
       "  6.2613686915296576,\n",
       "  6.2613686915296576,\n",
       "  3.1306843457648288,\n",
       "  3.1306843457648288,\n",
       "  6.2613686915296576,\n",
       "  6.2613686915296576]}"
      ]
     },
     "execution_count": 106,
     "metadata": {},
     "output_type": "execute_result"
    }
   ],
   "source": [
    "t_d"
   ]
  },
  {
   "cell_type": "code",
   "execution_count": 102,
   "metadata": {
    "collapsed": false
   },
   "outputs": [],
   "source": [
    "m = minute = 2*np.pi*((data11[:, 4]//5)%288)/288"
   ]
  },
  {
   "cell_type": "code",
   "execution_count": 101,
   "metadata": {
    "collapsed": false
   },
   "outputs": [],
   "source": [
    "data11 = np.loadtxt(g.getGridFile(1 ,1), delimiter = ',')"
   ]
  },
  {
   "cell_type": "code",
   "execution_count": 103,
   "metadata": {
    "collapsed": false
   },
   "outputs": [
    {
     "data": {
      "text/plain": [
       "array([ 4.14515697,  6.06501915,  4.25424005, ...,  0.78539816,\n",
       "        0.56723201,  4.75602221])"
      ]
     },
     "execution_count": 103,
     "metadata": {},
     "output_type": "execute_result"
    }
   ],
   "source": [
    "m"
   ]
  },
  {
   "cell_type": "code",
   "execution_count": 104,
   "metadata": {
    "collapsed": false
   },
   "outputs": [
    {
     "data": {
      "text/plain": [
       "6.2613686915296576"
      ]
     },
     "execution_count": 104,
     "metadata": {},
     "output_type": "execute_result"
    }
   ],
   "source": [
    "np.max(m)"
   ]
  },
  {
   "cell_type": "code",
   "execution_count": null,
   "metadata": {
    "collapsed": true
   },
   "outputs": [],
   "source": []
  }
 ],
 "metadata": {
  "kernelspec": {
   "display_name": "Python 2",
   "language": "python",
   "name": "python2"
  },
  "language_info": {
   "codemirror_mode": {
    "name": "ipython",
    "version": 2
   },
   "file_extension": ".py",
   "mimetype": "text/x-python",
   "name": "python",
   "nbconvert_exporter": "python",
   "pygments_lexer": "ipython2",
   "version": "2.7.6"
  }
 },
 "nbformat": 4,
 "nbformat_minor": 0
}
