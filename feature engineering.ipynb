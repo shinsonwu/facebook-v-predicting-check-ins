{
 "cells": [
  {
   "cell_type": "code",
   "execution_count": 1,
   "metadata": {
    "collapsed": false
   },
   "outputs": [
    {
     "name": "stdout",
     "output_type": "stream",
     "text": [
      "/home/ubuntu/facebook/scripts\n"
     ]
    }
   ],
   "source": [
    "cd scripts/"
   ]
  },
  {
   "cell_type": "code",
   "execution_count": 3,
   "metadata": {
    "collapsed": true
   },
   "outputs": [],
   "source": [
    "import grid_generation as grid\n",
    "import numpy as np"
   ]
  },
  {
   "cell_type": "code",
   "execution_count": 18,
   "metadata": {
    "collapsed": false
   },
   "outputs": [],
   "source": [
    "g = grid.Grid(200, 50, 20, 5, pref = 'grid')"
   ]
  },
  {
   "cell_type": "code",
   "execution_count": 15,
   "metadata": {
    "collapsed": false
   },
   "outputs": [],
   "source": [
    "place_stats_dict = get_stat_dict(np.vstack(map(lambda f: load_data(f, (0, 1, 4, 5, 6)), place_file_names)))\n",
    "#place_stats_dict[place_id] = [count, a_median, x_median, y_median]\n",
    "\n",
    "time_dict = get_stat_dict(np.vstack(map(lambda f: load_data(f, (0, 1, 2, 3, 4, 5, 6, 7, 8)), time_file_names)))\n",
    "#time_dict[place_id] = [hour, hour_2, hour_3, hour_4, hour_6, hour_8, weekday, month]"
   ]
  },
  {
   "cell_type": "code",
   "execution_count": 16,
   "metadata": {
    "collapsed": false
   },
   "outputs": [],
   "source": []
  },
  {
   "cell_type": "code",
   "execution_count": 17,
   "metadata": {
    "collapsed": false
   },
   "outputs": [
    {
     "name": "stdout",
     "output_type": "stream",
     "text": [
      "108390\n",
      "108390\n"
     ]
    }
   ],
   "source": [
    "print len(place_stats_dict)\n",
    "print len(time_dict)"
   ]
  },
  {
   "cell_type": "code",
   "execution_count": 84,
   "metadata": {
    "collapsed": true
   },
   "outputs": [],
   "source": [
    "def get_stat_dict(matrix):\n",
    "    return dict(map(lambda x: [int(x[0]), x[1:]], matrix))\n",
    "\n",
    "def load_data_from_grid(m, n):\n",
    "    f = g.getGridFile(m, n)\n",
    "    return np.loadtxt(f, delimiter = ',')\n",
    "\n",
    "def get_time_stat(id):\n",
    "    if id in time_dict:\n",
    "        return time_dict[id]\n",
    "    else:\n",
    "        return [-999]*8\n",
    "\n",
    "def get_place_stat(id):\n",
    "    if id in place_stats_dict:\n",
    "        return place_stats_dict[id]\n",
    "    else:\n",
    "        return [-999]*4\n",
    "    \n",
    "submission_name = 'ec2_colsample_bytree0_6_scale_pos_weight1_min_child_weight6_subsample0_9_eta0_1_alpha0_005_max_depth3_gamma0_1_th3_'\n",
    "place_file_names = map(lambda x: '../split_train/' + str(x) + '_place', range(1, 23))\n",
    "time_file_names = map(lambda x: '../split_train/' + str(x) + '_time', range(1, 23))\n",
    "load_data = lambda file_name, use_cols: np.loadtxt(file_name, dtype = 'float', delimiter=',', skiprows=1, usecols = use_cols)"
   ]
  },
  {
   "cell_type": "code",
   "execution_count": 98,
   "metadata": {
    "collapsed": false
   },
   "outputs": [],
   "source": [
    "\n",
    "        \n",
    "def get_features_from_ids(xyat, ids):\n",
    "    return np.concatenate(map(lambda id: get_feature_from_id(xyat, id), ids))\n",
    "    \n",
    "def get_feature_from_id(xyat, id):\n",
    "    f = get_time_stat(id)\n",
    "    p = get_place_stat(id)\n",
    "    abd = abs_dt(xyat[:2], p[-2:])\n",
    "    return np.hstack((f, p, abd))\n",
    "    \n",
    "def abs_dt(p1, p2):\n",
    "    return np.abs(p1[0] - p2[0]) + np.abs(p1[1] - p2[1]) \n",
    "\n",
    "def get_top_places_file(m, n):\n",
    "    return g.getFolder()[:-1] + '_' + submission_name + '/' + '_'.join(['top_t_preds', str(m), str(n)]) + '.csv'\n",
    "\n",
    "data = load_data_from_grid(0, 0)\n",
    "top_t_data = np.loadtxt(get_top_places_file(0, 0), delimiter = ',', dtype = int)\n",
    "\n",
    "data_dict = get_stat_dict(data)\n",
    "top_t_dict = get_stat_dict(top_t_data)\n",
    "\n",
    "features = {}\n",
    "for i in data_dict.keys():\n",
    "    if i in top_t_dict:\n",
    "        features[i] = get_features_from_ids(data_dict[i], top_t_dict[i])\n",
    "    else:\n",
    "        features[i] = np.array([-999]*130)\n",
    "\n",
    "feature_items = sorted(features.items(), cmp = lambda x, y: cmp(x[0], y[0]))\n",
    "feature_data = np.array(map(lambda row: np.hstack(([row[0]], row[1])), feature_items))"
   ]
  },
  {
   "cell_type": "code",
   "execution_count": 125,
   "metadata": {
    "collapsed": false
   },
   "outputs": [],
   "source": [
    "import itertools\n",
    "from multiprocessing import Pool\n",
    "import numpy as np\n",
    "#Import libraries:\n",
    "import pandas as pd\n",
    "import numpy as np\n",
    "from sklearn.ensemble import GradientBoostingClassifier  #GBM algorithm\n",
    "from sklearn import cross_validation, metrics   #Additional scklearn functions\n",
    "from sklearn.grid_search import GridSearchCV   #Perforing grid search\n",
    "\n",
    "import matplotlib.pylab as plt\n",
    "from matplotlib.pylab import rcParams\n",
    "rcParams['figure.figsize'] = 12, 4\n",
    "%matplotlib inline\n",
    "from sklearn.cross_validation import train_test_split\n",
    "import pickle\n",
    "\n",
    "from sklearn.preprocessing import LabelEncoder\n",
    "\n",
    "import xgboost as xgb\n",
    "\n",
    "import traceback\n",
    "import grid_generation as grid"
   ]
  },
  {
   "cell_type": "code",
   "execution_count": 99,
   "metadata": {
    "collapsed": false
   },
   "outputs": [],
   "source": [
    "def transform_x(X, x_transformer = None):\n",
    "    \"\"\"\n",
    "    X = [[x, y, a, t]]\n",
    "    \"\"\"\n",
    "    fw = [500., 1000., 4., 3., 2., 10., 10.]\n",
    "    minute_v = X[:, 3]%60\n",
    "    hour_v = X[:, 3]//60\n",
    "    weekday_v = hour_v//24\n",
    "    month_v = weekday_v//30\n",
    "    year_v = (weekday_v//365 + 1)*fw[5]\n",
    "    hour_v = ((hour_v%24 + 1) + minute_v/60.0)*fw[2]\n",
    "    hour_v_2 = (X[:, 3]%(60*60*24))//(60*60*2)\n",
    "    hour_v_3 = (X[:, 3]%(60*60*24))//(60*60*3)\n",
    "    hour_v_4 = (X[:, 3]%(60*60*24))//(60*60*4)\n",
    "    hour_v_6 = (X[:, 3]%(60*60*24))//(60*60*6)\n",
    "    hour_v_8 = (X[:, 3]%(60*60*24))//(60*60*8)\n",
    "    weekday_v = (weekday_v%7 + 1)*fw[3]\n",
    "    month_v = (month_v%12 +1)*fw[4]\n",
    "    accuracy_v = np.log10(X[:, 2])*fw[6]\n",
    "    x_v = X[:, 0]*fw[0]\n",
    "    y_v = X[:, 1]*fw[1]\n",
    "    return np.hstack((x_v.reshape(-1, 1),\n",
    "                     y_v.reshape(-1, 1),\n",
    "                     accuracy_v.reshape(-1, 1),\n",
    "                     hour_v.reshape(-1, 1),\n",
    "                     hour_v_2.reshape(-1, 1),\n",
    "                     hour_v_3.reshape(-1, 1),\n",
    "                     hour_v_4.reshape(-1, 1),\n",
    "                     hour_v_6.reshape(-1, 1),\n",
    "                     hour_v_8.reshape(-1, 1),\n",
    "                     weekday_v.reshape(-1, 1),\n",
    "                     month_v.reshape(-1, 1),\n",
    "                     year_v.reshape(-1, 1)))\n",
    "\n",
    "def transform_y(y, y_transformer = None):\n",
    "    \"\"\"\n",
    "    place_ids to encoded array\n",
    "    \"\"\"\n",
    "    y = y.astype(int)\n",
    "    if y_transformer == None:\n",
    "        label_encoder = LabelEncoder()\n",
    "        label_encoder.fit(y)\n",
    "        y_transformer = {'encoder': label_encoder}\n",
    "    new_y = y_transformer['encoder'].transform(y).reshape(-1, 1)\n",
    "    return (new_y, y_transformer)\n",
    "\n",
    "def map3eval(preds, dtrain):\n",
    "    actual = dtrain.get_label()\n",
    "    predicted = preds.argsort(axis=1)[:,-np.arange(1,4)]\n",
    "    metric = 0.\n",
    "    for i in range(3):\n",
    "        metric += np.sum(actual==predicted[:,i])/(i+1)\n",
    "    metric /= actual.shape[0]\n",
    "    return 'MAP@3', metric"
   ]
  },
  {
   "cell_type": "code",
   "execution_count": 100,
   "metadata": {
    "collapsed": false
   },
   "outputs": [],
   "source": [
    "g.generateCardinalityMatrix()"
   ]
  },
  {
   "cell_type": "code",
   "execution_count": 93,
   "metadata": {
    "collapsed": false
   },
   "outputs": [
    {
     "name": "stdout",
     "output_type": "stream",
     "text": [
      "file doesnt exists\n"
     ]
    }
   ],
   "source": [
    "try:\n",
    "    d = np.loadtxt('random')\n",
    "except IOError:\n",
    "    print \"file doesnt exists\"\n",
    "    d = np.array([])"
   ]
  },
  {
   "cell_type": "code",
   "execution_count": 109,
   "metadata": {
    "collapsed": false
   },
   "outputs": [],
   "source": [
    "\n",
    "mask = np.array(map(lambda x: g.M[0][0][x] > 3, data[:, 5]))\n",
    "train = data[mask, :]\n",
    "masked_feat = feature_data[mask, :]"
   ]
  },
  {
   "cell_type": "code",
   "execution_count": 104,
   "metadata": {
    "collapsed": false
   },
   "outputs": [],
   "source": [
    "X = transform_x(train[:, (1, 2, 3, 4)])\n",
    "y, enc = transform_y(train[:, 5])"
   ]
  },
  {
   "cell_type": "code",
   "execution_count": 110,
   "metadata": {
    "collapsed": false
   },
   "outputs": [],
   "source": [
    "tX = np.hstack((X, masked_feat[:, 1:]))"
   ]
  },
  {
   "cell_type": "code",
   "execution_count": 106,
   "metadata": {
    "collapsed": false
   },
   "outputs": [
    {
     "data": {
      "text/plain": [
       "(2645, 12)"
      ]
     },
     "execution_count": 106,
     "metadata": {},
     "output_type": "execute_result"
    }
   ],
   "source": [
    "X.shape"
   ]
  },
  {
   "cell_type": "code",
   "execution_count": 111,
   "metadata": {
    "collapsed": false
   },
   "outputs": [
    {
     "data": {
      "text/plain": [
       "(2645, 142)"
      ]
     },
     "execution_count": 111,
     "metadata": {},
     "output_type": "execute_result"
    }
   ],
   "source": [
    "tX.shape"
   ]
  },
  {
   "cell_type": "code",
   "execution_count": 114,
   "metadata": {
    "collapsed": false
   },
   "outputs": [],
   "source": [
    "dtrain = xgb.DMatrix(tX, label=np.ravel(y))"
   ]
  },
  {
   "cell_type": "code",
   "execution_count": 116,
   "metadata": {
    "collapsed": true
   },
   "outputs": [],
   "source": [
    "orig_params = {\n",
    "    'num_class': len(enc['encoder'].classes_),\n",
    "            'silent': 0,\n",
    "            'nthread': 8,\n",
    "            'eta': 0.1,\n",
    "            'objective': 'multi:softprob',\n",
    "            'max_depth': 8,\n",
    "            'min_child_weight': 5,\n",
    "            'gamma': 0.32,\n",
    "            'subsample': 0.9,\n",
    "            'colsample_bytree': 0.7,\n",
    "            'scale_pos_weight': 1\n",
    "            }"
   ]
  },
  {
   "cell_type": "code",
   "execution_count": 123,
   "metadata": {
    "collapsed": false
   },
   "outputs": [
    {
     "name": "stdout",
     "output_type": "stream",
     "text": [
      "[0]\ttrain-MAP@3:0.824575\n",
      "[1]\ttrain-MAP@3:0.854442\n",
      "[2]\ttrain-MAP@3:0.883932\n",
      "[3]\ttrain-MAP@3:0.889603\n",
      "[4]\ttrain-MAP@3:0.897543\n",
      "[5]\ttrain-MAP@3:0.898299\n",
      "[6]\ttrain-MAP@3:0.903214\n",
      "[7]\ttrain-MAP@3:0.904348\n",
      "[8]\ttrain-MAP@3:0.908507\n",
      "[9]\ttrain-MAP@3:0.911531\n",
      "[10]\ttrain-MAP@3:0.914178\n",
      "[11]\ttrain-MAP@3:0.91569\n",
      "[12]\ttrain-MAP@3:0.916824\n",
      "[13]\ttrain-MAP@3:0.91758\n",
      "[14]\ttrain-MAP@3:0.918336\n",
      "[15]\ttrain-MAP@3:0.919471\n",
      "[16]\ttrain-MAP@3:0.920983\n",
      "[17]\ttrain-MAP@3:0.921739\n",
      "[18]\ttrain-MAP@3:0.922873\n",
      "[19]\ttrain-MAP@3:0.923629\n",
      "[20]\ttrain-MAP@3:0.924764\n",
      "[21]\ttrain-MAP@3:0.925898\n",
      "[22]\ttrain-MAP@3:0.925898\n",
      "[23]\ttrain-MAP@3:0.926276\n",
      "[24]\ttrain-MAP@3:0.926654\n",
      "[25]\ttrain-MAP@3:0.927032\n",
      "[26]\ttrain-MAP@3:0.927788\n",
      "[27]\ttrain-MAP@3:0.927788\n",
      "[28]\ttrain-MAP@3:0.928544\n",
      "[29]\ttrain-MAP@3:0.929301\n"
     ]
    }
   ],
   "source": [
    "bst = xgb.train(orig_params, dtrain, 30, feval = map3eval, evals = [(dtrain, 'train')],verbose_eval = True)"
   ]
  },
  {
   "cell_type": "code",
   "execution_count": 130,
   "metadata": {
    "collapsed": true
   },
   "outputs": [],
   "source": [
    "dtrain1 = xgb.DMatrix(X, label = np.ravel(y))"
   ]
  },
  {
   "cell_type": "code",
   "execution_count": 132,
   "metadata": {
    "collapsed": false
   },
   "outputs": [
    {
     "name": "stdout",
     "output_type": "stream",
     "text": [
      "[0]\ttrain-MAP@3:0.589414\n",
      "[1]\ttrain-MAP@3:0.663138\n",
      "[2]\ttrain-MAP@3:0.713422\n",
      "[3]\ttrain-MAP@3:0.731191\n",
      "[4]\ttrain-MAP@3:0.750473\n",
      "[5]\ttrain-MAP@3:0.765595\n",
      "[6]\ttrain-MAP@3:0.77656\n",
      "[7]\ttrain-MAP@3:0.781853\n",
      "[8]\ttrain-MAP@3:0.787146\n",
      "[9]\ttrain-MAP@3:0.796597\n",
      "[10]\ttrain-MAP@3:0.802268\n",
      "[11]\ttrain-MAP@3:0.80794\n",
      "[12]\ttrain-MAP@3:0.813611\n",
      "[13]\ttrain-MAP@3:0.818904\n",
      "[14]\ttrain-MAP@3:0.824197\n",
      "[15]\ttrain-MAP@3:0.827977\n",
      "[16]\ttrain-MAP@3:0.830246\n",
      "[17]\ttrain-MAP@3:0.834405\n",
      "[18]\ttrain-MAP@3:0.835917\n",
      "[19]\ttrain-MAP@3:0.839319\n",
      "[20]\ttrain-MAP@3:0.840832\n",
      "[21]\ttrain-MAP@3:0.845369\n",
      "[22]\ttrain-MAP@3:0.849149\n",
      "[23]\ttrain-MAP@3:0.853686\n",
      "[24]\ttrain-MAP@3:0.855577\n",
      "[25]\ttrain-MAP@3:0.858979\n",
      "[26]\ttrain-MAP@3:0.859735\n",
      "[27]\ttrain-MAP@3:0.86276\n",
      "[28]\ttrain-MAP@3:0.865028\n",
      "[29]\ttrain-MAP@3:0.868053\n"
     ]
    }
   ],
   "source": [
    "bst = xgb.train(orig_params, dtrain1, 30, feval = map3eval, evals = [(dtrain1, 'train')],verbose_eval = True)"
   ]
  },
  {
   "cell_type": "code",
   "execution_count": 133,
   "metadata": {
    "collapsed": false
   },
   "outputs": [
    {
     "name": "stdout",
     "output_type": "stream",
     "text": [
      "[0]\ttrain-MAP@3:0.767499+0.00764725\ttest-MAP@3:0.755959+0.0149151\n",
      "[1]\ttrain-MAP@3:0.816875+0.00335238\ttest-MAP@3:0.802497+0.0145654\n",
      "[2]\ttrain-MAP@3:0.85036+0.00965743\ttest-MAP@3:0.836171+0.017396\n",
      "[3]\ttrain-MAP@3:0.874574+0.00379283\ttest-MAP@3:0.859629+0.0153501\n",
      "[4]\ttrain-MAP@3:0.879493+0.00701751\ttest-MAP@3:0.864926+0.0106883\n",
      "[5]\ttrain-MAP@3:0.88933+0.00490422\ttest-MAP@3:0.875899+0.0117352\n",
      "[6]\ttrain-MAP@3:0.892736+0.0044204\ttest-MAP@3:0.880817+0.0109267\n",
      "[7]\ttrain-MAP@3:0.895384+0.00491127\ttest-MAP@3:0.881952+0.010025\n",
      "[8]\ttrain-MAP@3:0.897465+0.00512539\ttest-MAP@3:0.884601+0.00861117\n",
      "[9]\ttrain-MAP@3:0.899357+0.00566282\ttest-MAP@3:0.885358+0.00823736\n"
     ]
    }
   ],
   "source": [
    "cv1 = xgb.cv({'num_class': len(enc['encoder'].classes_),\n",
    "                 'silent': 1,\n",
    "            'nthread': 8,\n",
    "            'eta': 0.1,\n",
    "            'objective': 'multi:softprob',\n",
    "            'max_depth': 8,\n",
    "            'min_child_weight': 5,\n",
    "            'gamma': 0.32,\n",
    "            'subsample': 0.9,\n",
    "            'colsample_bytree': 0.7,\n",
    "            'scale_pos_weight': 1}, \n",
    "                dtrain, \n",
    "                feval = map3eval, maximize = True, verbose_eval = True\n",
    "        )"
   ]
  },
  {
   "cell_type": "code",
   "execution_count": 134,
   "metadata": {
    "collapsed": false
   },
   "outputs": [
    {
     "name": "stdout",
     "output_type": "stream",
     "text": [
      "[0]\ttrain-MAP@3:0.59667+0.00440458\ttest-MAP@3:0.548997+0.0126506\n",
      "[1]\ttrain-MAP@3:0.653424+0.0126086\ttest-MAP@3:0.605751+0.012651\n",
      "[2]\ttrain-MAP@3:0.689557+0.00656983\ttest-MAP@3:0.645479+0.00928344\n",
      "[3]\ttrain-MAP@3:0.714151+0.00420484\ttest-MAP@3:0.660613+0.00884119\n",
      "[4]\ttrain-MAP@3:0.730799+0.00301503\ttest-MAP@3:0.674612+0.00788209\n",
      "[5]\ttrain-MAP@3:0.743473+0.00349852\ttest-MAP@3:0.681801+0.00417922\n",
      "[6]\ttrain-MAP@3:0.752175+0.00263495\ttest-MAP@3:0.686719+0.00893746\n",
      "[7]\ttrain-MAP@3:0.76031+0.0020896\ttest-MAP@3:0.692395+0.00723841\n",
      "[8]\ttrain-MAP@3:0.770337+0.00279342\ttest-MAP@3:0.701097+0.00475603\n",
      "[9]\ttrain-MAP@3:0.779418+0.00192913\ttest-MAP@3:0.707529+0.005104\n"
     ]
    }
   ],
   "source": [
    "cv2 = xgb.cv({'num_class': len(enc['encoder'].classes_),\n",
    "                 'silent': 1,\n",
    "            'nthread': 8,\n",
    "            'eta': 0.1,\n",
    "            'objective': 'multi:softprob',\n",
    "            'max_depth': 8,\n",
    "            'min_child_weight': 5,\n",
    "            'gamma': 0.32,\n",
    "            'subsample': 0.9,\n",
    "            'colsample_bytree': 0.7,\n",
    "            'scale_pos_weight': 1}, \n",
    "                dtrain1, \n",
    "                feval = map3eval, maximize = True, verbose_eval = True\n",
    "        )"
   ]
  },
  {
   "cell_type": "code",
   "execution_count": 129,
   "metadata": {
    "collapsed": false
   },
   "outputs": [
    {
     "data": {
      "text/plain": [
       "[('f24', 172),\n",
       " ('f23', 166),\n",
       " ('f12', 161),\n",
       " ('f20', 160),\n",
       " ('f22', 159),\n",
       " ('f0', 149),\n",
       " ('f1', 146),\n",
       " ('f36', 126),\n",
       " ('f3', 107),\n",
       " ('f35', 106),\n",
       " ('f37', 101),\n",
       " ('f25', 100),\n",
       " ('f33', 100),\n",
       " ('f76', 92),\n",
       " ('f2', 85),\n",
       " ('f63', 84),\n",
       " ('f21', 81),\n",
       " ('f50', 80),\n",
       " ('f19', 69),\n",
       " ('f34', 66),\n",
       " ('f128', 65),\n",
       " ('f112', 63),\n",
       " ('f13', 63),\n",
       " ('f89', 59),\n",
       " ('f14', 57),\n",
       " ('f88', 54),\n",
       " ('f47', 48),\n",
       " ('f102', 47),\n",
       " ('f140', 47),\n",
       " ('f32', 44),\n",
       " ('f111', 43),\n",
       " ('f115', 40),\n",
       " ('f124', 40),\n",
       " ('f62', 40),\n",
       " ('f141', 38),\n",
       " ('f64', 38),\n",
       " ('f138', 35),\n",
       " ('f77', 35),\n",
       " ('f116', 34),\n",
       " ('f114', 33),\n",
       " ('f51', 33),\n",
       " ('f26', 33),\n",
       " ('f75', 33),\n",
       " ('f38', 32),\n",
       " ('f10', 32),\n",
       " ('f48', 31),\n",
       " ('f113', 31),\n",
       " ('f100', 30),\n",
       " ('f60', 30),\n",
       " ('f49', 29),\n",
       " ('f127', 28),\n",
       " ('f129', 28),\n",
       " ('f9', 28),\n",
       " ('f66', 28),\n",
       " ('f72', 28),\n",
       " ('f59', 27),\n",
       " ('f98', 27),\n",
       " ('f103', 26),\n",
       " ('f139', 25),\n",
       " ('f137', 25),\n",
       " ('f27', 24),\n",
       " ('f99', 24),\n",
       " ('f11', 24),\n",
       " ('f86', 23),\n",
       " ('f45', 22),\n",
       " ('f46', 22),\n",
       " ('f109', 22),\n",
       " ('f101', 22),\n",
       " ('f85', 22),\n",
       " ('f18', 22),\n",
       " ('f74', 22),\n",
       " ('f73', 22),\n",
       " ('f84', 20),\n",
       " ('f125', 18),\n",
       " ('f15', 18),\n",
       " ('f4', 17),\n",
       " ('f136', 16),\n",
       " ('f71', 16),\n",
       " ('f104', 15),\n",
       " ('f126', 15),\n",
       " ('f31', 14),\n",
       " ('f39', 14),\n",
       " ('f87', 14),\n",
       " ('f44', 11),\n",
       " ('f52', 11),\n",
       " ('f90', 11),\n",
       " ('f61', 11),\n",
       " ('f57', 9),\n",
       " ('f91', 9),\n",
       " ('f110', 8),\n",
       " ('f130', 8),\n",
       " ('f53', 7),\n",
       " ('f58', 7),\n",
       " ('f83', 6),\n",
       " ('f117', 5),\n",
       " ('f28', 5),\n",
       " ('f96', 5),\n",
       " ('f65', 5),\n",
       " ('f78', 5),\n",
       " ('f70', 5),\n",
       " ('f135', 4),\n",
       " ('f122', 4),\n",
       " ('f92', 4),\n",
       " ('f5', 4),\n",
       " ('f40', 3),\n",
       " ('f105', 3),\n",
       " ('f131', 3),\n",
       " ('f17', 3),\n",
       " ('f121', 2),\n",
       " ('f123', 2),\n",
       " ('f97', 2),\n",
       " ('f16', 2),\n",
       " ('f41', 1),\n",
       " ('f118', 1),\n",
       " ('f119', 1),\n",
       " ('f106', 1),\n",
       " ('f132', 1),\n",
       " ('f80', 1),\n",
       " ('f6', 1),\n",
       " ('f67', 1),\n",
       " ('f79', 1)]"
      ]
     },
     "execution_count": 129,
     "metadata": {},
     "output_type": "execute_result"
    }
   ],
   "source": [
    "sorted(fs.items(), cmp = lambda x, y: cmp(x[1], y[1]), reverse = True)"
   ]
  },
  {
   "cell_type": "code",
   "execution_count": 144,
   "metadata": {
    "collapsed": true
   },
   "outputs": [],
   "source": [
    "sX = X[:100, :]\n",
    "xY = y[:100]\n",
    "strain = xgb.DMatrix(sX, label = np.ravel(xY))"
   ]
  },
  {
   "cell_type": "code",
   "execution_count": 136,
   "metadata": {
    "collapsed": true
   },
   "outputs": [],
   "source": []
  },
  {
   "cell_type": "code",
   "execution_count": 145,
   "metadata": {
    "collapsed": false
   },
   "outputs": [
    {
     "name": "stdout",
     "output_type": "stream",
     "text": [
      "[0]\ttrain-MAP@3:0\n",
      "[1]\ttrain-MAP@3:0\n",
      "[2]\ttrain-MAP@3:0\n",
      "[3]\ttrain-MAP@3:0\n",
      "[4]\ttrain-MAP@3:0\n",
      "[5]\ttrain-MAP@3:0\n",
      "[6]\ttrain-MAP@3:0\n",
      "[7]\ttrain-MAP@3:0\n",
      "[8]\ttrain-MAP@3:0\n",
      "[9]\ttrain-MAP@3:0\n",
      "[10]\ttrain-MAP@3:0\n",
      "[11]\ttrain-MAP@3:0\n",
      "[12]\ttrain-MAP@3:0\n",
      "[13]\ttrain-MAP@3:0\n",
      "[14]\ttrain-MAP@3:0\n",
      "[15]\ttrain-MAP@3:0\n",
      "[16]\ttrain-MAP@3:0\n",
      "[17]\ttrain-MAP@3:0\n",
      "[18]\ttrain-MAP@3:0\n",
      "[19]\ttrain-MAP@3:0\n",
      "[20]\ttrain-MAP@3:0\n",
      "[21]\ttrain-MAP@3:0\n",
      "[22]\ttrain-MAP@3:0\n",
      "[23]\ttrain-MAP@3:0\n",
      "[24]\ttrain-MAP@3:0\n",
      "[25]\ttrain-MAP@3:0\n",
      "[26]\ttrain-MAP@3:0\n",
      "[27]\ttrain-MAP@3:0\n",
      "[28]\ttrain-MAP@3:0\n",
      "[29]\ttrain-MAP@3:0\n"
     ]
    }
   ],
   "source": [
    "bst = xgb.train(orig_params, strain, 30, feval = map3eval, evals = [(strain, 'train')],verbose_eval = True)"
   ]
  },
  {
   "cell_type": "code",
   "execution_count": null,
   "metadata": {
    "collapsed": true
   },
   "outputs": [],
   "source": []
  }
 ],
 "metadata": {
  "kernelspec": {
   "display_name": "Python 2",
   "language": "python",
   "name": "python2"
  },
  "language_info": {
   "codemirror_mode": {
    "name": "ipython",
    "version": 2
   },
   "file_extension": ".py",
   "mimetype": "text/x-python",
   "name": "python",
   "nbconvert_exporter": "python",
   "pygments_lexer": "ipython2",
   "version": "2.7.6"
  }
 },
 "nbformat": 4,
 "nbformat_minor": 0
}
