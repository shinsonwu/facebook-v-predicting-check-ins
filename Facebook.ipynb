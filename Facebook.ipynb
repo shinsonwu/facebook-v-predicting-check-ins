{
 "cells": [
  {
   "cell_type": "markdown",
   "metadata": {},
   "source": [
    "# Facebook Kaggle Competition\n",
    "\n",
    "## Problem Statement\n",
    "    The goal of this competition is to predict which place a person would like to check in to. For the purposes of this competition, Facebook created an artificial world consisting of more than 100,000 places located in a 10 km by 10 km square. For a given set of coordinates, your task is to return a ranked list of the most likely places. Data was fabricated to resemble location signals coming from mobile devices, giving you a flavor of what it takes to work with real data complicated by inaccurate and noisy values. Inconsistent and erroneous location data can disrupt experience for services like Facebook Check In.\n",
    "\n",
    "## Data\n",
    "    x, y co-ordinates\n",
    "    accuracy\n",
    "    timestamp\n",
    "    business_id -> to be predicted for the given test data..\n",
    "    \n",
    "    Ex:\n",
    "    ```\n",
    "      > head train.csv\n",
    "        row_id,x,y,accuracy,time,place_id\n",
    "        0,0.7941,9.0809,54,470702,8523065625\n",
    "        1,5.9567,4.7968,13,186555,1757726713\n",
    "        2,8.3078,7.0407,74,322648,1137537235\n",
    "        3,7.3665,2.5165,65,704587,6567393236\n",
    "        4,4.0961,1.1307,31,472130,7440663949\n",
    "        5,3.8099,1.9586,75,178065,6289802927\n",
    "        6,6.3336,4.3720,13,666829,9931249544\n",
    "        7,5.7409,6.7697,85,369002,5662813655\n",
    "        8,4.3114,6.9410,3,166384,8471780938\n",
    "        9,6.3414,0.0758,65,400060,1253803156\n",
    "     \n",
    "        \n",
    "      > head test.csv\n",
    "        row_id,x,y,accuracy,time\n",
    "        0,0.1675,1.3608,107,930883\n",
    "        1,7.3909,2.5301,35,893017\n",
    "        2,8.0978,2.3473,62,976933\n",
    "        3,0.999,1.0591,62,907285\n",
    "        4,0.667,9.7254,40,914399\n",
    "        5,0.1771,0.0022,161,814077\n",
    "        6,5.5299,4.6581,2,930759\n",
    "        7,8.6021,3.1744,4,862115\n",
    "        8,4.225,6.3435,162,787391\n",
    "        9,0.6489,6.2611,39,793166\n",
    "        \n",
    "        \n",
    "      > head sample_submission.csv\n",
    "        row_id,place_id\n",
    "        0,3073560757 9004412889 5652080691\n",
    "        1,1652178628 4379515211 6612350960\n",
    "        2,4894407065 3920195083 7608574746\n",
    "        3,7272466660 2004687925 1455486822\n",
    "        4,4720452725 4967325204 4782917866\n",
    "        5,1283939222 8208358948 2070306016\n",
    "        6,6021764482 7803008413 1644190109\n",
    "        7,7202788043 1649564607 2246348076\n",
    "        8,8296155994 3181135659 6931700594\n",
    "        \n",
    "    ```\n",
    "## Evaluation\n",
    "    Evaluated based on Mean Average Precision MAP@3, you need submit for each entry\n",
    "    three place id's in ranked order"
   ]
  },
  {
   "cell_type": "code",
   "execution_count": 1,
   "metadata": {
    "collapsed": false
   },
   "outputs": [
    {
     "name": "stdout",
     "output_type": "stream",
     "text": [
      "0.333333333333\n"
     ]
    }
   ],
   "source": [
    "%matplotlib inline\n",
    "\n",
    "################## mean average precision for a single row #################\n",
    "import numpy as np\n",
    "\n",
    "def apk(actual, predicted, k=3):\n",
    "    \"\"\"\n",
    "    Computes the average precision at k.\n",
    "    This function computes the average prescision at k between two lists of\n",
    "    items.\n",
    "    Parameters\n",
    "    ----------\n",
    "    actual : list\n",
    "             A list of elements that are to be predicted (order doesn't matter)\n",
    "    predicted : list\n",
    "                A list of predicted elements (order does matter)\n",
    "    k : int, optional\n",
    "        The maximum number of predicted elements\n",
    "    Returns\n",
    "    -------\n",
    "    score : double\n",
    "            The average precision at k over the input lists\n",
    "    \"\"\"\n",
    "    if len(predicted)>k:\n",
    "        predicted = predicted[:k]\n",
    "\n",
    "    score = 0.0\n",
    "    num_hits = 0.0\n",
    "\n",
    "    for i,p in enumerate(predicted):\n",
    "        if p in actual and p not in predicted[:i]:\n",
    "            num_hits += 1.0\n",
    "            score += num_hits / (i+1.0)\n",
    "\n",
    "    if not actual:\n",
    "        return 0.0\n",
    "\n",
    "    return score / min(len(actual), k)\n",
    "\n",
    "print apk(['a','b','c'], ['a','d','e'], k = 4)\n"
   ]
  },
  {
   "cell_type": "code",
   "execution_count": 24,
   "metadata": {
    "collapsed": false
   },
   "outputs": [
    {
     "data": {
      "text/plain": [
       "0.5555555555555555"
      ]
     },
     "execution_count": 24,
     "metadata": {},
     "output_type": "execute_result"
    }
   ],
   "source": [
    "(1.0 + (2.0/3))/3"
   ]
  },
  {
   "cell_type": "markdown",
   "metadata": {
    "collapsed": true
   },
   "source": [
    "```\n",
    "[2016-06-12 23:49] anil at pan in ~/Code/facebook on master [!]\n",
    "$ grep -e '^\\d*,\\d* \\d* \\d*$' submission_nearest_place_mean_sqrt_0.02.csv | wc -l\n",
    " 2586321\n",
    "[2016-06-12 23:50] anil at pan in ~/Code/facebook on master [!]\n",
    "$ grep -e '^\\d*,\\d* \\d*$' submission_nearest_place_mean_sqrt_0.02.csv | wc -l\n",
    " 2301563\n",
    "[2016-06-12 23:50] anil at pan in ~/Code/facebook on master [!]\n",
    "$ grep -e '^\\d*,\\d*$' submission_nearest_place_mean_sqrt_0.02.csv | wc -l\n",
    " 3719346\n",
    "[2016-06-12 23:51] anil at pan in ~/Code/facebook on master [!]\n",
    "$ grep -e '^\\d*,$' submission_nearest_place_mean_sqrt_0.02.csv | wc -l\n",
    " 1324166\n",
    "[2016-06-12 23:51] anil at pan in ~/Code/facebook on master [!]\n",
    "$ grep -e '^\\d*,\\d* \\d* \\d*$' submission_nearest_place_median_sqrt_0.02.csv | wc -l\n",
    " 3176144\n",
    "[2016-06-12 23:52] anil at pan in ~/Code/facebook on master [!]\n",
    "$ grep -e '^\\d*,\\d* \\d*$' submission_nearest_place_median_sqrt_0.02.csv | wc -l\n",
    " 2443906\n",
    "[2016-06-12 23:52] anil at pan in ~/Code/facebook on master [!]\n",
    "$ grep -e '^\\d*,\\d*$' submission_nearest_place_median_sqrt_0.02.csv | wc -l\n",
    " 2987180\n",
    "[2016-06-12 23:53] anil at pan in ~/Code/facebook on master [!]\n",
    "$ grep -e '^\\d*,$' submission_nearest_place_median_sqrt_0.02.csv | wc -l\n",
    "  846385\n",
    "```\n",
    "```\n",
    "[2016-06-13 03:14] anil at pan in ~/Code/facebook on master [!]\n",
    "$ grep -e '^\\d*,\\d* \\d* \\d*$' submission_nearest_place_mean_sqrt_0.08.csv | wc -l\n",
    " 8589810\n",
    "[2016-06-13 03:15] anil at pan in ~/Code/facebook on master [!]\n",
    "$ grep -e '^\\d*,\\d* \\d*$' submission_nearest_place_mean_sqrt_0.08.csv | wc -l\n",
    "    9772\n",
    "[2016-06-13 03:15] anil at pan in ~/Code/facebook on master [!]\n",
    "$ grep -e '^\\d*,\\d*$' submission_nearest_place_mean_sqrt_0.08.csv | wc -l\n",
    "    7648\n",
    "[2016-06-13 03:16] anil at pan in ~/Code/facebook on master [!]\n",
    "$ grep -e '^\\d*,$' submission_nearest_place_mean_sqrt_0.08.csv | wc -l\n",
    "    1586\n",
    "[2016-06-13 03:16] anil at pan in ~/Code/facebook on master [!]\n",
    "```"
   ]
  },
  {
   "cell_type": "code",
   "execution_count": 1,
   "metadata": {
    "collapsed": false
   },
   "outputs": [
    {
     "data": {
      "image/png": "[encoded data removed]",
      "text/plain": [
       "<matplotlib.figure.Figure at 0x10f88ae90>"
      ]
     },
     "metadata": {},
     "output_type": "display_data"
    }
   ],
   "source": [
    "%matplotlib inline\n",
    "\n",
    "# Leaderboard histogram on 13th June\n",
    "# Target MAP@3 scores, 0.457-0.467, 0.506-0.517, 0.568-0.578\n",
    "import matplotlib.pyplot as plt\n",
    "\n",
    "f = open('histogram_leaderboard.txt', 'rb')\n",
    "x = []\n",
    "while True:\n",
    "    try:\n",
    "        x.append(float(f.next().strip()))\n",
    "    except:\n",
    "        break\n",
    "\n",
    "n, bins, patches = plt.hist(x, 50, normed = 1, facecolor = 'green', alpha = 0.75)\n",
    "plt.show()"
   ]
  },
  {
   "cell_type": "code",
   "execution_count": 4,
   "metadata": {
    "collapsed": false
   },
   "outputs": [
    {
     "data": {
      "image/png": "[encoded data removed]",
      "text/plain": [
       "<matplotlib.figure.Figure at 0x10fb850d0>"
      ]
     },
     "metadata": {},
     "output_type": "display_data"
    }
   ],
   "source": [
    "from scripts import helpers\n",
    "\n",
    "helpers.plot_train_data('places/1623394281_2.csv')"
   ]
  },
  {
   "cell_type": "code",
   "execution_count": 5,
   "metadata": {
    "collapsed": true
   },
   "outputs": [],
   "source": [
    "import numpy as np"
   ]
  },
  {
   "cell_type": "code",
   "execution_count": 6,
   "metadata": {
    "collapsed": true
   },
   "outputs": [],
   "source": [
    "np.ravel?"
   ]
  },
  {
   "cell_type": "code",
   "execution_count": 7,
   "metadata": {
    "collapsed": false
   },
   "outputs": [
    {
     "data": {
      "text/plain": [
       "array([1, 2, 3])"
      ]
     },
     "execution_count": 7,
     "metadata": {},
     "output_type": "execute_result"
    }
   ],
   "source": [
    "np.ravel([1,2,3])"
   ]
  },
  {
   "cell_type": "code",
   "execution_count": 8,
   "metadata": {
    "collapsed": true
   },
   "outputs": [],
   "source": [
    "a = np.ravel([1,2,3], [2,3,4])"
   ]
  },
  {
   "cell_type": "code",
   "execution_count": 9,
   "metadata": {
    "collapsed": false
   },
   "outputs": [
    {
     "data": {
      "text/plain": [
       "array([1, 2, 3])"
      ]
     },
     "execution_count": 9,
     "metadata": {},
     "output_type": "execute_result"
    }
   ],
   "source": [
    "a"
   ]
  },
  {
   "cell_type": "code",
   "execution_count": null,
   "metadata": {
    "collapsed": true
   },
   "outputs": [],
   "source": []
  }
 ],
 "metadata": {
  "kernelspec": {
   "display_name": "Python 2",
   "language": "python",
   "name": "python2"
  },
  "language_info": {
   "codemirror_mode": {
    "name": "ipython",
    "version": 2
   },
   "file_extension": ".py",
   "mimetype": "text/x-python",
   "name": "python",
   "nbconvert_exporter": "python",
   "pygments_lexer": "ipython2",
   "version": "2.7.11"
  }
 },
 "nbformat": 4,
 "nbformat_minor": 0
}
