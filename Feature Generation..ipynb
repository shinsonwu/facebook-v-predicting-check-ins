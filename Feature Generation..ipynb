{
 "cells": [
  {
   "cell_type": "code",
   "execution_count": 1,
   "metadata": {
    "collapsed": false
   },
   "outputs": [
    {
     "name": "stdout",
     "output_type": "stream",
     "text": [
      "/home/ubuntu/big_mount_point/facebook/scripts\n"
     ]
    }
   ],
   "source": [
    "cd scripts/"
   ]
  },
  {
   "cell_type": "code",
   "execution_count": 2,
   "metadata": {
    "collapsed": true
   },
   "outputs": [],
   "source": [
    "import grid_generation as grid\n",
    "import feature_engineering as feat"
   ]
  },
  {
   "cell_type": "code",
   "execution_count": 3,
   "metadata": {
    "collapsed": true
   },
   "outputs": [],
   "source": [
    "g = grid.Grid(200, 50, 20, 5, pref = 'grid')\n",
    "submission_name = 'grid_200_50_20_5_def_params_th7_n100'"
   ]
  },
  {
   "cell_type": "code",
   "execution_count": 6,
   "metadata": {
    "collapsed": false
   },
   "outputs": [
    {
     "name": "stderr",
     "output_type": "stream",
     "text": [
      "100%|██████████| 8607230/8607230 [13:16<00:00, 10809.05it/s]\n"
     ]
    }
   ],
   "source": [
    "feat.generate_test_feature(g, submission_name)"
   ]
  },
  {
   "cell_type": "code",
   "execution_count": 7,
   "metadata": {
    "collapsed": false
   },
   "outputs": [
    {
     "name": "stderr",
     "output_type": "stream",
     "text": [
      "100%|██████████| 582083/582083 [01:00<00:00, 9583.50it/s]\n"
     ]
    }
   ],
   "source": [
    "feat.generate_cv_feature(g, submission_name)"
   ]
  },
  {
   "cell_type": "code",
   "execution_count": 8,
   "metadata": {
    "collapsed": false
   },
   "outputs": [
    {
     "name": "stdout",
     "output_type": "stream",
     "text": [
      "parsing line 1000000\n",
      "parsing line 2000000\n",
      "parsing line 3000000\n",
      "parsing line 4000000\n",
      "parsing line 5000000\n",
      "parsing line 6000000\n",
      "parsing line 7000000\n",
      "parsing line 8000000\n",
      "\n",
      "['8607229', '8.1017', '7.8736', '1', '845096']\n"
     ]
    }
   ],
   "source": [
    "feat.generate_test_feature_files(g, submission_name)"
   ]
  },
  {
   "cell_type": "code",
   "execution_count": 4,
   "metadata": {
    "collapsed": false
   },
   "outputs": [
    {
     "name": "stderr",
     "output_type": "stream",
     "text": [
      "/usr/local/lib/python2.7/dist-packages/numpy/lib/npyio.py:893: UserWarning: loadtxt: Empty input file: \"../grid_200_50_20_5/grid_data_12_200.csv\"\n",
      "  warnings.warn('loadtxt: Empty input file: \"%s\"' % fname)\n",
      "/usr/local/lib/python2.7/dist-packages/numpy/lib/npyio.py:893: UserWarning: loadtxt: Empty input file: \"../grid_200_50_20_5/grid_data_50_96.csv\"\n",
      "  warnings.warn('loadtxt: Empty input file: \"%s\"' % fname)\n",
      "/usr/local/lib/python2.7/dist-packages/numpy/lib/npyio.py:893: UserWarning: loadtxt: Empty input file: \"../grid_200_50_20_5/grid_data_50_106.csv\"\n",
      "  warnings.warn('loadtxt: Empty input file: \"%s\"' % fname)\n",
      "/usr/local/lib/python2.7/dist-packages/numpy/lib/npyio.py:893: UserWarning: loadtxt: Empty input file: \"../grid_200_50_20_5/grid_data_50_107.csv\"\n",
      "  warnings.warn('loadtxt: Empty input file: \"%s\"' % fname)\n",
      "/usr/local/lib/python2.7/dist-packages/numpy/lib/npyio.py:893: UserWarning: loadtxt: Empty input file: \"../grid_200_50_20_5/grid_data_50_108.csv\"\n",
      "  warnings.warn('loadtxt: Empty input file: \"%s\"' % fname)\n",
      "/usr/local/lib/python2.7/dist-packages/numpy/lib/npyio.py:893: UserWarning: loadtxt: Empty input file: \"../grid_200_50_20_5/grid_data_50_119.csv\"\n",
      "  warnings.warn('loadtxt: Empty input file: \"%s\"' % fname)\n",
      "/usr/local/lib/python2.7/dist-packages/numpy/lib/npyio.py:893: UserWarning: loadtxt: Empty input file: \"../grid_200_50_20_5/grid_data_50_120.csv\"\n",
      "  warnings.warn('loadtxt: Empty input file: \"%s\"' % fname)\n",
      "/usr/local/lib/python2.7/dist-packages/numpy/lib/npyio.py:893: UserWarning: loadtxt: Empty input file: \"../grid_200_50_20_5/grid_data_50_129.csv\"\n",
      "  warnings.warn('loadtxt: Empty input file: \"%s\"' % fname)\n",
      "/usr/local/lib/python2.7/dist-packages/numpy/lib/npyio.py:893: UserWarning: loadtxt: Empty input file: \"../grid_200_50_20_5/grid_data_50_138.csv\"\n",
      "  warnings.warn('loadtxt: Empty input file: \"%s\"' % fname)\n",
      "/usr/local/lib/python2.7/dist-packages/numpy/lib/npyio.py:893: UserWarning: loadtxt: Empty input file: \"../grid_200_50_20_5/grid_data_50_139.csv\"\n",
      "  warnings.warn('loadtxt: Empty input file: \"%s\"' % fname)\n",
      "/usr/local/lib/python2.7/dist-packages/numpy/lib/npyio.py:893: UserWarning: loadtxt: Empty input file: \"../grid_200_50_20_5/grid_data_50_141.csv\"\n",
      "  warnings.warn('loadtxt: Empty input file: \"%s\"' % fname)\n",
      "/usr/local/lib/python2.7/dist-packages/numpy/lib/npyio.py:893: UserWarning: loadtxt: Empty input file: \"../grid_200_50_20_5/grid_data_50_142.csv\"\n",
      "  warnings.warn('loadtxt: Empty input file: \"%s\"' % fname)\n",
      "/usr/local/lib/python2.7/dist-packages/numpy/lib/npyio.py:893: UserWarning: loadtxt: Empty input file: \"../grid_200_50_20_5/grid_data_50_166.csv\"\n",
      "  warnings.warn('loadtxt: Empty input file: \"%s\"' % fname)\n",
      "/usr/local/lib/python2.7/dist-packages/numpy/lib/npyio.py:893: UserWarning: loadtxt: Empty input file: \"../grid_200_50_20_5/grid_data_50_178.csv\"\n",
      "  warnings.warn('loadtxt: Empty input file: \"%s\"' % fname)\n",
      "/usr/local/lib/python2.7/dist-packages/numpy/lib/npyio.py:893: UserWarning: loadtxt: Empty input file: \"../grid_200_50_20_5/grid_data_50_179.csv\"\n",
      "  warnings.warn('loadtxt: Empty input file: \"%s\"' % fname)\n",
      "/usr/local/lib/python2.7/dist-packages/numpy/lib/npyio.py:893: UserWarning: loadtxt: Empty input file: \"../grid_200_50_20_5/grid_data_50_184.csv\"\n",
      "  warnings.warn('loadtxt: Empty input file: \"%s\"' % fname)\n",
      "/usr/local/lib/python2.7/dist-packages/numpy/lib/npyio.py:893: UserWarning: loadtxt: Empty input file: \"../grid_200_50_20_5/grid_data_50_185.csv\"\n",
      "  warnings.warn('loadtxt: Empty input file: \"%s\"' % fname)\n",
      "/usr/local/lib/python2.7/dist-packages/numpy/lib/npyio.py:893: UserWarning: loadtxt: Empty input file: \"../grid_200_50_20_5/grid_data_50_186.csv\"\n",
      "  warnings.warn('loadtxt: Empty input file: \"%s\"' % fname)\n",
      "/usr/local/lib/python2.7/dist-packages/numpy/lib/npyio.py:893: UserWarning: loadtxt: Empty input file: \"../grid_200_50_20_5/grid_data_50_189.csv\"\n",
      "  warnings.warn('loadtxt: Empty input file: \"%s\"' % fname)\n",
      "/usr/local/lib/python2.7/dist-packages/numpy/lib/npyio.py:893: UserWarning: loadtxt: Empty input file: \"../grid_200_50_20_5/grid_data_50_190.csv\"\n",
      "  warnings.warn('loadtxt: Empty input file: \"%s\"' % fname)\n",
      "/usr/local/lib/python2.7/dist-packages/numpy/lib/npyio.py:893: UserWarning: loadtxt: Empty input file: \"../grid_200_50_20_5/grid_data_50_191.csv\"\n",
      "  warnings.warn('loadtxt: Empty input file: \"%s\"' % fname)\n",
      "/usr/local/lib/python2.7/dist-packages/numpy/lib/npyio.py:893: UserWarning: loadtxt: Empty input file: \"../grid_200_50_20_5/grid_data_50_192.csv\"\n",
      "  warnings.warn('loadtxt: Empty input file: \"%s\"' % fname)\n",
      "/usr/local/lib/python2.7/dist-packages/numpy/lib/npyio.py:893: UserWarning: loadtxt: Empty input file: \"../grid_200_50_20_5/grid_data_50_196.csv\"\n",
      "  warnings.warn('loadtxt: Empty input file: \"%s\"' % fname)\n",
      "/usr/local/lib/python2.7/dist-packages/numpy/lib/npyio.py:893: UserWarning: loadtxt: Empty input file: \"../grid_200_50_20_5/grid_data_50_199.csv\"\n",
      "  warnings.warn('loadtxt: Empty input file: \"%s\"' % fname)\n",
      "/usr/local/lib/python2.7/dist-packages/numpy/lib/npyio.py:893: UserWarning: loadtxt: Empty input file: \"../grid_200_50_20_5/grid_data_50_200.csv\"\n",
      "  warnings.warn('loadtxt: Empty input file: \"%s\"' % fname)\n",
      "/usr/local/lib/python2.7/dist-packages/numpy/lib/npyio.py:893: UserWarning: loadtxt: Empty input file: \"../grid_200_50_20_5/grid_data_50_2.csv\"\n",
      "  warnings.warn('loadtxt: Empty input file: \"%s\"' % fname)\n",
      "/usr/local/lib/python2.7/dist-packages/numpy/lib/npyio.py:893: UserWarning: loadtxt: Empty input file: \"../grid_200_50_20_5/grid_data_50_6.csv\"\n",
      "  warnings.warn('loadtxt: Empty input file: \"%s\"' % fname)\n",
      "/usr/local/lib/python2.7/dist-packages/numpy/lib/npyio.py:893: UserWarning: loadtxt: Empty input file: \"../grid_200_50_20_5/grid_data_50_8.csv\"\n",
      "  warnings.warn('loadtxt: Empty input file: \"%s\"' % fname)\n",
      "/usr/local/lib/python2.7/dist-packages/numpy/lib/npyio.py:893: UserWarning: loadtxt: Empty input file: \"../grid_200_50_20_5/grid_data_50_15.csv\"\n",
      "  warnings.warn('loadtxt: Empty input file: \"%s\"' % fname)\n",
      "/usr/local/lib/python2.7/dist-packages/numpy/lib/npyio.py:893: UserWarning: loadtxt: Empty input file: \"../grid_200_50_20_5/grid_data_50_16.csv\"\n",
      "  warnings.warn('loadtxt: Empty input file: \"%s\"' % fname)\n",
      "/usr/local/lib/python2.7/dist-packages/numpy/lib/npyio.py:893: UserWarning: loadtxt: Empty input file: \"../grid_200_50_20_5/grid_data_50_19.csv\"\n",
      "  warnings.warn('loadtxt: Empty input file: \"%s\"' % fname)\n",
      "/usr/local/lib/python2.7/dist-packages/numpy/lib/npyio.py:893: UserWarning: loadtxt: Empty input file: \"../grid_200_50_20_5/grid_data_50_20.csv\"\n",
      "  warnings.warn('loadtxt: Empty input file: \"%s\"' % fname)\n",
      "/usr/local/lib/python2.7/dist-packages/numpy/lib/npyio.py:893: UserWarning: loadtxt: Empty input file: \"../grid_200_50_20_5/grid_data_50_27.csv\"\n",
      "  warnings.warn('loadtxt: Empty input file: \"%s\"' % fname)\n",
      "/usr/local/lib/python2.7/dist-packages/numpy/lib/npyio.py:893: UserWarning: loadtxt: Empty input file: \"../grid_200_50_20_5/grid_data_50_29.csv\"\n",
      "  warnings.warn('loadtxt: Empty input file: \"%s\"' % fname)\n",
      "/usr/local/lib/python2.7/dist-packages/numpy/lib/npyio.py:893: UserWarning: loadtxt: Empty input file: \"../grid_200_50_20_5/grid_data_50_34.csv\"\n",
      "  warnings.warn('loadtxt: Empty input file: \"%s\"' % fname)\n",
      "/usr/local/lib/python2.7/dist-packages/numpy/lib/npyio.py:893: UserWarning: loadtxt: Empty input file: \"../grid_200_50_20_5/grid_data_50_35.csv\"\n",
      "  warnings.warn('loadtxt: Empty input file: \"%s\"' % fname)\n",
      "/usr/local/lib/python2.7/dist-packages/numpy/lib/npyio.py:893: UserWarning: loadtxt: Empty input file: \"../grid_200_50_20_5/grid_data_50_37.csv\"\n",
      "  warnings.warn('loadtxt: Empty input file: \"%s\"' % fname)\n",
      "/usr/local/lib/python2.7/dist-packages/numpy/lib/npyio.py:893: UserWarning: loadtxt: Empty input file: \"../grid_200_50_20_5/grid_data_50_39.csv\"\n",
      "  warnings.warn('loadtxt: Empty input file: \"%s\"' % fname)\n",
      "/usr/local/lib/python2.7/dist-packages/numpy/lib/npyio.py:893: UserWarning: loadtxt: Empty input file: \"../grid_200_50_20_5/grid_data_50_40.csv\"\n",
      "  warnings.warn('loadtxt: Empty input file: \"%s\"' % fname)\n",
      "/usr/local/lib/python2.7/dist-packages/numpy/lib/npyio.py:893: UserWarning: loadtxt: Empty input file: \"../grid_200_50_20_5/grid_data_50_41.csv\"\n",
      "  warnings.warn('loadtxt: Empty input file: \"%s\"' % fname)\n",
      "/usr/local/lib/python2.7/dist-packages/numpy/lib/npyio.py:893: UserWarning: loadtxt: Empty input file: \"../grid_200_50_20_5/grid_data_50_42.csv\"\n",
      "  warnings.warn('loadtxt: Empty input file: \"%s\"' % fname)\n",
      "/usr/local/lib/python2.7/dist-packages/numpy/lib/npyio.py:893: UserWarning: loadtxt: Empty input file: \"../grid_200_50_20_5/grid_data_50_43.csv\"\n",
      "  warnings.warn('loadtxt: Empty input file: \"%s\"' % fname)\n",
      "/usr/local/lib/python2.7/dist-packages/numpy/lib/npyio.py:893: UserWarning: loadtxt: Empty input file: \"../grid_200_50_20_5/grid_data_50_46.csv\"\n",
      "  warnings.warn('loadtxt: Empty input file: \"%s\"' % fname)\n",
      "/usr/local/lib/python2.7/dist-packages/numpy/lib/npyio.py:893: UserWarning: loadtxt: Empty input file: \"../grid_200_50_20_5/grid_data_50_65.csv\"\n",
      "  warnings.warn('loadtxt: Empty input file: \"%s\"' % fname)\n",
      "/usr/local/lib/python2.7/dist-packages/numpy/lib/npyio.py:893: UserWarning: loadtxt: Empty input file: \"../grid_200_50_20_5/grid_data_50_66.csv\"\n",
      "  warnings.warn('loadtxt: Empty input file: \"%s\"' % fname)\n",
      "/usr/local/lib/python2.7/dist-packages/numpy/lib/npyio.py:893: UserWarning: loadtxt: Empty input file: \"../grid_200_50_20_5/grid_data_50_68.csv\"\n",
      "  warnings.warn('loadtxt: Empty input file: \"%s\"' % fname)\n",
      "/usr/local/lib/python2.7/dist-packages/numpy/lib/npyio.py:893: UserWarning: loadtxt: Empty input file: \"../grid_200_50_20_5/grid_data_50_75.csv\"\n",
      "  warnings.warn('loadtxt: Empty input file: \"%s\"' % fname)\n",
      "/usr/local/lib/python2.7/dist-packages/numpy/lib/npyio.py:893: UserWarning: loadtxt: Empty input file: \"../grid_200_50_20_5/grid_data_50_79.csv\"\n",
      "  warnings.warn('loadtxt: Empty input file: \"%s\"' % fname)\n",
      "/usr/local/lib/python2.7/dist-packages/numpy/lib/npyio.py:893: UserWarning: loadtxt: Empty input file: \"../grid_200_50_20_5/grid_data_50_80.csv\"\n",
      "  warnings.warn('loadtxt: Empty input file: \"%s\"' % fname)\n",
      "/usr/local/lib/python2.7/dist-packages/numpy/lib/npyio.py:893: UserWarning: loadtxt: Empty input file: \"../grid_200_50_20_5/grid_data_50_82.csv\"\n",
      "  warnings.warn('loadtxt: Empty input file: \"%s\"' % fname)\n"
     ]
    }
   ],
   "source": [
    "feat.generate_grid_features(g, submission_name)"
   ]
  },
  {
   "cell_type": "code",
   "execution_count": null,
   "metadata": {
    "collapsed": true
   },
   "outputs": [],
   "source": []
  }
 ],
 "metadata": {
  "kernelspec": {
   "display_name": "Python 2",
   "language": "python",
   "name": "python2"
  },
  "language_info": {
   "codemirror_mode": {
    "name": "ipython",
    "version": 2
   },
   "file_extension": ".py",
   "mimetype": "text/x-python",
   "name": "python",
   "nbconvert_exporter": "python",
   "pygments_lexer": "ipython2",
   "version": "2.7.6"
  }
 },
 "nbformat": 4,
 "nbformat_minor": 0
}
