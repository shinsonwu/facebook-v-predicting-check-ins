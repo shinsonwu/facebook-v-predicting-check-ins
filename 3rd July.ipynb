{
 "cells": [
  {
   "cell_type": "code",
   "execution_count": 228,
   "metadata": {
    "collapsed": false
   },
   "outputs": [
    {
     "data": {
      "text/plain": [
       "u'/home/ubuntu/big_mount_point/facebook/scripts'"
      ]
     },
     "execution_count": 228,
     "metadata": {},
     "output_type": "execute_result"
    }
   ],
   "source": [
    "pwd"
   ]
  },
  {
   "cell_type": "code",
   "execution_count": 2,
   "metadata": {
    "collapsed": true
   },
   "outputs": [],
   "source": [
    "import numpy as np"
   ]
  },
  {
   "cell_type": "code",
   "execution_count": 226,
   "metadata": {
    "collapsed": true
   },
   "outputs": [],
   "source": [
    "import grid_generation as grid\n",
    "reload(grid)\n",
    "import feature_engineering as feat\n",
    "reload(feat)\n",
    "sub = 'ec2_colsample_bytree0_6_scale_pos_weight1_min_child_weight6_subsample0_9_eta0_1_max_depth3_gamma0_1_th3_n200'\n",
    "g = grid.Grid(200, 50, 20, 5, pref = 'grid')"
   ]
  },
  {
   "cell_type": "code",
   "execution_count": 15,
   "metadata": {
    "collapsed": false
   },
   "outputs": [
    {
     "name": "stdout",
     "output_type": "stream",
     "text": [
      "parsing line 1000000\n",
      "parsing line 2000000\n",
      "parsing line 3000000\n",
      "parsing line 4000000\n",
      "parsing line 5000000\n",
      "parsing line 6000000\n",
      "parsing line 7000000\n",
      "parsing line 8000000\n",
      "\n",
      "['8607229', '8.1017', '7.8736', '1', '845096']\n"
     ]
    }
   ],
   "source": [
    "feat.generate_test_feature_files(g, sub)"
   ]
  },
  {
   "cell_type": "code",
   "execution_count": null,
   "metadata": {
    "collapsed": false
   },
   "outputs": [],
   "source": [
    "data = load_data_from_grid(8, 200)"
   ]
  },
  {
   "cell_type": "code",
   "execution_count": 225,
   "metadata": {
    "collapsed": false
   },
   "outputs": [],
   "source": [
    "import xgboost_extra_features_model as xgboost"
   ]
  },
  {
   "cell_type": "code",
   "execution_count": 49,
   "metadata": {
    "collapsed": false
   },
   "outputs": [],
   "source": [
    "g = grid.Grid(200, 50, 20, 5, pref = 'grid')\n",
    "g.generateCardinalityMatrix()"
   ]
  },
  {
   "cell_type": "code",
   "execution_count": 223,
   "metadata": {
    "collapsed": true
   },
   "outputs": [],
   "source": [
    "import xgboost_extra_features_model as xgbm\n",
    "reload(xgbm)\n",
    "import numpy as np\n"
   ]
  },
  {
   "cell_type": "code",
   "execution_count": 224,
   "metadata": {
    "collapsed": false
   },
   "outputs": [],
   "source": [
    "from sklearn.cross_validation import train_test_split\n",
    "import xgboost as xgb"
   ]
  },
  {
   "cell_type": "code",
   "execution_count": 52,
   "metadata": {
    "collapsed": false
   },
   "outputs": [],
   "source": [
    "data = np.loadtxt('../grid_200_50_20_5/grid_data_0_0.csv', delimiter = ',')"
   ]
  },
  {
   "cell_type": "code",
   "execution_count": 53,
   "metadata": {
    "collapsed": true
   },
   "outputs": [],
   "source": [
    "data_features = np.loadtxt('../grid_200_50_20_5_ec2_colsample_bytree0_6_scale_pos_weight1_min_child_weight6_subsample0_9_eta0_1_max_depth3_gamma0_1_th3_n200_features/feature_0_0.csv', delimiter = ',')"
   ]
  },
  {
   "cell_type": "code",
   "execution_count": 54,
   "metadata": {
    "collapsed": false
   },
   "outputs": [
    {
     "name": "stdout",
     "output_type": "stream",
     "text": [
      "(2756, 6)\n",
      "(2756, 131)\n"
     ]
    }
   ],
   "source": [
    "print data.shape\n",
    "print data_features.shape"
   ]
  },
  {
   "cell_type": "code",
   "execution_count": 222,
   "metadata": {
    "collapsed": true
   },
   "outputs": [],
   "source": [
    "data_combined = np.hstack((data[:, :-1], data_features[:, 1:], data[:, -1].reshape(-1, 1)))\n",
    "mask = np.array(map(lambda x: g.M[0][0][x] > 3, data_combined[:, -1]))\n",
    "masked_data = data_combined[mask, :]\n",
    "train, test= train_test_split(masked_data, test_size=0.1)\n",
    "y_orig, enc = xgbm.trans_y(masked_data[:, -1])\n",
    "y = enc['encoder'].transform(train[:, -1])[0]\n",
    "y_test = enc['encoder'].transform(test[:, -1])[0]"
   ]
  },
  {
   "cell_type": "code",
   "execution_count": 64,
   "metadata": {
    "collapsed": false
   },
   "outputs": [],
   "source": []
  },
  {
   "cell_type": "code",
   "execution_count": 96,
   "metadata": {
    "collapsed": true
   },
   "outputs": [],
   "source": [
    "params = {\n",
    "            'objective': 'multi:softprob',\n",
    "            'eta': 0.01,\n",
    "            'max_depth': 3,\n",
    "            'min_child_weight': 6,\n",
    "            'gamma': 0.1,\n",
    "            'subsample': 0.9,\n",
    "            'colsample_bytree': 0.6,\n",
    "            'scale_pos_weight': 1,\n",
    "            'nthread': 4,\n",
    "            'silent': 1,\n",
    "    'num_class': len(enc['encoder'].classes_)\n",
    "}"
   ]
  },
  {
   "cell_type": "code",
   "execution_count": 221,
   "metadata": {
    "collapsed": false
   },
   "outputs": [
    {
     "ename": "XGBoostError",
     "evalue": "[15:10:10] src/objective/multiclass_obj.cc:43: Check failed: preds.size() == (static_cast<size_t>(param_.num_class) * info.labels.size()) SoftmaxMultiClassObj: label size and pred size does not match",
     "output_type": "error",
     "traceback": [
      "\u001b[1;31m---------------------------------------------------------------------------\u001b[0m",
      "\u001b[1;31mXGBoostError\u001b[0m                              Traceback (most recent call last)",
      "\u001b[1;32m<ipython-input-221-1b5c656c1561>\u001b[0m in \u001b[0;36m<module>\u001b[1;34m()\u001b[0m\n\u001b[0;32m      3\u001b[0m \u001b[0mdtrain\u001b[0m \u001b[1;33m=\u001b[0m \u001b[0mxgb\u001b[0m\u001b[1;33m.\u001b[0m\u001b[0mDMatrix\u001b[0m\u001b[1;33m(\u001b[0m\u001b[0mx\u001b[0m\u001b[1;33m,\u001b[0m \u001b[0mlabel\u001b[0m \u001b[1;33m=\u001b[0m \u001b[0mnp\u001b[0m\u001b[1;33m.\u001b[0m\u001b[0mravel\u001b[0m\u001b[1;33m(\u001b[0m\u001b[0my\u001b[0m\u001b[1;33m)\u001b[0m\u001b[1;33m)\u001b[0m\u001b[1;33m\u001b[0m\u001b[0m\n\u001b[0;32m      4\u001b[0m \u001b[0mdtest\u001b[0m \u001b[1;33m=\u001b[0m \u001b[0mxgb\u001b[0m\u001b[1;33m.\u001b[0m\u001b[0mDMatrix\u001b[0m\u001b[1;33m(\u001b[0m\u001b[0mx_test\u001b[0m\u001b[1;33m,\u001b[0m \u001b[0mlabel\u001b[0m \u001b[1;33m=\u001b[0m \u001b[0mnp\u001b[0m\u001b[1;33m.\u001b[0m\u001b[0mravel\u001b[0m\u001b[1;33m(\u001b[0m\u001b[0my_test\u001b[0m\u001b[1;33m)\u001b[0m\u001b[1;33m)\u001b[0m\u001b[1;33m\u001b[0m\u001b[0m\n\u001b[1;32m----> 5\u001b[1;33m \u001b[0mbst\u001b[0m \u001b[1;33m=\u001b[0m \u001b[0mxgb\u001b[0m\u001b[1;33m.\u001b[0m\u001b[0mtrain\u001b[0m\u001b[1;33m(\u001b[0m\u001b[0mparams\u001b[0m\u001b[1;33m,\u001b[0m \u001b[0mdtrain\u001b[0m\u001b[1;33m,\u001b[0m \u001b[1;36m50\u001b[0m\u001b[1;33m,\u001b[0m \u001b[0mevals\u001b[0m \u001b[1;33m=\u001b[0m \u001b[1;33m[\u001b[0m\u001b[1;33m(\u001b[0m\u001b[0mdtrain\u001b[0m\u001b[1;33m,\u001b[0m\u001b[1;34m'train'\u001b[0m\u001b[1;33m)\u001b[0m\u001b[1;33m,\u001b[0m \u001b[1;33m(\u001b[0m\u001b[0mdtest\u001b[0m\u001b[1;33m,\u001b[0m \u001b[1;34m'test'\u001b[0m\u001b[1;33m)\u001b[0m\u001b[1;33m]\u001b[0m\u001b[1;33m,\u001b[0m \u001b[0mverbose_eval\u001b[0m \u001b[1;33m=\u001b[0m \u001b[0mTrue\u001b[0m\u001b[1;33m,\u001b[0m \u001b[0mfeval\u001b[0m \u001b[1;33m=\u001b[0m \u001b[0mxgbm\u001b[0m\u001b[1;33m.\u001b[0m\u001b[0mmap3eval\u001b[0m\u001b[1;33m)\u001b[0m\u001b[1;33m\u001b[0m\u001b[0m\n\u001b[0m",
      "\u001b[1;32m/usr/local/lib/python2.7/dist-packages/xgboost-0.4-py2.7.egg/xgboost/training.pyc\u001b[0m in \u001b[0;36mtrain\u001b[1;34m(params, dtrain, num_boost_round, evals, obj, feval, maximize, early_stopping_rounds, evals_result, verbose_eval, learning_rates, xgb_model, callbacks)\u001b[0m\n\u001b[0;32m    203\u001b[0m                            \u001b[0mevals\u001b[0m\u001b[1;33m=\u001b[0m\u001b[0mevals\u001b[0m\u001b[1;33m,\u001b[0m\u001b[1;33m\u001b[0m\u001b[0m\n\u001b[0;32m    204\u001b[0m                            \u001b[0mobj\u001b[0m\u001b[1;33m=\u001b[0m\u001b[0mobj\u001b[0m\u001b[1;33m,\u001b[0m \u001b[0mfeval\u001b[0m\u001b[1;33m=\u001b[0m\u001b[0mfeval\u001b[0m\u001b[1;33m,\u001b[0m\u001b[1;33m\u001b[0m\u001b[0m\n\u001b[1;32m--> 205\u001b[1;33m                            xgb_model=xgb_model, callbacks=callbacks)\n\u001b[0m\u001b[0;32m    206\u001b[0m \u001b[1;33m\u001b[0m\u001b[0m\n\u001b[0;32m    207\u001b[0m \u001b[1;33m\u001b[0m\u001b[0m\n",
      "\u001b[1;32m/usr/local/lib/python2.7/dist-packages/xgboost-0.4-py2.7.egg/xgboost/training.pyc\u001b[0m in \u001b[0;36m_train_internal\u001b[1;34m(params, dtrain, num_boost_round, evals, obj, feval, xgb_model, callbacks)\u001b[0m\n\u001b[0;32m     74\u001b[0m         \u001b[1;31m# Skip the first update if it is a recovery step.\u001b[0m\u001b[1;33m\u001b[0m\u001b[1;33m\u001b[0m\u001b[0m\n\u001b[0;32m     75\u001b[0m         \u001b[1;32mif\u001b[0m \u001b[0mversion\u001b[0m \u001b[1;33m%\u001b[0m \u001b[1;36m2\u001b[0m \u001b[1;33m==\u001b[0m \u001b[1;36m0\u001b[0m\u001b[1;33m:\u001b[0m\u001b[1;33m\u001b[0m\u001b[0m\n\u001b[1;32m---> 76\u001b[1;33m             \u001b[0mbst\u001b[0m\u001b[1;33m.\u001b[0m\u001b[0mupdate\u001b[0m\u001b[1;33m(\u001b[0m\u001b[0mdtrain\u001b[0m\u001b[1;33m,\u001b[0m \u001b[0mi\u001b[0m\u001b[1;33m,\u001b[0m \u001b[0mobj\u001b[0m\u001b[1;33m)\u001b[0m\u001b[1;33m\u001b[0m\u001b[0m\n\u001b[0m\u001b[0;32m     77\u001b[0m             \u001b[0mbst\u001b[0m\u001b[1;33m.\u001b[0m\u001b[0msave_rabit_checkpoint\u001b[0m\u001b[1;33m(\u001b[0m\u001b[1;33m)\u001b[0m\u001b[1;33m\u001b[0m\u001b[0m\n\u001b[0;32m     78\u001b[0m             \u001b[0mversion\u001b[0m \u001b[1;33m+=\u001b[0m \u001b[1;36m1\u001b[0m\u001b[1;33m\u001b[0m\u001b[0m\n",
      "\u001b[1;32m/usr/local/lib/python2.7/dist-packages/xgboost-0.4-py2.7.egg/xgboost/core.pyc\u001b[0m in \u001b[0;36mupdate\u001b[1;34m(self, dtrain, iteration, fobj)\u001b[0m\n\u001b[0;32m    804\u001b[0m \u001b[1;33m\u001b[0m\u001b[0m\n\u001b[0;32m    805\u001b[0m         \u001b[1;32mif\u001b[0m \u001b[0mfobj\u001b[0m \u001b[1;32mis\u001b[0m \u001b[0mNone\u001b[0m\u001b[1;33m:\u001b[0m\u001b[1;33m\u001b[0m\u001b[0m\n\u001b[1;32m--> 806\u001b[1;33m             \u001b[0m_check_call\u001b[0m\u001b[1;33m(\u001b[0m\u001b[0m_LIB\u001b[0m\u001b[1;33m.\u001b[0m\u001b[0mXGBoosterUpdateOneIter\u001b[0m\u001b[1;33m(\u001b[0m\u001b[0mself\u001b[0m\u001b[1;33m.\u001b[0m\u001b[0mhandle\u001b[0m\u001b[1;33m,\u001b[0m \u001b[0miteration\u001b[0m\u001b[1;33m,\u001b[0m \u001b[0mdtrain\u001b[0m\u001b[1;33m.\u001b[0m\u001b[0mhandle\u001b[0m\u001b[1;33m)\u001b[0m\u001b[1;33m)\u001b[0m\u001b[1;33m\u001b[0m\u001b[0m\n\u001b[0m\u001b[0;32m    807\u001b[0m         \u001b[1;32melse\u001b[0m\u001b[1;33m:\u001b[0m\u001b[1;33m\u001b[0m\u001b[0m\n\u001b[0;32m    808\u001b[0m             \u001b[0mpred\u001b[0m \u001b[1;33m=\u001b[0m \u001b[0mself\u001b[0m\u001b[1;33m.\u001b[0m\u001b[0mpredict\u001b[0m\u001b[1;33m(\u001b[0m\u001b[0mdtrain\u001b[0m\u001b[1;33m)\u001b[0m\u001b[1;33m\u001b[0m\u001b[0m\n",
      "\u001b[1;32m/usr/local/lib/python2.7/dist-packages/xgboost-0.4-py2.7.egg/xgboost/core.pyc\u001b[0m in \u001b[0;36m_check_call\u001b[1;34m(ret)\u001b[0m\n\u001b[0;32m    125\u001b[0m     \"\"\"\n\u001b[0;32m    126\u001b[0m     \u001b[1;32mif\u001b[0m \u001b[0mret\u001b[0m \u001b[1;33m!=\u001b[0m \u001b[1;36m0\u001b[0m\u001b[1;33m:\u001b[0m\u001b[1;33m\u001b[0m\u001b[0m\n\u001b[1;32m--> 127\u001b[1;33m         \u001b[1;32mraise\u001b[0m \u001b[0mXGBoostError\u001b[0m\u001b[1;33m(\u001b[0m\u001b[0m_LIB\u001b[0m\u001b[1;33m.\u001b[0m\u001b[0mXGBGetLastError\u001b[0m\u001b[1;33m(\u001b[0m\u001b[1;33m)\u001b[0m\u001b[1;33m)\u001b[0m\u001b[1;33m\u001b[0m\u001b[0m\n\u001b[0m\u001b[0;32m    128\u001b[0m \u001b[1;33m\u001b[0m\u001b[0m\n\u001b[0;32m    129\u001b[0m \u001b[1;33m\u001b[0m\u001b[0m\n",
      "\u001b[1;31mXGBoostError\u001b[0m: [15:10:10] src/objective/multiclass_obj.cc:43: Check failed: preds.size() == (static_cast<size_t>(param_.num_class) * info.labels.size()) SoftmaxMultiClassObj: label size and pred size does not match"
     ]
    }
   ],
   "source": [
    "x = xgbm.trans_x(train[:, 1:-1])[0]\n",
    "x_test = xgbm.trans_x(test[:, 1:-1])[0]\n",
    "dtrain = xgb.DMatrix(x, label = np.ravel(y))\n",
    "dtest = xgb.DMatrix(x_test, label = np.ravel(y_test))\n",
    "bst = xgb.train(params, dtrain, 50, evals = [(dtrain,'train'), (dtest, 'test')], verbose_eval = True, feval = xgbm.map3eval)"
   ]
  },
  {
   "cell_type": "code",
   "execution_count": 104,
   "metadata": {
    "collapsed": false
   },
   "outputs": [],
   "source": [
    "fs = sorted(bst.get_fscore().items(), reverse = True, cmp = lambda x, y:cmp(x[1], y[1]))"
   ]
  },
  {
   "cell_type": "code",
   "execution_count": 141,
   "metadata": {
    "collapsed": false
   },
   "outputs": [
    {
     "name": "stdout",
     "output_type": "stream",
     "text": [
      "[0]\ttrain-MAP@3:0.611765\ttest-MAP@3:0.581132\n",
      "[1]\ttrain-MAP@3:0.614706\ttest-MAP@3:0.588679\n",
      "[2]\ttrain-MAP@3:0.628992\ttest-MAP@3:0.596226\n",
      "[3]\ttrain-MAP@3:0.638655\ttest-MAP@3:0.611321\n",
      "[4]\ttrain-MAP@3:0.646639\ttest-MAP@3:0.607547\n",
      "[5]\ttrain-MAP@3:0.659664\ttest-MAP@3:0.622642\n",
      "[6]\ttrain-MAP@3:0.660084\ttest-MAP@3:0.615094\n",
      "[7]\ttrain-MAP@3:0.661765\ttest-MAP@3:0.603774\n",
      "[8]\ttrain-MAP@3:0.671849\ttest-MAP@3:0.630189\n",
      "[9]\ttrain-MAP@3:0.676471\ttest-MAP@3:0.618868\n",
      "[10]\ttrain-MAP@3:0.681933\ttest-MAP@3:0.637736\n",
      "[11]\ttrain-MAP@3:0.681513\ttest-MAP@3:0.641509\n",
      "[12]\ttrain-MAP@3:0.686134\ttest-MAP@3:0.65283\n",
      "[13]\ttrain-MAP@3:0.689496\ttest-MAP@3:0.65283\n",
      "[14]\ttrain-MAP@3:0.692017\ttest-MAP@3:0.65283\n",
      "[15]\ttrain-MAP@3:0.691176\ttest-MAP@3:0.656604\n",
      "[16]\ttrain-MAP@3:0.691597\ttest-MAP@3:0.656604\n",
      "[17]\ttrain-MAP@3:0.693697\ttest-MAP@3:0.656604\n",
      "[18]\ttrain-MAP@3:0.695378\ttest-MAP@3:0.664151\n",
      "[19]\ttrain-MAP@3:0.696639\ttest-MAP@3:0.664151\n",
      "[20]\ttrain-MAP@3:0.698739\ttest-MAP@3:0.660377\n",
      "[21]\ttrain-MAP@3:0.70042\ttest-MAP@3:0.664151\n",
      "[22]\ttrain-MAP@3:0.703782\ttest-MAP@3:0.664151\n",
      "[23]\ttrain-MAP@3:0.704622\ttest-MAP@3:0.664151\n",
      "[24]\ttrain-MAP@3:0.704622\ttest-MAP@3:0.664151\n",
      "[25]\ttrain-MAP@3:0.703782\ttest-MAP@3:0.664151\n",
      "[26]\ttrain-MAP@3:0.705042\ttest-MAP@3:0.667925\n",
      "[27]\ttrain-MAP@3:0.707143\ttest-MAP@3:0.664151\n",
      "[28]\ttrain-MAP@3:0.707143\ttest-MAP@3:0.664151\n",
      "[29]\ttrain-MAP@3:0.706723\ttest-MAP@3:0.667925\n",
      "[30]\ttrain-MAP@3:0.707563\ttest-MAP@3:0.667925\n",
      "[31]\ttrain-MAP@3:0.708824\ttest-MAP@3:0.671698\n",
      "[32]\ttrain-MAP@3:0.709664\ttest-MAP@3:0.671698\n",
      "[33]\ttrain-MAP@3:0.710504\ttest-MAP@3:0.667925\n",
      "[34]\ttrain-MAP@3:0.711765\ttest-MAP@3:0.667925\n",
      "[35]\ttrain-MAP@3:0.712605\ttest-MAP@3:0.671698\n",
      "[36]\ttrain-MAP@3:0.713445\ttest-MAP@3:0.667925\n",
      "[37]\ttrain-MAP@3:0.713025\ttest-MAP@3:0.671698\n",
      "[38]\ttrain-MAP@3:0.713866\ttest-MAP@3:0.671698\n",
      "[39]\ttrain-MAP@3:0.716807\ttest-MAP@3:0.671698\n",
      "[40]\ttrain-MAP@3:0.717227\ttest-MAP@3:0.671698\n",
      "[41]\ttrain-MAP@3:0.717647\ttest-MAP@3:0.675472\n",
      "[42]\ttrain-MAP@3:0.719748\ttest-MAP@3:0.675472\n",
      "[43]\ttrain-MAP@3:0.720168\ttest-MAP@3:0.675472\n",
      "[44]\ttrain-MAP@3:0.720588\ttest-MAP@3:0.675472\n",
      "[45]\ttrain-MAP@3:0.720588\ttest-MAP@3:0.671698\n",
      "[46]\ttrain-MAP@3:0.721849\ttest-MAP@3:0.675472\n",
      "[47]\ttrain-MAP@3:0.723109\ttest-MAP@3:0.675472\n",
      "[48]\ttrain-MAP@3:0.723109\ttest-MAP@3:0.679245\n",
      "[49]\ttrain-MAP@3:0.72437\ttest-MAP@3:0.675472\n"
     ]
    }
   ],
   "source": [
    "x1 = xgbm1.trans_x(train[:, 1:-1])[0]\n",
    "x_test1 = xgbm1.trans_x(test[:, 1:-1])[0]\n",
    "dtrain1 = xgb.DMatrix(x1, label = np.ravel(y))\n",
    "dtest1 = xgb.DMatrix(x_test1, label = np.ravel(y_test))\n",
    "bst1 = xgb.train(params, dtrain1, 50, evals = [(dtrain1,'train'), (dtest1, 'test')], verbose_eval = True, feval = xgbm.map3eval)"
   ]
  },
  {
   "cell_type": "code",
   "execution_count": 139,
   "metadata": {
    "collapsed": true
   },
   "outputs": [],
   "source": [
    "def trans_x2(X, x_transformer = None):\n",
    "    \"\"\"\n",
    "    X = [[x, y, a, t, feats]]\n",
    "    \"\"\"\n",
    "    fw = [1., 1., 1., 1., 1., 1., 1.]\n",
    "    minute_v = X[:, 3]%60\n",
    "    hour_v = X[:, 3]//60\n",
    "    weekday_v = hour_v//24\n",
    "    month_v = weekday_v//30\n",
    "    year_v = (weekday_v//365 + 1)*fw[5]\n",
    "    hour_v = ((hour_v%24 + 1) + minute_v/60.0)*fw[2]\n",
    "    hour_v_2 = (X[:, 3]%(60*60*24))//(60*60*2)\n",
    "    hour_v_3 = (X[:, 3]%(60*60*24))//(60*60*3)\n",
    "    hour_v_4 = (X[:, 3]%(60*60*24))//(60*60*4)\n",
    "    hour_v_6 = (X[:, 3]%(60*60*24))//(60*60*6)\n",
    "    hour_v_8 = (X[:, 3]%(60*60*24))//(60*60*8)\n",
    "    weekday_v = (weekday_v%7 + 1)*fw[3]\n",
    "    month_v = (month_v%12 +1)*fw[4]\n",
    "    accuracy_v = np.log10(X[:, 2])*fw[6]\n",
    "    x_v = X[:, 0]*fw[0]\n",
    "    y_v = X[:, 1]*fw[1]\n",
    "    \n",
    "    x_h = np.median(X[:, range(4, 134, 13)], axis = 1).reshape(-1, 1)\n",
    "    x_h2 = np.median(X[:, range(5, 134, 13)], axis = 1).reshape(-1, 1)\n",
    "    x_h3 = np.median(X[:, range(6, 134, 13)], axis = 1).reshape(-1, 1)\n",
    "    x_h4 = np.median(X[:, range(7, 134, 13)], axis = 1).reshape(-1, 1)\n",
    "    x_h6 = np.median(X[:, range(8, 134, 13)], axis = 1).reshape(-1, 1)\n",
    "    x_h8 = np.median(X[:, range(9, 134, 13)], axis = 1).reshape(-1, 1)\n",
    "    x_week = np.median(X[:, range(10, 134, 13)], axis = 1).reshape(-1, 1)\n",
    "    x_month = np.median(X[:, range(11, 134, 13)], axis = 1).reshape(-1, 1)\n",
    "    x_count = np.log10(np.median(X[:, range(12, 134, 13)], axis = 1)).reshape(-1, 1)\n",
    "    x_a_med = np.log10(np.median(X[:, range(13, 134, 13)], axis = 1)).reshape(-1, 1)\n",
    "    x_x_med = np.median(X[:, range(14, 134, 13)], axis = 1).reshape(-1, 1)\n",
    "    x_y_med = np.median(X[:, range(15, 134, 13)], axis = 1).reshape(-1, 1)\n",
    "    x_abs_distance = np.median(X[:, range(16, 134, 13)], axis = 1).reshape(-1, 1)\n",
    "    median_stats = np.hstack((x_h, x_h2, x_h3, x_h4, x_h6, x_h8, x_week, x_month, x_count, x_a_med, x_x_med, x_y_med, x_abs_distance))\n",
    "    print median_stats.shape\n",
    "    print x_v.shape\n",
    "    X_new = np.hstack((x_v.reshape(-1, 1),\\\n",
    "                     y_v.reshape(-1, 1),\\\n",
    "                     accuracy_v.reshape(-1, 1),\\\n",
    "                     hour_v.reshape(-1, 1),\\\n",
    "                     hour_v_2.reshape(-1, 1),\\\n",
    "                     hour_v_3.reshape(-1, 1),\\\n",
    "                     hour_v_4.reshape(-1, 1),\\\n",
    "                     hour_v_6.reshape(-1, 1),\\\n",
    "                     hour_v_8.reshape(-1, 1),\\\n",
    "                     weekday_v.reshape(-1, 1),\\\n",
    "                     month_v.reshape(-1, 1),\\\n",
    "                     year_v.reshape(-1, 1),\\\n",
    "                     median_stats))\n",
    "\n",
    "    return (X_new, x_transformer)\n"
   ]
  },
  {
   "cell_type": "code",
   "execution_count": 140,
   "metadata": {
    "collapsed": false
   },
   "outputs": [
    {
     "name": "stdout",
     "output_type": "stream",
     "text": [
      "(2380, 13)\n",
      "(2380,)\n",
      "(265, 13)\n",
      "(265,)\n",
      "[0]\ttrain-MAP@3:0.651261\ttest-MAP@3:0.588679\n",
      "[1]\ttrain-MAP@3:0.648319\ttest-MAP@3:0.581132\n",
      "[2]\ttrain-MAP@3:0.654622\ttest-MAP@3:0.573585\n",
      "[3]\ttrain-MAP@3:0.656723\ttest-MAP@3:0.584906\n",
      "[4]\ttrain-MAP@3:0.662185\ttest-MAP@3:0.592453\n",
      "[5]\ttrain-MAP@3:0.668067\ttest-MAP@3:0.592453\n",
      "[6]\ttrain-MAP@3:0.67395\ttest-MAP@3:0.603774\n",
      "[7]\ttrain-MAP@3:0.678992\ttest-MAP@3:0.622642\n",
      "[8]\ttrain-MAP@3:0.681933\ttest-MAP@3:0.622642\n",
      "[9]\ttrain-MAP@3:0.682773\ttest-MAP@3:0.630189\n",
      "[10]\ttrain-MAP@3:0.684034\ttest-MAP@3:0.630189\n",
      "[11]\ttrain-MAP@3:0.686555\ttest-MAP@3:0.633962\n",
      "[12]\ttrain-MAP@3:0.687815\ttest-MAP@3:0.637736\n",
      "[13]\ttrain-MAP@3:0.691176\ttest-MAP@3:0.630189\n",
      "[14]\ttrain-MAP@3:0.691597\ttest-MAP@3:0.637736\n",
      "[15]\ttrain-MAP@3:0.694538\ttest-MAP@3:0.637736\n",
      "[16]\ttrain-MAP@3:0.694118\ttest-MAP@3:0.630189\n",
      "[17]\ttrain-MAP@3:0.697059\ttest-MAP@3:0.637736\n",
      "[18]\ttrain-MAP@3:0.69916\ttest-MAP@3:0.637736\n",
      "[19]\ttrain-MAP@3:0.701261\ttest-MAP@3:0.641509\n",
      "[20]\ttrain-MAP@3:0.702521\ttest-MAP@3:0.645283\n",
      "[21]\ttrain-MAP@3:0.703782\ttest-MAP@3:0.645283\n",
      "[22]\ttrain-MAP@3:0.705042\ttest-MAP@3:0.65283\n",
      "[23]\ttrain-MAP@3:0.705042\ttest-MAP@3:0.649057\n",
      "[24]\ttrain-MAP@3:0.705462\ttest-MAP@3:0.649057\n",
      "[25]\ttrain-MAP@3:0.704202\ttest-MAP@3:0.649057\n",
      "[26]\ttrain-MAP@3:0.705462\ttest-MAP@3:0.649057\n",
      "[27]\ttrain-MAP@3:0.705882\ttest-MAP@3:0.660377\n",
      "[28]\ttrain-MAP@3:0.709664\ttest-MAP@3:0.660377\n",
      "[29]\ttrain-MAP@3:0.710084\ttest-MAP@3:0.667925\n",
      "[30]\ttrain-MAP@3:0.711765\ttest-MAP@3:0.671698\n",
      "[31]\ttrain-MAP@3:0.713025\ttest-MAP@3:0.664151\n",
      "[32]\ttrain-MAP@3:0.714286\ttest-MAP@3:0.671698\n",
      "[33]\ttrain-MAP@3:0.714286\ttest-MAP@3:0.671698\n",
      "[34]\ttrain-MAP@3:0.715966\ttest-MAP@3:0.671698\n",
      "[35]\ttrain-MAP@3:0.717227\ttest-MAP@3:0.671698\n",
      "[36]\ttrain-MAP@3:0.716387\ttest-MAP@3:0.667925\n",
      "[37]\ttrain-MAP@3:0.717647\ttest-MAP@3:0.667925\n",
      "[38]\ttrain-MAP@3:0.718908\ttest-MAP@3:0.667925\n",
      "[39]\ttrain-MAP@3:0.720168\ttest-MAP@3:0.671698\n",
      "[40]\ttrain-MAP@3:0.721008\ttest-MAP@3:0.671698\n",
      "[41]\ttrain-MAP@3:0.721849\ttest-MAP@3:0.675472\n",
      "[42]\ttrain-MAP@3:0.721849\ttest-MAP@3:0.671698\n",
      "[43]\ttrain-MAP@3:0.722689\ttest-MAP@3:0.675472\n",
      "[44]\ttrain-MAP@3:0.723529\ttest-MAP@3:0.675472\n",
      "[45]\ttrain-MAP@3:0.72479\ttest-MAP@3:0.671698\n",
      "[46]\ttrain-MAP@3:0.72479\ttest-MAP@3:0.671698\n",
      "[47]\ttrain-MAP@3:0.72479\ttest-MAP@3:0.675472\n",
      "[48]\ttrain-MAP@3:0.72521\ttest-MAP@3:0.675472\n",
      "[49]\ttrain-MAP@3:0.72605\ttest-MAP@3:0.675472\n"
     ]
    }
   ],
   "source": [
    "x2 = trans_x2(train[:, 1:-1])[0]\n",
    "x_test2 = trans_x2(test[:, 1:-1])[0]\n",
    "dtrain2 = xgb.DMatrix(x2, label = np.ravel(y))\n",
    "dtest2 = xgb.DMatrix(x_test2, label = np.ravel(y_test))\n",
    "bst3 = xgb.train(params, dtrain2, 50, evals = [(dtrain2,'train'), (dtest2, 'test')], verbose_eval = True, feval = xgbm.map3eval)"
   ]
  },
  {
   "cell_type": "code",
   "execution_count": 144,
   "metadata": {
    "collapsed": false
   },
   "outputs": [
    {
     "data": {
      "text/plain": [
       "[('f22', 341),\n",
       " ('f20', 326),\n",
       " ('f24', 322),\n",
       " ('f12', 206),\n",
       " ('f23', 198),\n",
       " ('f1', 196),\n",
       " ('f35', 179),\n",
       " ('f36', 162),\n",
       " ('f21', 157),\n",
       " ('f37', 147)]"
      ]
     },
     "execution_count": 144,
     "metadata": {},
     "output_type": "execute_result"
    }
   ],
   "source": [
    "sorted(bst.get_fscore().items(), reverse = True, cmp = lambda x, y:cmp(x[1], y[1]))[:10]"
   ]
  },
  {
   "cell_type": "code",
   "execution_count": 202,
   "metadata": {
    "collapsed": false
   },
   "outputs": [
    {
     "name": "stdout",
     "output_type": "stream",
     "text": [
      "(2286, 13)\n",
      "(2286,)\n",
      "(254, 13)\n",
      "(254,)\n"
     ]
    }
   ],
   "source": [
    "data_combined = np.hstack((data[:, :-1], data_features[:, 1:], data[:, -1].reshape(-1, 1)))\n",
    "mask4 = np.array(map(lambda x: g.M[0][0][x] > 10, data_combined[:, -1]))\n",
    "masked_data4 = data_combined[mask4, :]\n",
    "train4, test4= train_test_split(masked_data4, test_size=0.1)\n",
    "y_orig4, enc4 = xgbm.trans_y(masked_data4[:, -1])\n",
    "y4 = enc4['encoder'].transform(train4[:, -1])\n",
    "y_test4 = enc4['encoder'].transform(test4[:, -1])\n",
    "params['num_class'] = len(enc4['encoder'].classes_)\n",
    "\n",
    "x4 = trans_x2(train4[:, 1:-1])[0]\n",
    "x_test4 = trans_x2(test4[:, 1:-1])[0]\n"
   ]
  },
  {
   "cell_type": "code",
   "execution_count": 220,
   "metadata": {
    "collapsed": true
   },
   "outputs": [],
   "source": [
    "from sklearn.naive_bayes import GaussianNB\n",
    "import helpers"
   ]
  },
  {
   "cell_type": "code",
   "execution_count": 203,
   "metadata": {
    "collapsed": false
   },
   "outputs": [
    {
     "name": "stdout",
     "output_type": "stream",
     "text": [
      "[0]\ttrain-MAP@3:0.656605\ttest-MAP@3:0.637795\n",
      "[1]\ttrain-MAP@3:0.686789\ttest-MAP@3:0.65748\n",
      "[2]\ttrain-MAP@3:0.692038\ttest-MAP@3:0.669291\n",
      "[3]\ttrain-MAP@3:0.692913\ttest-MAP@3:0.681102\n",
      "[4]\ttrain-MAP@3:0.701225\ttest-MAP@3:0.681102\n",
      "[5]\ttrain-MAP@3:0.708661\ttest-MAP@3:0.688976\n",
      "[6]\ttrain-MAP@3:0.712598\ttest-MAP@3:0.69685\n",
      "[7]\ttrain-MAP@3:0.71741\ttest-MAP@3:0.708661\n",
      "[8]\ttrain-MAP@3:0.720472\ttest-MAP@3:0.712598\n",
      "[9]\ttrain-MAP@3:0.724409\ttest-MAP@3:0.708661\n",
      "[10]\ttrain-MAP@3:0.726159\ttest-MAP@3:0.716535\n",
      "[11]\ttrain-MAP@3:0.727034\ttest-MAP@3:0.708661\n",
      "[12]\ttrain-MAP@3:0.726159\ttest-MAP@3:0.712598\n",
      "[13]\ttrain-MAP@3:0.730096\ttest-MAP@3:0.724409\n",
      "[14]\ttrain-MAP@3:0.731409\ttest-MAP@3:0.724409\n",
      "[15]\ttrain-MAP@3:0.734471\ttest-MAP@3:0.724409\n",
      "[16]\ttrain-MAP@3:0.734908\ttest-MAP@3:0.724409\n",
      "[17]\ttrain-MAP@3:0.738408\ttest-MAP@3:0.724409\n",
      "[18]\ttrain-MAP@3:0.741032\ttest-MAP@3:0.728346\n",
      "[19]\ttrain-MAP@3:0.739283\ttest-MAP@3:0.724409\n",
      "[20]\ttrain-MAP@3:0.741032\ttest-MAP@3:0.724409\n",
      "[21]\ttrain-MAP@3:0.742345\ttest-MAP@3:0.724409\n",
      "[22]\ttrain-MAP@3:0.74322\ttest-MAP@3:0.732283\n",
      "[23]\ttrain-MAP@3:0.744094\ttest-MAP@3:0.732283\n",
      "[24]\ttrain-MAP@3:0.742782\ttest-MAP@3:0.732283\n",
      "[25]\ttrain-MAP@3:0.743657\ttest-MAP@3:0.728346\n",
      "[26]\ttrain-MAP@3:0.745407\ttest-MAP@3:0.728346\n",
      "[27]\ttrain-MAP@3:0.747157\ttest-MAP@3:0.73622\n",
      "[28]\ttrain-MAP@3:0.747157\ttest-MAP@3:0.732283\n",
      "[29]\ttrain-MAP@3:0.748469\ttest-MAP@3:0.732283\n",
      "[30]\ttrain-MAP@3:0.748906\ttest-MAP@3:0.740157\n",
      "[31]\ttrain-MAP@3:0.749781\ttest-MAP@3:0.73622\n",
      "[32]\ttrain-MAP@3:0.751531\ttest-MAP@3:0.73622\n",
      "[33]\ttrain-MAP@3:0.751969\ttest-MAP@3:0.732283\n",
      "[34]\ttrain-MAP@3:0.751969\ttest-MAP@3:0.728346\n",
      "[35]\ttrain-MAP@3:0.751531\ttest-MAP@3:0.732283\n",
      "[36]\ttrain-MAP@3:0.754156\ttest-MAP@3:0.73622\n",
      "[37]\ttrain-MAP@3:0.754156\ttest-MAP@3:0.73622\n",
      "[38]\ttrain-MAP@3:0.754593\ttest-MAP@3:0.73622\n",
      "[39]\ttrain-MAP@3:0.754156\ttest-MAP@3:0.732283\n",
      "[40]\ttrain-MAP@3:0.754593\ttest-MAP@3:0.732283\n",
      "[41]\ttrain-MAP@3:0.755468\ttest-MAP@3:0.73622\n",
      "[42]\ttrain-MAP@3:0.756343\ttest-MAP@3:0.732283\n",
      "[43]\ttrain-MAP@3:0.75853\ttest-MAP@3:0.73622\n",
      "[44]\ttrain-MAP@3:0.758968\ttest-MAP@3:0.73622\n",
      "[45]\ttrain-MAP@3:0.76028\ttest-MAP@3:0.73622\n",
      "[46]\ttrain-MAP@3:0.760717\ttest-MAP@3:0.732283\n",
      "[47]\ttrain-MAP@3:0.76203\ttest-MAP@3:0.732283\n",
      "[48]\ttrain-MAP@3:0.763342\ttest-MAP@3:0.732283\n",
      "[49]\ttrain-MAP@3:0.764217\ttest-MAP@3:0.73622\n"
     ]
    }
   ],
   "source": [
    "dtrain4 = xgb.DMatrix(x4, label = np.ravel(y4))\n",
    "dtest4 = xgb.DMatrix(x_test4, label = np.ravel(y_test4))\n",
    "bst4 = xgb.train(params, dtrain4, 50, evals = [(dtrain4,'train'), (dtest4, 'test')], verbose_eval = True, feval = xgbm.map3eval)\n",
    "bst_map = mapk(bst4.predict(dtest4), y_test4, enc4)"
   ]
  },
  {
   "cell_type": "code",
   "execution_count": 204,
   "metadata": {
    "collapsed": false
   },
   "outputs": [],
   "source": [
    "gnb = GaussianNB()\n",
    "gnb.fit(x4, y4)\n",
    "gnb_preds = gnb.predict_proba(x_test4)\n",
    "gnb_map = mapk(gnb_preds, y_test4, enc4)\n",
    "\n",
    "rfc = RandomForestClassifier()\n",
    "rfc.fit(x4, y4)\n",
    "rfc_preds = rfc.predict_proba(x_test4)\n",
    "rfc_map = mapk(rfc_preds, y_test4, enc4)\n",
    "\n",
    "abc = AdaBoostClassifier()\n",
    "abc.fit(x4, y4)\n",
    "abc_preds = abc.predict_proba(x_test4)\n",
    "abc_map = mapk(abc_preds, y_test4, enc4)"
   ]
  },
  {
   "cell_type": "code",
   "execution_count": 201,
   "metadata": {
    "collapsed": false
   },
   "outputs": [],
   "source": [
    "def mapk(probs, y, enc):\n",
    "    y_places = enc['encoder'].inverse_transform(np.argsort(probs, axis = 1)[:, ::-1][:, :3])\n",
    "    a_places = enc['encoder'].inverse_transform(y).reshape(-1, 1)\n",
    "    rows = np.hstack((y_places, a_places))\n",
    "    m = np.mean(map(lambda row: helpers.apk(row[-1:], row[:-1]), rows))\n",
    "    return m"
   ]
  },
  {
   "cell_type": "code",
   "execution_count": 209,
   "metadata": {
    "collapsed": false
   },
   "outputs": [
    {
     "name": "stdout",
     "output_type": "stream",
     "text": [
      "0.737532808399 0.660104986877 0.71062992126 0.406167979003\n"
     ]
    }
   ],
   "source": [
    "print bst_map, gnb_map, rfc_map, abc_map"
   ]
  },
  {
   "cell_type": "code",
   "execution_count": 217,
   "metadata": {
    "collapsed": false
   },
   "outputs": [],
   "source": [
    "rfc1 = RandomForestClassifier(n_estimators=30, max_depth = 13, max_features='log2')\n",
    "rfc1.fit(x4, y4)\n",
    "rfc_preds1 = rfc.predict_proba(x_test4)\n",
    "rfc_map1 = mapk(rfc_preds1, y_test4, enc4)"
   ]
  },
  {
   "cell_type": "code",
   "execution_count": 218,
   "metadata": {
    "collapsed": false
   },
   "outputs": [
    {
     "data": {
      "text/plain": [
       "0.71062992125984248"
      ]
     },
     "execution_count": 218,
     "metadata": {},
     "output_type": "execute_result"
    }
   ],
   "source": [
    "rfc_map1"
   ]
  },
  {
   "cell_type": "code",
   "execution_count": 207,
   "metadata": {
    "collapsed": true
   },
   "outputs": [],
   "source": []
  },
  {
   "cell_type": "code",
   "execution_count": 208,
   "metadata": {
    "collapsed": false
   },
   "outputs": [
    {
     "data": {
      "text/plain": [
       "0.40616797900262464"
      ]
     },
     "execution_count": 208,
     "metadata": {},
     "output_type": "execute_result"
    }
   ],
   "source": [
    "abc_map"
   ]
  },
  {
   "cell_type": "code",
   "execution_count": 219,
   "metadata": {
    "collapsed": true
   },
   "outputs": [],
   "source": [
    "import numpy as np"
   ]
  },
  {
   "cell_type": "code",
   "execution_count": 229,
   "metadata": {
    "collapsed": true
   },
   "outputs": [],
   "source": [
    "cv_top_t = np.loadtxt('../grid_200_50_20_5_ec2_colsample_bytree0_6_scale_pos_weight1_min_child_weight6_subsample0_9_eta0_1_max_depth3_gamma0_1_th3_n200/cv_top_t.csv', delimiter = ',', dtype = int)"
   ]
  },
  {
   "cell_type": "code",
   "execution_count": 230,
   "metadata": {
    "collapsed": true
   },
   "outputs": [],
   "source": [
    "cv_ac = np.loadtxt('../main_cv_0.02_5.csv', delimiter = ',', dtype = int, usecols = (0, 5))"
   ]
  },
  {
   "cell_type": "code",
   "execution_count": 232,
   "metadata": {
    "collapsed": false
   },
   "outputs": [],
   "source": [
    "ranks = []\n",
    "for i in range(len(cv_ac)):\n",
    "    a_p = cv_ac[i][1]\n",
    "    preds = list(cv_top_t[i])\n",
    "    if preds.count(a_p) == 0:\n",
    "        ranks.append(0)\n",
    "    else:\n",
    "        ranks.append(preds.index(a_p))"
   ]
  },
  {
   "cell_type": "code",
   "execution_count": 233,
   "metadata": {
    "collapsed": false
   },
   "outputs": [
    {
     "data": {
      "text/plain": [
       "0.13196571622947242"
      ]
     },
     "execution_count": 233,
     "metadata": {},
     "output_type": "execute_result"
    }
   ],
   "source": [
    "ranks.count(0)/float(len(ranks))"
   ]
  },
  {
   "cell_type": "code",
   "execution_count": 234,
   "metadata": {
    "collapsed": false
   },
   "outputs": [
    {
     "data": {
      "text/plain": [
       "0.5930683424872398"
      ]
     },
     "execution_count": 234,
     "metadata": {},
     "output_type": "execute_result"
    }
   ],
   "source": [
    "ranks.count(1)/float(len(ranks))"
   ]
  },
  {
   "cell_type": "code",
   "execution_count": 235,
   "metadata": {
    "collapsed": false
   },
   "outputs": [
    {
     "data": {
      "text/plain": [
       "0.5930683424872398"
      ]
     },
     "execution_count": 235,
     "metadata": {},
     "output_type": "execute_result"
    }
   ],
   "source": [
    "ranks.count(1)/float(len(ranks))"
   ]
  },
  {
   "cell_type": "code",
   "execution_count": 237,
   "metadata": {
    "collapsed": false
   },
   "outputs": [
    {
     "name": "stdout",
     "output_type": "stream",
     "text": [
      " 0 0.131965716229\n",
      "1 0.593068342487\n",
      "2 0.123868932781\n",
      "3 0.0533566518864\n",
      "4 0.0302826229249\n",
      "5 0.0203922808259\n",
      "6 0.0141612106864\n",
      "7 0.0110018674313\n",
      "8 0.00861904573746\n",
      "9 0.00716220882589\n"
     ]
    }
   ],
   "source": [
    "for i in range(10):\n",
    "    print i, ranks.count(i)/float(len(ranks))"
   ]
  },
  {
   "cell_type": "code",
   "execution_count": 238,
   "metadata": {
    "collapsed": false
   },
   "outputs": [
    {
     "data": {
      "text/plain": [
       "1.0"
      ]
     },
     "execution_count": 238,
     "metadata": {},
     "output_type": "execute_result"
    }
   ],
   "source": [
    "helpers.apk([1], [1,2,3])"
   ]
  },
  {
   "cell_type": "code",
   "execution_count": 239,
   "metadata": {
    "collapsed": false
   },
   "outputs": [
    {
     "data": {
      "text/plain": [
       "0.5"
      ]
     },
     "execution_count": 239,
     "metadata": {},
     "output_type": "execute_result"
    }
   ],
   "source": [
    "helpers.apk([2], [1, 2, 3])"
   ]
  },
  {
   "cell_type": "code",
   "execution_count": 240,
   "metadata": {
    "collapsed": false
   },
   "outputs": [
    {
     "data": {
      "text/plain": [
       "0.3333333333333333"
      ]
     },
     "execution_count": 240,
     "metadata": {},
     "output_type": "execute_result"
    }
   ],
   "source": [
    "helpers.apk([3], [1,2,3])"
   ]
  },
  {
   "cell_type": "code",
   "execution_count": 247,
   "metadata": {
    "collapsed": false
   },
   "outputs": [],
   "source": [
    "apk_dict = {1: 1.0/1.0, 2: 1.0/2.0, 3: 1.0/3.0}\n",
    "\n",
    "def get_apk_dict(s):\n",
    "    if s in apk_dict:\n",
    "        return apk_dict[s]\n",
    "    else:\n",
    "        return 0.0"
   ]
  },
  {
   "cell_type": "code",
   "execution_count": 244,
   "metadata": {
    "collapsed": false
   },
   "outputs": [
    {
     "data": {
      "text/plain": [
       "1.0"
      ]
     },
     "execution_count": 244,
     "metadata": {},
     "output_type": "execute_result"
    }
   ],
   "source": [
    "apk_dict[1]"
   ]
  },
  {
   "cell_type": "code",
   "execution_count": 248,
   "metadata": {
    "collapsed": false
   },
   "outputs": [],
   "source": [
    "m = np.mean(map(get_apk_dict, ranks))"
   ]
  },
  {
   "cell_type": "code",
   "execution_count": 249,
   "metadata": {
    "collapsed": false
   },
   "outputs": [
    {
     "data": {
      "text/plain": [
       "0.67278835950657656"
      ]
     },
     "execution_count": 249,
     "metadata": {},
     "output_type": "execute_result"
    }
   ],
   "source": [
    "m"
   ]
  },
  {
   "cell_type": "code",
   "execution_count": 252,
   "metadata": {
    "collapsed": false
   },
   "outputs": [],
   "source": [
    "import copy\n",
    "ranks1 = copy.copy(ranks)"
   ]
  },
  {
   "cell_type": "code",
   "execution_count": 256,
   "metadata": {
    "collapsed": true
   },
   "outputs": [],
   "source": [
    "for i in range(len(ranks)):\n",
    "    if ranks1[i] == 2:\n",
    "        ranks1[i] = 1"
   ]
  },
  {
   "cell_type": "code",
   "execution_count": 257,
   "metadata": {
    "collapsed": false
   },
   "outputs": [
    {
     "data": {
      "text/plain": [
       "0.73472282589710847"
      ]
     },
     "execution_count": 257,
     "metadata": {},
     "output_type": "execute_result"
    }
   ],
   "source": [
    "np.mean(map(get_apk_dict, ranks1))"
   ]
  },
  {
   "cell_type": "code",
   "execution_count": 255,
   "metadata": {
    "collapsed": false
   },
   "outputs": [
    {
     "name": "stdout",
     "output_type": "stream",
     "text": [
      "0 0.131965716229\n",
      "1 0.593068342487\n",
      "2 0.123868932781\n",
      "3 0.0533566518864\n",
      "4 0.0302826229249\n",
      "5 0.0203922808259\n",
      "6 0.0141612106864\n",
      "7 0.0110018674313\n",
      "8 0.00861904573746\n",
      "9 0.00716220882589\n"
     ]
    }
   ],
   "source": [
    "for i in range(10):\n",
    "    print i, ranks1.count(i)/float(len(ranks))"
   ]
  },
  {
   "cell_type": "code",
   "execution_count": 259,
   "metadata": {
    "collapsed": false
   },
   "outputs": [],
   "source": [
    "import numpy as np"
   ]
  },
  {
   "cell_type": "code",
   "execution_count": 261,
   "metadata": {
    "collapsed": false
   },
   "outputs": [],
   "source": [
    "import scipy as sp"
   ]
  },
  {
   "cell_type": "code",
   "execution_count": 264,
   "metadata": {
    "collapsed": false
   },
   "outputs": [],
   "source": [
    "m = sp.stats.mode([1,1, 2, 3])"
   ]
  },
  {
   "cell_type": "code",
   "execution_count": 274,
   "metadata": {
    "collapsed": false
   },
   "outputs": [
    {
     "data": {
      "text/plain": [
       "ModeResult(mode=array([[1, 1, 2]]), count=array([[2, 2, 2]]))"
      ]
     },
     "execution_count": 274,
     "metadata": {},
     "output_type": "execute_result"
    }
   ],
   "source": [
    "sp.stats.mode([[1,2,3], [1,1,2], [2,1,3], [2, 3, 2]])"
   ]
  },
  {
   "cell_type": "code",
   "execution_count": 275,
   "metadata": {
    "collapsed": false
   },
   "outputs": [
    {
     "data": {
      "text/plain": [
       "2.0"
      ]
     },
     "execution_count": 275,
     "metadata": {},
     "output_type": "execute_result"
    }
   ],
   "source": [
    "np.median([[1,2,3], [1,1,2], [2,1,3], [2, 3, 2]])"
   ]
  },
  {
   "cell_type": "code",
   "execution_count": 277,
   "metadata": {
    "collapsed": false
   },
   "outputs": [
    {
     "data": {
      "text/plain": [
       "ModeResult(mode=array([1]), count=array([2]))"
      ]
     },
     "execution_count": 277,
     "metadata": {},
     "output_type": "execute_result"
    }
   ],
   "source": [
    "sp.stats.mode([1, 1, 2, 2])"
   ]
  },
  {
   "cell_type": "code",
   "execution_count": 278,
   "metadata": {
    "collapsed": true
   },
   "outputs": [],
   "source": [
    "import grid_generation as grid\n",
    "import feature_engineering as feat\n",
    "g = grid.Grid(200, 50, 20, 5, pref = 'grid')\n",
    "submission_name = 'grid_200_50_20_5_def_params_th7_n100'"
   ]
  },
  {
   "cell_type": "code",
   "execution_count": 280,
   "metadata": {
    "collapsed": false
   },
   "outputs": [],
   "source": [
    "top_t_cv = np.loadtxt(g.getTopPlacesFolder(submission_name) + 'cv_top_t.csv', delimiter = ',', dtype = int)"
   ]
  },
  {
   "cell_type": "code",
   "execution_count": 284,
   "metadata": {
    "collapsed": true
   },
   "outputs": [],
   "source": [
    "ranks = []\n",
    "for i in range(len(cv_ac)):\n",
    "    a_p = cv_ac[i][1]\n",
    "    preds = list(top_t_cv[i])\n",
    "    if preds.count(a_p) == 0:\n",
    "        ranks.append(0)\n",
    "    else:\n",
    "        ranks.append(preds.index(a_p))"
   ]
  },
  {
   "cell_type": "code",
   "execution_count": 285,
   "metadata": {
    "collapsed": false
   },
   "outputs": [
    {
     "name": "stdout",
     "output_type": "stream",
     "text": [
      "0 0.134001508376\n",
      "1 0.591561684502\n",
      "2 0.124068217076\n",
      "3 0.054018069588\n",
      "4 0.0303032385416\n",
      "5 0.0200126098855\n",
      "6 0.0143965723101\n",
      "7 0.0107665058076\n",
      "8 0.0084335051874\n",
      "9 0.00682376911884\n"
     ]
    }
   ],
   "source": [
    "for i in range(10):\n",
    "    print i, ranks.count(i)/float(len(ranks))"
   ]
  },
  {
   "cell_type": "code",
   "execution_count": 286,
   "metadata": {
    "collapsed": false
   },
   "outputs": [
    {
     "data": {
      "text/plain": [
       "0.67160181623582893"
      ]
     },
     "execution_count": 286,
     "metadata": {},
     "output_type": "execute_result"
    }
   ],
   "source": [
    "np.mean(map(get_apk_dict, ranks))"
   ]
  },
  {
   "cell_type": "code",
   "execution_count": null,
   "metadata": {
    "collapsed": true
   },
   "outputs": [],
   "source": []
  }
 ],
 "metadata": {
  "kernelspec": {
   "display_name": "Python 2",
   "language": "python",
   "name": "python2"
  },
  "language_info": {
   "codemirror_mode": {
    "name": "ipython",
    "version": 2
   },
   "file_extension": ".py",
   "mimetype": "text/x-python",
   "name": "python",
   "nbconvert_exporter": "python",
   "pygments_lexer": "ipython2",
   "version": "2.7.6"
  }
 },
 "nbformat": 4,
 "nbformat_minor": 0
}
